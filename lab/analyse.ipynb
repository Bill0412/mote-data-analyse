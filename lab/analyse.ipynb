{
 "cells": [
  {
   "cell_type": "markdown",
   "metadata": {},
   "source": [
    "Table of Contents\n",
    "- Clean the JSON texts\n",
    "- Overview on Features\n",
    "- Requirement Analysis"
   ]
  },
  {
   "cell_type": "code",
   "execution_count": 1,
   "metadata": {},
   "outputs": [],
   "source": [
    "import json"
   ]
  },
  {
   "cell_type": "markdown",
   "metadata": {},
   "source": [
    "## Clean the JSON texts"
   ]
  },
  {
   "cell_type": "markdown",
   "metadata": {},
   "source": [
    "Since the files are not in standard JSON format(there are `NaN`'s in the files) we should replace them with empty string firstly."
   ]
  },
  {
   "cell_type": "code",
   "execution_count": 98,
   "metadata": {},
   "outputs": [],
   "source": [
    "entities = ['tripadvisor_outlet', 'tripadvisor_reviews', 'tripadvisor_user', 'ubereats_menu', 'ubereats_outlet']"
   ]
  },
  {
   "cell_type": "code",
   "execution_count": 99,
   "metadata": {},
   "outputs": [
    {
     "data": {
      "text/plain": [
       "['tripadvisor_outlet.json',\n",
       " 'tripadvisor_reviews.json',\n",
       " 'tripadvisor_user.json',\n",
       " 'ubereats_menu.json',\n",
       " 'ubereats_outlet.json']"
      ]
     },
     "execution_count": 99,
     "metadata": {},
     "output_type": "execute_result"
    }
   ],
   "source": [
    "files = [e + '.json' for e in entities]\n",
    "files"
   ]
  },
  {
   "cell_type": "code",
   "execution_count": 100,
   "metadata": {},
   "outputs": [],
   "source": [
    "ext = '.json'\n",
    "base = 'data/'"
   ]
  },
  {
   "cell_type": "code",
   "execution_count": 101,
   "metadata": {},
   "outputs": [],
   "source": [
    "for entity in entities:\n",
    "    with open(base + entity + ext, 'r') as fin, open(base + entity + '_clean_nan' + ext, 'w') as fout:\n",
    "        for line in fin:\n",
    "            fout.write(line.replace('NaN', '\"\"'))"
   ]
  },
  {
   "cell_type": "code",
   "execution_count": 102,
   "metadata": {},
   "outputs": [
    {
     "data": {
      "text/plain": [
       "'data/tripadvisor_outlet.json'"
      ]
     },
     "execution_count": 102,
     "metadata": {},
     "output_type": "execute_result"
    }
   ],
   "source": [
    "base+files[0]"
   ]
  },
  {
   "cell_type": "code",
   "execution_count": 103,
   "metadata": {},
   "outputs": [
    {
     "data": {
      "text/plain": [
       "['tripadvisor_outlet_clean_nan.json',\n",
       " 'tripadvisor_reviews_clean_nan.json',\n",
       " 'tripadvisor_user_clean_nan.json',\n",
       " 'ubereats_menu_clean_nan.json',\n",
       " 'ubereats_outlet_clean_nan.json']"
      ]
     },
     "execution_count": 103,
     "metadata": {},
     "output_type": "execute_result"
    }
   ],
   "source": [
    "cleaned_files = [entity + '_clean_nan' + ext for entity in entities]\n",
    "cleaned_files"
   ]
  },
  {
   "cell_type": "code",
   "execution_count": 104,
   "metadata": {},
   "outputs": [],
   "source": [
    "tripadvisor_outlet, tripadvisor_reviews, tripadvisor_user, ubereats_menu, ubereats_outlet = [json.load(open(base + file, 'r')) for file in cleaned_files]"
   ]
  },
  {
   "cell_type": "markdown",
   "metadata": {},
   "source": [
    "## Overview on Features\n",
    "To intuitively view the data, I would like to aggregate the data by attributes(columns)."
   ]
  },
  {
   "cell_type": "markdown",
   "metadata": {},
   "source": [
    "### tripadvisor_outlet"
   ]
  },
  {
   "cell_type": "markdown",
   "metadata": {},
   "source": [
    "- addrss: str\n",
    "- city: str\n",
    "- country: int (indexed by country_code)\n",
    "- cuisines: table. This should be a separate table, since there's a many-to-many relationship\n",
    "- features: table. This should be a separate table, since there's a many-to-many relationship\n",
    "- id_outlet: str. This attribute is unique, as an id\n",
    "- lat: double\n",
    "- lon: double\n",
    "- menu: str\n",
    "- name: str\n",
    "- opening_hours: str\n",
    "- phone: str\n",
    "- postal_code: str\n",
    "- price_level: str, 3 possible values\n",
    "- price_range: str\n",
    "- rating: double\n",
    "- region: str\n",
    "- reviews_nr: double\n",
    "- special_diets: str\n",
    "- street: str\n",
    "- tags: separate table\n",
    "- url: str\n",
    "- website: url"
   ]
  },
  {
   "cell_type": "code",
   "execution_count": 105,
   "metadata": {},
   "outputs": [],
   "source": [
    "import random"
   ]
  },
  {
   "cell_type": "code",
   "execution_count": 106,
   "metadata": {},
   "outputs": [
    {
     "data": {
      "text/plain": [
       "(100,\n",
       " {'address': '15-19 Wellington St, Central, Hong Kong, China',\n",
       "  'city': '',\n",
       "  'country': 'China',\n",
       "  'cuisines': 'Chinese, Asian',\n",
       "  'features': 'Delivery, Takeout, Seating, Table Service',\n",
       "  'id_outlet': 'https://www.tripadvisor.com/Restaurant_Review-g294217-d798374-Reviews-Tsui_Wah_Restaurant-Hong_Kong.html',\n",
       "  'lat': 22.281681,\n",
       "  'lon': 114.155602,\n",
       "  'menu': '',\n",
       "  'name': 'Tsui Wah Restaurant',\n",
       "  'opening_hours': 'Tue - Sun\\n12:00 AM - 11:59 PM',\n",
       "  'phone': '+852 2525 6338',\n",
       "  'postal_code': '',\n",
       "  'price_level': '$$ - $$$',\n",
       "  'price_range': '',\n",
       "  'rating': 3.5,\n",
       "  'region': '',\n",
       "  'reviews_nr': 760.0,\n",
       "  'special_diets': '',\n",
       "  'street': '15-19 Wellington St, Central',\n",
       "  'tags': 'All reviews ; noodles ; fish balls ; soup ; pineapple bun ; brisket ; french toast ; macaroni ; condensed milk ; wellington street ; hong kong style ; restaurant chain ; an extensive menu ; decent food ; fast service ; chinese food ; hk ; branch ; ',\n",
       "  'url': 'https://www.tripadvisor.com/Restaurant_Review-g294217-d798374-Reviews-Tsui_Wah_Restaurant-Hong_Kong.html',\n",
       "  'website': 'http://tsuiwahrestaurant.com/?utm_source=tripadvisori&utm_medium=referral'})"
      ]
     },
     "execution_count": 106,
     "metadata": {},
     "output_type": "execute_result"
    }
   ],
   "source": [
    "len(tripadvisor_outlet), random.choice(tripadvisor_outlet)"
   ]
  },
  {
   "cell_type": "markdown",
   "metadata": {},
   "source": [
    "### analyze by attribute"
   ]
  },
  {
   "cell_type": "code",
   "execution_count": 209,
   "metadata": {},
   "outputs": [],
   "source": [
    "def by_attr(table, attr: str):\n",
    "    col_list = list()\n",
    "    for outlet in table:\n",
    "        col_list.append(outlet[attr])\n",
    "    print(col_list)\n",
    "    return list(set(col_list))"
   ]
  },
  {
   "cell_type": "code",
   "execution_count": 203,
   "metadata": {},
   "outputs": [],
   "source": [
    "def pprint_by_attr(table):\n",
    "    for attr in table[0]:\n",
    "        print(attr)\n",
    "        by_attr(table, attr)\n",
    "        print()"
   ]
  },
  {
   "cell_type": "code",
   "execution_count": 174,
   "metadata": {},
   "outputs": [
    {
     "name": "stdout",
     "output_type": "stream",
     "text": [
      "address\n",
      "['No.1 Austin Road West | International Commerce Centre,, Hong Kong, China', 'Shop 72, G/F, Olympian City 2, 18 Hoi Ting Road, Tai Kok Tsui | Olympian City Mall, Hong Kong, China', '29/F & 30/F, 1 Peking Road, Tsim Sha Tsui, Hong Kong, China', 'G/F 209A-209B Tung Choi Street | Prince Edward, Hong Kong, China', 'No.68 Yee Wo Street, Causeway Bay, Hong Kong, China', '1 Peking Road, Tsim Sha Tsui | 28/f, Hong Kong, China', 'Shop 12A, Hong Kong Station Podium Level 1, IFC Mall , Central, Hong Kong, China', 'G/F, 47-49 Parkes Street, Jordan, Hong Kong, China', '3/F, Silvercord, No.30 Canton Road, Tsim Sha Tsui, Kowloon, Hong Kong, China', '32-40 Wellington Street | Central, Hong Kong, China', 'Salisbury Road, Hong Kong, China', 'Shum Wan Pier Dr | Wong Chuk Hang, Hong Kong, China', 'L49 The Upper House, Pacific Place, No.88 Queensway, Admiralty, Hong Kong, China', 'Shop 304 & 305, Level 3, The Peak Tower, 128 Peak Road, Hong Kong, China', '1 Austin Road West | 102/F, The Ritz-Carlton, International Commerce Centre, Hong Kong, China', 'G/F, 9-11 Fuk Wing Street, Hong Kong, China', '2/F, Low Block, City Hall, Central, Hong Kong, China', '2/F, 42 Mody Road, Tsim Sha Tsui, Hong Kong, China', 'Basement, Standard Chartered Bank Building, No.4-4A Des Voeux Road Central, Central, Hong Kong, China', '1 Austin Road West | International Commerce Centre,, Hong Kong, China', '1 Austin Road West | International Commerce Centre, Hong Kong, China', 'G/F, 2 Austin Avenue, Tsim Sha Tsui, Kowloon, Hong Kong, China', '31/F & Rooftop The Hennessy, 256 Hennessy Road, Wan Chai, Hong Kong, China', '18 Salisbury Road | InterContinental Hong Kong, Hong Kong, China', 'The Peninsula Hotel, Salisbury Road, | Tsim Sha Tsui, Hong Kong, China', 'G/F, No.1-5 Elgin Street, SoHo, Hong Kong, China', \"15 Queen's Road | Landmark Atrium - Level 5 & 6, Hong Kong, China\", \"No.15 Queen's Road Central | 7/F, The Landmark Mandarin Oriental, Hong Kong, China\", '3/F, Grand Progress Building, No.15-16 Lan Kwai Fong, Central, Hong Kong, China', 'G/F, 34-38 Stanley Street, Hong Kong, China', 'No.226 Hennessy Road, Wan Chai | G/F, Po Wah Commercial Centre, Hong Kong, China', '8 Finance Street, Central | Podium 4, Four Seasons Hotel Hong Kong,, Hong Kong, China', 'G/F 160-164 Wellington Street, Central, Hong Kong, China', '88 Jervois Street, Sheung wan, Hong Kong, China', '77 Wellington St., Central, Hong Kong, China', '7 Tin Lok Lane, Causeway Bay, Wan Chai, Hong Kong, China', 'G/F., 21 Gough Street, Mid-Level, Central, Hong Kong, China', '47 Bute Street, Mongkok, Hong Kong, China', 'Shop A, Hong Kong Pacific Centre, 28 Hankow Road, Tsim Sha Tsu, Hong Kong, China', 'No.118 Peak Road | Shop G02, G/F, The Peak Galleria, Hong Kong, China', '35 Lydhurst Terrace, Central, Hong Kong, China', \"25/F, Prince's Building, 10 Chater Road, Central, Hong Kong, China\", '59 Wyndham Street, Central | G/f, Hong Kong, China', 'Shop 4C-D, Tower 1, PL/F., China Hong Kong City, Hong Kong, China', 'Level 2, Hotel ICON, 17 Science Museum Road, Tsim Sha Tsui East | Tsim Sha Tsui East, Kowloon,, Hong Kong, China', 'G/F-1/F, 17-19 Pak Hoi St., Yau Ma Te, Hong Kong, China', '6F, Four Seasons Hotel, Central | Four Seasons Hotel Hong Kong, Hong Kong, China', 'Shop 3328, Level 3, Gateway Arcade, Harbour City, 3-27 Canton Road, Tsim Sha Tsui, Kowloon, Hong Kong, China', '4th Floor, The Sheraton Hotel & Towers, No.20 Nathan Road, Tsim Sha Tsui | 20 Nathan Road, Kowloon, Hong Kong, China', 'Level 28, Hotel ICON, 17 Science Museum Road, Tsim Sha Tsui East, Hong Kong, China', \"15 Queen's Road Central, Hong Kong, China\", '30/F, No. 239 Hennessy Road | Wan Chai, Hong Kong Wan Chai, China', '112 Tung Choi Street, Hong Kong 000000, China', '121 Peak Road, The Peak, Hong Kong, China', \"LG/F LKF Tower, 55 D'Aguilar Street, Lan Kwai Fong | Central, Hong Kong 00000, China\", 'G5-8, 12-17, Empire Centre, No.68 Mody Road, Tsim Sha Tsui East, Kowloon, Hong Kong, China', '98 Wellington Street. Central, Hong Kong, China', '15-19 Wellington St, Central, Hong Kong, China', '77 Wyndham Street, Hong Kong, China', 'Shop 2075, 2/F, IFC, 8 Finance Street, Central District | Shop 2075, Podium 2, ifc mall, Hong Kong, China', '5 Connaught Road Central | 5 Connaught Road Central, Hong Kong 000000, China', 'Jordan road, Hong Kong, China', '405 Lockhart Road, Wan Chai, Hong Kong, China', '2nd Floor, Grand Progress Building,15-16 Lan Kwai Fong, Hong Kong, China', 'No.24-26 Stanley Street, Central, Hong Kong, China', '3/F, Star House, Tsimshatsui, Kowloon, Hong Kong, China', '18 Salisbury Road, Tsim Sha Tsui | InterContinental Hong Kong,, Hong Kong, China', 'Level 21, The ONE, No.100 Nathan Road, Tsim Sha Tsui, Kowloon, Hong Kong, China', '1 Austin Road West,Kowloon | 6/F, W Hong Kong, Hong Kong, China', '26-28 Man Wui St, Jordan, Kowloon | Austin Station Exit A, Hong Kong, China', '2/F, Soundwill Plaza II- Midtown, No.1 Tang Lung Street, Causeway Bay, Hong Kong, China', '2-3/F, No.46-50 Des Voeux Road West, Sheung Wan, Hong Kong, China', '16-20 Chater Road | Shop B1, Basement 1, Alexandra House, Hong Kong, China', '1st Floor, Carfield Building, 77 Wyndham Street,Central, Hong Kong, China', '5 Connaught Road Central | 5 Connaught Road Central, Hong Kong 000000, China', '18 Salisbury Road, Tsim Sha Tsui | InterContinental Hong Kong, Hong Kong, China', '51 Parkes Street, Yaumatei, Hong Kong, China', '6/F, Cordis, Hong Kong at Langham Place | 555 Shanghai Street, Mongkok, Kowloon, Hong Kong, China', '62 Johnston Road, Wan Chai, Hong Kong, China', '18 Salisbury Road | InterContinental HongKong, Hong Kong, China', 'No.77 Peking Road | Tsim Sha Tsui, Hong Kong, China', 'No.22 Ship Street, Wan Chai, Hong Kong, China', '5 Connaught Road Central | 5 Connaught Road Central, Hong Kong 000000, China', '2-8 Wharf Road, Seaview Building, North Point | Shop B, C, & D, G/F, Hong Kong, China', '11 Sai Kung Street,, Jordan, Hong Kong, China', 'Shop G63, G/F, Ocean Terminal, Harbour City, 3-27 Canton Road, Tsim Sha Tsui, Kowloon, Hong Kong, China', 'Ground Floor, 7 - 9 Butt Street, Sheung Wan, Hong Kong, China', '202 Alexandra, 18 House Chater Rd.Central, Hong Kong, China', 'G/F 66 Staunton Street, Central, Hong Kong, China', 'No.11 Humphreys Avenue | B/F, Tsim Sha Tsui, Hong Kong 999077, China', '1 Austin Road West | International Commerce Centre,, Hong Kong 852, China', '5/F, Prince Tower, 12A Peking Road, Tsim Sha Tsui, Kowloon, Hong Kong 999077, China', 'No.8 Peking Road | Tsim Sha Tsui, Hong Kong, China', 'Shop 307, 3rd Floor, iSQUARE, No.63 Nathan Road, Tsim Sha Tsui, Hong Kong, China', 'G/F, 14 Shelley Street, Central | 15 Ship Street, Wan Chai, Hong Kong, China', 'Shop G62, G/F, Ocean Terminal, Harbour City, 3-27 Canton Road, Tsim Sha Tsui, Kowloon, Hong Kong 2730 3508, China', 'Shop 13, 2/F J Residence; 60 Johnston Road,Wan Chai | (Lift entrance at top of Ship Street), Hong Kong, China', '12th Floor, Hysan Place, 500 Hennessy Road, Causeway Bay, Hong Kong, China', 'G/F2 Gage Street Central, Hong Kong, China', 'G/F, 19-21 Mau Lam Street, Yau Ma Tei, Kowloon, Jordan, Hong Kong, China']\n",
      "\n",
      "city\n",
      "['', '', '', '', '', '', '', '', '', '', '', '', '', '', '', '', '', '', '', '', '', '', '', '', '', '', '', '', '', '', '', '', '', '', '', '', '', '', '', '', '', '', '', '', '', '', '', '', '', '', '', '', '', '', '', '', '', '', '', '', '', '', '', '', '', '', '', '', '', '', '', '', '', '', '', '', '', '', '', '', '', '', '', '', '', '', '', '', '', '', '', '', '', '', '', '', '', '', '', '']\n",
      "\n",
      "country\n",
      "['China', 'China', 'China', 'China', 'China', 'China', 'China', 'China', 'China', 'China', 'China', 'China', 'China', 'China', 'China', 'China', 'China', 'China', 'China', 'China', 'China', 'China', 'China', 'China', 'China', 'China', 'China', 'China', 'China', 'China', 'China', 'China', 'China', 'China', 'China', 'China', 'China', 'China', 'China', 'China', 'China', 'China', 'China', 'China', 'China', 'China', 'China', 'China', 'China', 'China', 'China', 'China', 'China', 'China', 'China', 'China', 'China', 'China', 'China', 'China', 'China', 'China', 'China', 'China', 'China', 'China', 'China', 'China', 'China', 'China', 'China', 'China', 'China', 'China', 'China', 'China', 'China', 'China', 'China', 'China', 'China', 'China', 'China', 'China', 'China', 'China', 'China', 'China', 'China', 'China', 'China', 'China', 'China', 'China', 'China', 'China', 'China', 'China', 'China', 'China']\n",
      "\n",
      "cuisines\n",
      "['Bar', 'Chinese, Asian', 'Italian, Japanese, European, Asian, Sushi', 'Chinese', 'Chinese, Asian, Taiwanese', 'Chinese, Asian', 'Chinese, Asian', 'Chinese', 'Chinese, Asian, Taiwanese', 'Chinese, Asian', 'European, British, International', 'Seafood, Chinese, International, Fusion', 'International, European', 'American, Bar, Seafood', 'Chinese, Asian', 'Chinese, Asian', 'Chinese, Asian', 'Chinese, Asian', 'Chinese, Asian', 'Italian, European', 'Bar, International, Pub', 'French, Bar, European, Wine Bar', 'Steakhouse', 'Japanese, Seafood, Sushi, Healthy', 'European, Contemporary', 'Taiwanese, Chinese, Asian', 'Japanese, Sushi, Asian', 'Contemporary', 'Steakhouse, Brazilian, Barbecue, South American', 'Chinese, Asian', 'Chinese', 'Chinese, Asian', 'Chinese, Asian', 'Chinese, Asian', 'Chinese, Asian, Soups', 'Chinese, Asian', 'Chinese, Asian, Soups', 'Chinese, Cafe, Asian', 'Chinese, Asian', '', '', 'Bar', 'Chinese, Asian', 'Italian, Pizza, Mediterranean, European', 'Seafood, International, Street Food', 'Fast Food, Asian, Chinese', 'French, European', 'Chinese, Asian', 'American, Steakhouse', 'Chinese, Asian', 'French, European', 'Italian, European', 'Chinese, Asian', 'European, International', 'American, Bar', 'Italian, European', 'Chinese, Asian, Soups', 'Chinese, Asian', 'Indian, Asian', 'Italian, European', 'European', '', 'Chinese, Seafood, Asian', 'Italian, Steakhouse', 'Chinese, Asian', '', 'Chinese, Asian', 'Steakhouse, European, Australian', 'European, Asian, International', 'Chinese, Asian', 'Italian, European', 'Chinese, Asian', 'Chinese', 'Steakhouse, Latin, Argentinean', 'Chinese, Asian', 'Bar, Healthy, International', 'Chinese, Asian', 'Chinese, Asian', 'Bar, European, International', 'Seafood, Healthy, International', 'Irish, Bar, European, British, Pub', 'European, Spanish, Contemporary', 'International', 'Chinese, Asian', 'Chinese, Asian', 'Italian, Pizza, European', 'Chinese, Asian', 'Italian, European', 'Asian, International, Fusion', 'Chinese, Asian', 'Seafood, Cafe, International', 'Indian, Asian', 'Chinese, Asian', 'Italian, Pizza, European', 'Italian, Pizza', 'American, Steakhouse', 'Chinese, Asian', 'Chinese, Asian', 'Chinese, Asian', 'Asian, Chinese, International']\n",
      "\n",
      "features\n",
      "['Outdoor Seating, Seating, Parking Available, Validated Parking, Valet Parking, Serves Alcohol, Full Bar, Accepts American Express, Accepts Mastercard, Accepts Visa, Free Wifi, Reservations, Wheelchair Accessible, Accepts Credit Cards, Table Service, Wine and Beer, Live Music', 'Takeout, Seating, Table Service', 'Reservations, Private Dining, Seating, Serves Alcohol, Full Bar, Free Wifi, Accepts Credit Cards, Table Service', 'Takeout, Seating, Table Service', 'Takeout, Seating, Highchairs Available, Wheelchair Accessible, Serves Alcohol, Accepts Credit Cards, Table Service', 'Reservations, Private Dining, Seating, Wheelchair Accessible, Serves Alcohol, Full Bar, Free Wifi, Accepts Credit Cards, Table Service', 'Takeout, Seating, Table Service', '', 'Takeout, Seating, Highchairs Available, Wheelchair Accessible, Serves Alcohol, Accepts Credit Cards, Table Service', '', '', 'Validated Parking, Serves Alcohol, Accepts American Express, Accepts Mastercard, Accepts Visa, Free Wifi, Reservations, Private Dining, Seating, Highchairs Available, Full Bar, Accepts Credit Cards, Table Service, Buffet', 'Reservations, Private Dining, Seating, Parking Available, Validated Parking, Valet Parking, Wheelchair Accessible, Serves Alcohol, Full Bar, Free Wifi, Accepts Credit Cards, Table Service, Wine and Beer', '', 'Seating, Parking Available, Validated Parking, Valet Parking, Serves Alcohol, Wine and Beer, Accepts American Express, Accepts Mastercard, Accepts Visa, Free Wifi, Reservations, Private Dining, Highchairs Available, Wheelchair Accessible, Digital Payments, Accepts Discover, Accepts Credit Cards, Table Service', 'Takeout, Seating, Table Service', 'Reservations, Seating, Highchairs Available, Wheelchair Accessible, Serves Alcohol, Accepts Credit Cards, Table Service', '', 'Reservations, Private Dining, Seating, Serves Alcohol, Full Bar, Free Wifi, Accepts Credit Cards, Table Service', 'Seating, Parking Available, Validated Parking, Valet Parking, Serves Alcohol, Wine and Beer, Accepts American Express, Accepts Mastercard, Accepts Visa, Free Wifi, Reservations, Private Dining, Highchairs Available, Wheelchair Accessible, Full Bar, Accepts Credit Cards, Table Service', 'Reservations, Private Dining, Seating, Parking Available, Validated Parking, Valet Parking, Highchairs Available, Wheelchair Accessible, Serves Alcohol, Full Bar, Free Wifi, Accepts Credit Cards, Table Service', '', 'Reservations, Outdoor Seating, Seating, Serves Alcohol, Full Bar, Free Wifi, Accepts Credit Cards, Table Service', 'Seating, Valet Parking, Serves Alcohol, Full Bar, Accepts American Express, Accepts Mastercard, Accepts Visa, Cash Only, Reservations, Private Dining, Parking Available, Validated Parking, Highchairs Available, Wheelchair Accessible, Wine and Beer, Free Wifi, Accepts Credit Cards, Table Service', '', 'Takeout, Reservations, Seating, Serves Alcohol, Full Bar, Wine and Beer, Accepts Mastercard, Accepts Visa, Cash Only, Free Wifi, Accepts Credit Cards, Table Service', 'Outdoor Seating, Seating, Parking Available, Valet Parking, Highchairs Available, Wheelchair Accessible, Serves Alcohol, Full Bar, Accepts American Express, Accepts Mastercard, Accepts Visa, Free Wifi, Reservations, Private Dining, Wine and Beer, Accepts Credit Cards, Table Service', 'Reservations, Private Dining, Seating, Valet Parking, Wheelchair Accessible, Serves Alcohol, Full Bar, Accepts American Express, Accepts Mastercard, Accepts Visa, Free Wifi, Accepts Credit Cards, Wine and Beer, Digital Payments', '', 'Takeout, Seating, Table Service', 'Takeout, Seating, Table Service', 'Highchairs Available, Reservations, Private Dining, Seating, Parking Available, Validated Parking, Valet Parking, Wheelchair Accessible, Serves Alcohol, Full Bar, Wine and Beer, Accepts American Express, Accepts Mastercard, Accepts Visa, Free Wifi, Accepts Credit Cards, Table Service', 'Takeout, Seating, Table Service', '', 'Takeout, Seating, Table Service', 'Takeout, Seating, Table Service', 'Takeout, Seating', 'Takeout, Seating, Table Service', '', 'Reservations, Seating, Highchairs Available, Serves Alcohol, Full Bar, Free Wifi, Accepts Credit Cards, Table Service', 'Takeout', 'Reservations, Outdoor Seating, Seating, Wheelchair Accessible, Serves Alcohol, Full Bar, Accepts Credit Cards, Table Service, Live Music', '', '', 'Reservations, Private Dining, Seating, Parking Available, Validated Parking, Valet Parking, Highchairs Available, Wheelchair Accessible, Serves Alcohol, Accepts Credit Cards, Table Service, Buffet, Free Wifi', '', 'Reservations, Private Dining, Seating, Parking Available, Validated Parking, Valet Parking, Wheelchair Accessible, Serves Alcohol, Full Bar, Accepts American Express, Accepts Mastercard, Accepts Visa, Free Wifi, Accepts Credit Cards, Table Service', '', 'Reservations, Private Dining, Seating, Highchairs Available, Wheelchair Accessible, Serves Alcohol, Full Bar, Free Wifi, Accepts Credit Cards, Table Service', 'Reservations, Private Dining, Seating, Parking Available, Validated Parking, Valet Parking, Highchairs Available, Wheelchair Accessible, Serves Alcohol, Full Bar, Free Wifi, Accepts Credit Cards, Table Service', 'Reservations, Private Dining, Seating, Wheelchair Accessible, Serves Alcohol, Full Bar, Accepts Credit Cards, Table Service', 'Reservations, Seating, Wheelchair Accessible, Serves Alcohol, Full Bar, Free Wifi, Accepts Credit Cards, Table Service', 'Takeout, Seating, Table Service', 'Reservations, Outdoor Seating, Seating, Highchairs Available, Wheelchair Accessible, Serves Alcohol, Full Bar, Accepts Credit Cards, Table Service, Live Music', '', 'Delivery, Buffet, Seating, Parking Available, Validated Parking, Highchairs Available, Wheelchair Accessible, Serves Alcohol, Full Bar, Accepts American Express, Accepts Mastercard, Accepts Visa, Free Wifi, Reservations, Accepts Credit Cards, Table Service', '', 'Delivery, Takeout, Seating, Table Service', 'Delivery, Takeout, Reservations, Seating, Highchairs Available, Wheelchair Accessible, Serves Alcohol, Full Bar, Free Wifi, Accepts Credit Cards, Table Service, Buffet', 'Reservations, Outdoor Seating, Private Dining, Seating, Highchairs Available, Wheelchair Accessible, Serves Alcohol, Full Bar, Free Wifi, Accepts Credit Cards, Table Service', 'Seating, Serves Alcohol, Full Bar, Accepts American Express, Accepts Mastercard, Accepts Visa, Reservations, Private Dining, Parking Available, Valet Parking, Wheelchair Accessible, Accepts Credit Cards, Table Service', 'Takeout, Seating', 'Takeout, Private Dining, Seating, Serves Alcohol, Accepts Credit Cards, Table Service', 'Takeout, Reservations, Private Dining, Seating, Highchairs Available, Serves Alcohol, Free Wifi, Accepts Credit Cards, Table Service', 'Takeout, Reservations, Private Dining, Seating, Serves Alcohol, Accepts Credit Cards, Table Service', '', 'Seating, Serves Alcohol, Full Bar, Accepts American Express, Accepts Mastercard, Accepts Visa, Cash Only, Reservations, Private Dining, Parking Available, Validated Parking, Valet Parking, Highchairs Available, Wheelchair Accessible, Accepts Credit Cards, Table Service', 'Reservations, Outdoor Seating, Private Dining, Seating, Wheelchair Accessible, Serves Alcohol, Full Bar, Free Wifi, Accepts Credit Cards, Table Service', 'Buffet, Seating, Parking Available, Valet Parking, Wheelchair Accessible, Serves Alcohol, Wine and Beer, Accepts American Express, Accepts Mastercard, Accepts Visa, Free Wifi, Reservations, Validated Parking, Highchairs Available, Full Bar, Accepts Credit Cards, Table Service', '', '', 'Takeout, Seating, Table Service', 'Reservations, Private Dining, Seating, Highchairs Available, Wheelchair Accessible, Serves Alcohol, Accepts Credit Cards, Table Service', 'Reservations, Seating, Highchairs Available, Wheelchair Accessible, Serves Alcohol, Full Bar, Free Wifi, Accepts Credit Cards, Table Service', 'Reservations, Private Dining, Seating, Parking Available, Validated Parking, Highchairs Available, Wheelchair Accessible, Serves Alcohol, Full Bar, Accepts Credit Cards, Table Service, Valet Parking', '', '', 'Reservations, Private Dining, Seating, Parking Available, Validated Parking, Valet Parking, Highchairs Available, Wheelchair Accessible, Serves Alcohol, Full Bar, Free Wifi, Accepts Credit Cards, Table Service', 'Reservations, Outdoor Seating, Private Dining, Seating, Wheelchair Accessible, Serves Alcohol, Full Bar, Free Wifi, Accepts Credit Cards, Table Service, Digital Payments', 'Free Wifi, Reservations, Buffet, Seating, Parking Available, Validated Parking, Valet Parking, Highchairs Available, Wheelchair Accessible, Serves Alcohol, Wine and Beer, Accepts Credit Cards, Table Service', 'Takeout, Reservations, Seating, Television, Serves Alcohol, Full Bar, Accepts American Express, Accepts Mastercard, Accepts Visa, Free Wifi, Accepts Credit Cards, Table Service, Live Music', 'Seating, Serves Alcohol, Full Bar, Free Wifi, Accepts Credit Cards, Table Service', 'Reservations, Seating, Serves Alcohol, Accepts American Express, Accepts Mastercard, Accepts Visa, Free Wifi, Valet Parking, Wheelchair Accessible, Accepts Credit Cards, Table Service, Buffet', '', '', '', 'Takeout, Seating, Table Service', 'Reservations, Private Dining, Seating, Wheelchair Accessible, Serves Alcohol, Full Bar, Accepts Credit Cards, Table Service', 'Takeout, Seating, Serves Alcohol, Full Bar, Accepts Mastercard, Accepts Visa, Cash Only, Free Wifi, Accepts Credit Cards, Table Service', 'Takeout, Seating, Serves Alcohol, Table Service', 'Reservations, Seating, Validated Parking, Valet Parking, Highchairs Available, Wheelchair Accessible, Serves Alcohol, Full Bar, Wine and Beer, Accepts American Express, Accepts Mastercard, Accepts Visa, Free Wifi, Accepts Discover, Accepts Credit Cards, Table Service, Buffet, Parking Available', '', 'Parking Available, Serves Alcohol, Free Wifi, Reservations, Private Dining, Seating, Validated Parking, Valet Parking, Highchairs Available, Wheelchair Accessible, Full Bar, Accepts Credit Cards, Table Service', '', 'Free Wifi, Delivery, Takeout, Reservations, Seating, Highchairs Available, Serves Alcohol, Accepts Mastercard, Accepts Visa, Accepts Credit Cards, Table Service', '', 'Reservations, Outdoor Seating, Seating, Wheelchair Accessible, Serves Alcohol, Full Bar, Free Wifi, Accepts Credit Cards, Table Service', 'Takeout, Seating, Highchairs Available, Wheelchair Accessible, Serves Alcohol, Accepts Credit Cards, Table Service', 'Takeout, Seating, Table Service', 'Takeout, Reservations, Seating, Serves Alcohol, Accepts Credit Cards, Table Service']\n",
      "\n",
      "id_outlet\n",
      "['https://www.tripadvisor.com/Restaurant_Review-g294217-d2198231-Reviews-OZONE-Hong_Kong.html', 'https://www.tripadvisor.com/Restaurant_Review-g294217-d1745792-Reviews-Tim_Ho_Wan_the_Dim_Sum_Specialists-Hong_Kong.html', 'https://www.tripadvisor.com/Restaurant_Review-g294217-d779644-Reviews-Aqua_Roma_Aqua_Tokyo_Aqua_Spirit-Hong_Kong.html', 'https://www.tripadvisor.com/Restaurant_Review-g294217-d2540306-Reviews-One_Dim_Sum_Chinese_Restaurant-Hong_Kong.html', 'https://www.tripadvisor.com/Restaurant_Review-g294217-d2706744-Reviews-Din_Tai_Fung_Yee_Wo_Branch-Hong_Kong.html', 'https://www.tripadvisor.com/Restaurant_Review-g294217-d1367659-Reviews-Hutong-Hong_Kong.html', 'https://www.tripadvisor.com/Restaurant_Review-g294217-d2422144-Reviews-Tim_Ho_Wan_Central-Hong_Kong.html', 'https://www.tripadvisor.com/Restaurant_Review-g294217-d776832-Reviews-Australia_Dairy_Company-Hong_Kong.html', 'https://www.tripadvisor.com/Restaurant_Review-g294217-d5400408-Reviews-Din_Tai_Fung_Silvercord-Hong_Kong.html', 'https://www.tripadvisor.com/Restaurant_Review-g294217-d785057-Reviews-Yung_Kee_Restaurant-Hong_Kong.html', 'https://www.tripadvisor.com/Restaurant_Review-g294217-d878088-Reviews-The_Lobby_at_the_Peninsula_Hong_Kong-Hong_Kong.html', 'https://www.tripadvisor.com/Restaurant_Review-g294217-d1207531-Reviews-Jumbo_Kingdom_Floating_Restaurant-Hong_Kong.html', 'https://www.tripadvisor.com/Restaurant_Review-g294217-d1811943-Reviews-Cafe_Gray_Deluxe-Hong_Kong.html', 'https://www.tripadvisor.com/Restaurant_Review-g294217-d799966-Reviews-Bubba_Gump_Shrimp_Co-Hong_Kong.html', 'https://www.tripadvisor.com/Restaurant_Review-g294217-d2399904-Reviews-Tin_Lung_Heen-Hong_Kong.html', 'https://www.tripadvisor.com/Restaurant_Review-g294217-d3749262-Reviews-Tim_Ho_Wan_Sham_Shui_Po-Hong_Kong.html', 'https://www.tripadvisor.com/Restaurant_Review-g294217-d798091-Reviews-City_Hall_Maxim_s_Palace-Hong_Kong.html', 'https://www.tripadvisor.com/Restaurant_Review-g294217-d943734-Reviews-Spring_Deer-Hong_Kong.html', 'https://www.tripadvisor.com/Restaurant_Review-g294217-d6579151-Reviews-Mott_32-Hong_Kong.html', 'https://www.tripadvisor.com/Restaurant_Review-g294217-d2161545-Reviews-Tosca_di_Angelo-Hong_Kong.html', 'https://www.tripadvisor.com/Restaurant_Review-g294217-d2166297-Reviews-The_Lounge_Bar-Hong_Kong.html', 'https://www.tripadvisor.com/Restaurant_Review-g294217-d8353573-Reviews-Scarlett_Cafe_Wine_Bar-Hong_Kong.html', 'https://www.tripadvisor.com/Restaurant_Review-g294217-d1892540-Reviews-Wooloomooloo_Steakhouse_Wan_Chai-Hong_Kong.html', 'https://www.tripadvisor.com/Restaurant_Review-g294217-d1024986-Reviews-NOBU_InterContinental_Hong_Kong-Hong_Kong.html', 'https://www.tripadvisor.com/Restaurant_Review-g294217-d940224-Reviews-Felix-Hong_Kong.html', 'https://www.tripadvisor.com/Restaurant_Review-g294217-d6758068-Reviews-Ho_Lee_Fook-Hong_Kong.html', 'https://www.tripadvisor.com/Restaurant_Review-g294217-d841139-Reviews-Zuma-Hong_Kong.html', 'https://www.tripadvisor.com/Restaurant_Review-g294217-d939504-Reviews-Amber-Hong_Kong.html', 'https://www.tripadvisor.com/Restaurant_Review-g294217-d7808139-Reviews-Braza_Churrascaria_Brazilian_Steakhouse-Hong_Kong.html', 'https://www.tripadvisor.com/Restaurant_Review-g294217-d3749223-Reviews-Yat_Lok_Restaurant-Hong_Kong.html', 'https://www.tripadvisor.com/Restaurant_Review-g294217-d6894266-Reviews-Kam_s_Roast_Goose-Hong_Kong.html', 'https://www.tripadvisor.com/Restaurant_Review-g294217-d1062729-Reviews-Lung_King_Heen-Hong_Kong.html', 'https://www.tripadvisor.com/Restaurant_Review-g294217-d1527741-Reviews-Lin_Heung_Tea_House-Hong_Kong.html', 'https://www.tripadvisor.com/Restaurant_Review-g294217-d2534180-Reviews-Dim_Sum_Square-Hong_Kong.html', 'https://www.tripadvisor.com/Restaurant_Review-g294217-d919498-Reviews-Mak_s_Noodle_Mak_Un_Kee-Hong_Kong.html', 'https://www.tripadvisor.com/Restaurant_Review-g294217-d3171948-Reviews-DimDimSum_Dim_Sum_Specialty_Store_Wan_Chai-Hong_Kong.html', 'https://www.tripadvisor.com/Restaurant_Review-g294217-d795044-Reviews-Kau_Kee_Restaurant-Hong_Kong.html', 'https://www.tripadvisor.com/Restaurant_Review-g294217-d799832-Reviews-Kam_Wah_Cafe-Hong_Kong.html', 'https://www.tripadvisor.com/Restaurant_Review-g294217-d786130-Reviews-The_Sweet_Dynasty_Tsim_Sha_Tsui-Hong_Kong.html', 'https://www.tripadvisor.com/Restaurant_Review-g294217-d7050211-Reviews-Bread_Street_Kitchen-Hong_Kong.html', 'https://www.tripadvisor.com/Restaurant_Review-g294217-d799899-Reviews-Tai_Cheong_Bakery-Hong_Kong.html', 'https://www.tripadvisor.com/Restaurant_Review-g294217-d1052864-Reviews-Sevva-Hong_Kong.html', 'https://www.tripadvisor.com/Restaurant_Review-g294217-d6739503-Reviews-Ding_Dim_1968-Hong_Kong.html', 'https://www.tripadvisor.com/Restaurant_Review-g294217-d10089430-Reviews-Capo-Hong_Kong.html', 'https://www.tripadvisor.com/Restaurant_Review-g294217-d2514791-Reviews-The_Market-Hong_Kong.html', 'https://www.tripadvisor.com/Restaurant_Review-g294217-d1755975-Reviews-Tsui_Wah_Restaurant_Pak_Hoi_Street_Shop-Hong_Kong.html', 'https://www.tripadvisor.com/Restaurant_Review-g294217-d912108-Reviews-Caprice_Central-Hong_Kong.html', 'https://www.tripadvisor.com/Restaurant_Review-g294217-d816324-Reviews-Crystal_Jade_La_Mian_Xiao_Long_Bao_Gateway_Arcade-Hong_Kong.html', 'https://www.tripadvisor.com/Restaurant_Review-g294217-d844402-Reviews-Morton_s_The_Steakhouse-Hong_Kong.html', 'https://www.tripadvisor.com/Restaurant_Review-g294217-d2390123-Reviews-Above_and_Beyond-Hong_Kong.html', 'https://www.tripadvisor.com/Restaurant_Review-g294217-d809453-Reviews-L_Atelier_de_Joel_Robuchon-Hong_Kong.html', 'https://www.tripadvisor.com/Restaurant_Review-g294217-d7289468-Reviews-Pirata-Hong_Kong.html', 'https://www.tripadvisor.com/Restaurant_Review-g294217-d3309467-Reviews-DimDimSum_Dim_Sum_Specialty_Store_Mong_Kok-Hong_Kong.html', 'https://www.tripadvisor.com/Restaurant_Review-g294217-d788642-Reviews-The_Peak_Lookout-Hong_Kong.html', 'https://www.tripadvisor.com/Restaurant_Review-g294217-d1320779-Reviews-Hard_Rock_Cafe_Hong_Kong-Hong_Kong.html', 'https://www.tripadvisor.com/Restaurant_Review-g294217-d1100137-Reviews-Spasso_Italian_Bar_Restaurant-Hong_Kong.html', 'https://www.tripadvisor.com/Restaurant_Review-g294217-d1094369-Reviews-Tsim_Chai_Kee_Noodle_Wellington_Street-Hong_Kong.html', 'https://www.tripadvisor.com/Restaurant_Review-g294217-d798374-Reviews-Tsui_Wah_Restaurant-Hong_Kong.html', 'https://www.tripadvisor.com/Restaurant_Review-g294217-d799250-Reviews-Bombay_Dreams-Hong_Kong.html', 'https://www.tripadvisor.com/Restaurant_Review-g294217-d786786-Reviews-Isola_Bar_Grill-Hong_Kong.html', 'https://www.tripadvisor.com/Restaurant_Review-g294217-d941989-Reviews-Mandarin_Grill_Bar_at_Mandarin_Oriental_Hong_Kong-Hong_Kong.html', 'https://www.tripadvisor.com/Restaurant_Review-g294217-d1196158-Reviews-Hui_Lau_Shan-Hong_Kong.html', 'https://www.tripadvisor.com/Restaurant_Review-g294217-d1089734-Reviews-Under_the_Bridge_Spicy_Crab-Hong_Kong.html', 'https://www.tripadvisor.com/Restaurant_Review-g294217-d2276403-Reviews-Bistecca_Italian_Steak_House-Hong_Kong.html', 'https://www.tripadvisor.com/Restaurant_Review-g294217-d1546043-Reviews-Luk_Yu_Tea_House-Hong_Kong.html', 'https://www.tripadvisor.com/Restaurant_Review-g294217-d2017430-Reviews-Peking_Garden_Tsim_Sha_Tsui-Hong_Kong.html', 'https://www.tripadvisor.com/Restaurant_Review-g294217-d927163-Reviews-Yan_Toh_Heen_InterContinental_Hong_Kong-Hong_Kong.html', 'https://www.tripadvisor.com/Restaurant_Review-g294217-d1955748-Reviews-Wooloomooloo_Prime_Tsim_Sha_Tsui-Hong_Kong.html', 'https://www.tripadvisor.com/Restaurant_Review-g294217-d1799916-Reviews-Kitchen_W_Hotel_Hong_Kong-Hong_Kong.html', 'https://www.tripadvisor.com/Restaurant_Review-g294217-d2437900-Reviews-DimDimSum_Dim_Sum_Specialty_Store_Jordan-Hong_Kong.html', 'https://www.tripadvisor.com/Restaurant_Review-g294217-d6951944-Reviews-Jamie_s_Italian-Hong_Kong.html', 'https://www.tripadvisor.com/Restaurant_Review-g294217-d2017661-Reviews-Lin_Heung_Kui-Hong_Kong.html', 'https://www.tripadvisor.com/Restaurant_Review-g294217-d938999-Reviews-Peking_Garden_Restaurant_Alexandra_House-Hong_Kong.html', 'https://www.tripadvisor.com/Restaurant_Review-g294217-d2433070-Reviews-Tango_Argentinian_Steak_House-Hong_Kong.html', 'https://www.tripadvisor.com/Restaurant_Review-g294217-d1792423-Reviews-Man_Wah-Hong_Kong.html', 'https://www.tripadvisor.com/Restaurant_Review-g294217-d1482758-Reviews-Lobby_Lounge_InterContinental_Hong_Kong-Hong_Kong.html', 'https://www.tripadvisor.com/Restaurant_Review-g294217-d800834-Reviews-Mak_Man_Kee_Noodle_Shop-Hong_Kong.html', 'https://www.tripadvisor.com/Restaurant_Review-g294217-d1094822-Reviews-Ming_Court_Cordis_Hong_Kong-Hong_Kong.html', 'https://www.tripadvisor.com/Restaurant_Review-g294217-d1098376-Reviews-The_Pawn-Hong_Kong.html', 'https://www.tripadvisor.com/Restaurant_Review-g294217-d793034-Reviews-Harbourside_Restaurant-Hong_Kong.html', 'https://www.tripadvisor.com/Restaurant_Review-g294217-d1952785-Reviews-Delaney_s_Kowloon_Irish_Bar-Hong_Kong.html', 'https://www.tripadvisor.com/Restaurant_Review-g294217-d3602180-Reviews-22_Ships-Hong_Kong.html', 'https://www.tripadvisor.com/Restaurant_Review-g294217-d1027723-Reviews-Clipper_Lounge-Hong_Kong.html', 'https://www.tripadvisor.com/Restaurant_Review-g294217-d11621345-Reviews-Tim_Ho_Wan-Hong_Kong.html', 'https://www.tripadvisor.com/Restaurant_Review-g294217-d799819-Reviews-Nathan_Congee_And_Noodle-Hong_Kong.html', 'https://www.tripadvisor.com/Restaurant_Review-g294217-d2165749-Reviews-AL_MOLO_RISTORANTE_ITALIANO_Michael_White-Hong_Kong.html', 'https://www.tripadvisor.com/Restaurant_Review-g294217-d2719190-Reviews-Sang_Kee_Congee_Shop-Hong_Kong.html', 'https://www.tripadvisor.com/Restaurant_Review-g294217-d2423554-Reviews-8_1_2_Otto_e_Mezzo_Bombana-Hong_Kong.html', 'https://www.tripadvisor.com/Restaurant_Review-g294217-d6420711-Reviews-Little_Bao-Hong_Kong.html', 'https://www.tripadvisor.com/Restaurant_Review-g294217-d4928934-Reviews-Canton_s_Dim_Sum_Expert_Tsim_Sha_Tsui-Hong_Kong.html', 'https://www.tripadvisor.com/Restaurant_Review-g294217-d3600498-Reviews-Cafe_103-Hong_Kong.html', 'https://www.tripadvisor.com/Restaurant_Review-g294217-d799972-Reviews-Gaylord_Indian_Restaurant-Hong_Kong.html', 'https://www.tripadvisor.com/Restaurant_Review-g294217-d1023200-Reviews-T_ang_Court_The_Langham_Hong_Kong-Hong_Kong.html', 'https://www.tripadvisor.com/Restaurant_Review-g294217-d1880782-Reviews-Carpaccio_Pasta_Pizza_Vino-Hong_Kong.html', 'https://www.tripadvisor.com/Restaurant_Review-g294217-d4361851-Reviews-Motorino_SoHo-Hong_Kong.html', 'https://www.tripadvisor.com/Restaurant_Review-g294217-d1776480-Reviews-BLT_Steak_Ocean_Terminal-Hong_Kong.html', 'https://www.tripadvisor.com/Restaurant_Review-g294217-d793088-Reviews-Bo_Innovation-Hong_Kong.html', 'https://www.tripadvisor.com/Restaurant_Review-g294217-d1811458-Reviews-Ho_Hung_Kee-Hong_Kong.html', 'https://www.tripadvisor.com/Restaurant_Review-g294217-d779820-Reviews-Lan_Fong_Yuen_Central-Hong_Kong.html', 'https://www.tripadvisor.com/Restaurant_Review-g294217-d3927685-Reviews-Tai_Ping_Koon_Restaurant_Mau_Lam_Street-Hong_Kong.html']\n",
      "\n",
      "lat\n",
      "[22.303398, '', 22.296136999999998, 22.325438000000002, 22.27927, 22.29615, 22.284927, '', '', 22.281558999999998, 22.294752, 22.243668, 22.277157, '', 22.303358, 22.329348, 22.282743, 22.297293, 22.280712, 22.303356, '', '', '', '', 22.295282, 22.283001000000002, 22.280495000000002, '', '', '', 22.277782000000002, 22.286509, 22.284433, '', '', '', 22.284269000000002, 22.322191, '', 22.280579, 22.282492, 22.281088, 22.281292, '', '', '', '', 22.296654, 22.294626, '', '', 22.278019, 22.320234, 22.271067000000002, 22.280554000000002, 22.298082, '', 22.281681, '', 22.285963, '', 22.294531, 22.279856, '', 22.282282000000002, 22.294245, '', 22.299754999999998, 22.304792000000003, 22.307033999999998, 22.278912, 22.287670000000002, '', 22.281666, 22.281319, 22.293318, '', 22.318079, 22.276697, 22.293344, '', '', 22.281986, 22.291651, 22.307032, '', 22.285355, '', '', 22.298189, '', '', 22.296426999999998, '', 22.281677, '', 22.276276, 22.280174, '', '']\n",
      "\n",
      "lon\n",
      "[114.16018700000001, '', 114.16991399999999, 114.16925, 114.18623400000001, 114.169975, 114.158295, '', '', 114.155731, 114.17182199999999, 114.162582, 114.16606100000001, '', 114.16018700000001, 114.16644299999999, 114.16165900000001, 114.174797, 114.159302, 114.16018700000001, '', '', '', '', 114.17173799999999, 114.152657, 114.157959, '', '', '', 114.17523999999999, 114.157104, 114.153503, '', '', '', 114.15248100000001, 114.16973899999999, '', 114.15529599999999, 114.15380900000001, 114.15940900000001, 114.15490700000001, '', '', '', '', 114.168213, 114.17291999999999, '', '', 114.176353, 114.170372, 114.14938400000001, 114.155281, 114.178444, '', 114.155602, '', 114.158478, '', 114.169228, 114.180756, '', 114.155495, 114.16934199999999, '', 114.17229499999999, 114.160248, 114.165977, 114.18189199999999, 114.147095, '', 114.154541, 114.160294, 114.174049, '', 114.16826599999999, 114.171799, 114.17363700000001, '', '', 114.15940900000001, 114.195206, 114.171921, '', 114.15158799999999, '', '', 114.172699, '', '', 114.170189, '', 114.153023, '', 114.170998, 114.184647, '', '']\n",
      "\n",
      "menu\n",
      "['', '', '', '', '', '', '', '', '', '', '', '', 'https://www.upperhouse.com/en/~/media/Files/The_Upper_House/PDF/CGD-Menu/Cafe_Gray_Deluxe_Menu_20190619.pdf', 'http://bubbagump.hk/docs/menus/menu1.pdf', '', '', '', '', '', '', '', 'https://www.randblab.com/assets/menu/SCARLETT%2520HK/Scarlett-HK-2019-9-16.pdf', '', 'https://hongkong-ic.intercontinental.com/en/dining/nobu/', 'https://www.peninsula.com/en/hong-kong/hotel-fine-dining/felix', '', '', 'https://www.mandarinoriental.com/hong-kong/the-landmark/fine-dining/restaurants/contemporary-cuisine/amber/menu', '', '', '', 'https://www.fourseasons.com/hongkong/dining/restaurants/lung_king_heen/main/', '', '', '', '', '', '', '', '', '', 'https://www.sevva.hk', 'http://www.dingdim.com', '', '', '', 'https://www.fourseasons.com/hongkong/dining/restaurants/caprice/main/', '', '', 'https://www.hotel-icon.com/public/dine/files/above-and-beyond-a-la-carte-menu-20170830_1.pdf', '', '', '', 'https://www.epicurean.com.hk/wp-content/uploads/2019/07/TPL_ALC_Wine_Menu_Jun2019.pdf', 'https://www.hardrockcafe.com/location/hong-kong-lkf/files/5329/HK_ALC.pdf', 'http://www.divinogroup.com/restaurants/spasso/about-us/', '', '', 'http://www.diningconcepts.com/restaurants/Bombay-Dreams', 'https://gaiagroup.com.hk/wp-content/uploads/2018/06/ISOLA-A-LA-CARTE-MENU-2018-.pdf', '', '', '', '', '', '', 'https://hongkong-ic.intercontinental.com/en/dining/yan-toh-heen/', '', '', '', '', '', '', '', '', 'https://hongkong-ic.intercontinental.com/en/dining/lobby-lounge/', '', 'http://www.cordishotels.com/sc/hong-kong/restaurants-and-bars/ming-court/', '', 'https://hongkong-ic.intercontinental.com/en/dining/harbourside/', '', '', '', '', '', '', '', '', '', '', '', '', '', '', '', '', '', '', '', '']\n",
      "\n",
      "name\n",
      "['OZONE', 'Tim Ho Wan, the Dim-Sum Specialists', 'Aqua Roma, Aqua Tokyo & Aqua Spirit', 'One Dim Sum Chinese Restaurant', 'Din Tai Fung (Yee Wo Branch)', 'Hutong', 'Tim Ho Wan (Central)', 'Australia Dairy Company', 'Din Tai Fung (Silvercord)', 'Yung Kee Restaurant', 'The Lobby at the Peninsula Hong Kong', 'Jumbo Kingdom Floating Restaurant', 'Cafe Gray Deluxe', 'Bubba Gump Shrimp Co.', 'Tin Lung Heen', 'Tim Ho Wan Sham Shui Po', \"City Hall Maxim's Palace\", 'Spring Deer', 'Mott 32', 'Tosca di Angelo', 'The Lounge & Bar', 'Scarlett Cafe & Wine Bar', 'Wooloomooloo Steakhouse (Wan Chai)', 'NOBU (InterContinental Hong Kong)', 'Felix', 'Ho Lee Fook', 'Zuma', 'Amber', 'Braza Churrascaria Brazilian Steakhouse', 'Yat Lok Restaurant', \"Kam's Roast Goose\", 'Lung King Heen', 'Lin Heung Tea House', 'Dim Sum Square', \"Mak's Noodle (Mak Un Kee)\", 'DimDimSum Dim Sum Specialty Store (Wan Chai)', 'Kau Kee Restaurant', 'Kam Wah Cafe', 'The Sweet Dynasty (Tsim Sha Tsui)', 'Bread Street Kitchen', 'Tai Cheong Bakery', 'Sevva', 'Ding Dim 1968', 'Capo', 'The Market', 'Tsui Wah Restaurant (Pak Hoi Street Shop)', 'Caprice (Central)', 'Crystal Jade La Mian Xiao Long Bao (Gateway Arcade)', \"Morton's - The Steakhouse\", 'Above and Beyond', \"L'Atelier de Joel Robuchon\", 'Pirata', 'DimDimSum Dim Sum Specialty Store (Mong Kok)', 'The Peak Lookout', 'Hard Rock Cafe Hong Kong', 'Spasso Italian Bar & Restaurant', 'Tsim Chai Kee Noodle Wellington Street', 'Tsui Wah Restaurant', 'Bombay Dreams', 'Isola Bar & Grill', 'Mandarin Grill + Bar at Mandarin Oriental, Hong Kong', 'Hui Lau Shan', 'Under the Bridge Spicy Crab', 'Bistecca Italian Steak House', 'Luk Yu Tea House', 'Peking Garden (Tsim Sha Tsui)', 'Yan Toh Heen (InterContinental Hong Kong)', 'Wooloomooloo Prime (Tsim Sha Tsui)', 'Kitchen (W Hotel Hong Kong)', 'DimDimSum Dim Sum Specialty Store (Jordan)', \"Jamie's Italian\", 'Lin Heung Kui', 'Peking Garden Restaurant (Alexandra House)', 'Tango Argentinian Steak House', 'Man Wah', 'Lobby Lounge (InterContinental Hong Kong)', 'Mak Man Kee Noodle Shop', 'Ming Court (Cordis, Hong Kong)', 'The Pawn', 'Harbourside Restaurant', \"Delaney's Kowloon Irish Bar\", '22 Ships', 'Clipper Lounge', 'Tim Ho Wan', 'Nathan Congee And Noodle', 'AL MOLO RISTORANTE ITALIANO - Michael White', 'Sang Kee Congee Shop', '8 1/2 Otto e Mezzo Bombana', 'Little Bao', \"Canton's Dim Sum Expert - Tsim Sha Tsui\", 'Cafe 103', 'Gaylord Indian Restaurant', \"T'ang Court - The Langham, Hong Kong\", 'Carpaccio Pasta Pizza Vino', 'Motorino SoHo', 'BLT Steak (Ocean Terminal)', 'Bo Innovation', 'Ho Hung Kee', 'Lan Fong Yuen(Central)', 'Tai Ping Koon Restaurant (Mau Lam Street)']\n",
      "\n",
      "opening_hours\n",
      "['', 'Sun - Sat\\n10:00 AM - 9:30 PM', 'Sun - Sat\\n12:00 PM - 3:00 PM\\n6:00 PM - 11:00 PM', 'Mon - Fri\\n10:00 AM - 12:00 AM\\nSat - Sun\\n9:00 AM - 12:00 AM', 'Sun - Sat\\n11:30 AM - 10:00 PM', 'Sun - Sat\\n12:00 PM - 3:00 PM\\n6:00 PM - 11:00 PM', 'Sun - Sat\\n9:00 AM - 9:00 PM', 'Fri - Wed\\n7:30 AM - 11:00 PM', 'Sun - Sat\\n11:30 AM - 10:00 PM', 'Sun - Sat\\n11:00 AM - 11:00 PM', 'Sun - Sat\\n10:00 AM - 12:00 AM', 'Sun\\n9:00 AM - 11:30 PM\\nMon - Sat\\n11:00 AM - 11:30 PM', 'Sun - Sat\\n6:30 AM - 10:30 PM', 'Sun - Thu\\n11:30 AM - 10:00 PM\\nFri - Sat\\n11:30 AM - 10:30 PM', 'Sun - Sat\\n6:00 PM - 10:30 PM\\nMon - Fri\\n12:00 PM - 2:30 PM\\nSat - Sun\\n11:30 AM - 3:00 PM', '', 'Sun\\n9:00 AM - 3:00 PM\\nSun - Sat\\n5:30 PM - 11:30 PM\\nMon - Sat\\n11:00 AM - 3:00 PM', 'Sun - Sat\\n12:00 PM - 3:00 PM\\n6:00 PM - 11:00 PM', 'Sun - Sat\\n12:00 PM - 2:30 PM\\n6:00 PM - 11:00 PM', 'Sun\\n11:30 AM - 3:00 PM\\nSun - Sat\\n6:30 PM - 10:30 PM\\nMon - Sat\\n12:00 PM - 2:30 PM', '', 'Mon - Fri\\n3:00 PM - 1:00 AM\\nSat - Sun\\n11:00 AM - 1:00 AM', 'Sun - Sat\\n11:45 AM - 11:30 PM', 'Sun - Sat\\n12:00 PM - 2:30 PM\\n6:00 PM - 11:00 PM\\nSat - Sun\\n2:30 PM - 5:00 PM', 'Sun\\n11:30 AM - 3:30 PM\\nMon - Sat\\n5:30 PM - 1:00 AM', 'Sun - Thu\\n6:00 PM - 11:00 PM\\nFri - Sat\\n6:00 PM - 12:00 AM', 'Mon - Thu\\n12:00 PM - 12:00 AM\\nFri\\n12:00 PM - 1:00 AM\\nSat - Sun\\n11:00 AM - 12:00 AM', 'Sun - Sat\\n12:00 PM - 2:00 PM\\n6:00 PM - 9:00 PM', 'Sun - Thu\\n6:00 PM - 10:30 PM\\nSun - Sat\\n12:00 PM - 3:00 PM\\nFri - Sat\\n6:00 PM - 11:00 PM', 'Sun\\n10:00 AM - 5:30 PM\\nMon - Sat\\n10:00 AM - 9:00 PM', 'Sun - Sat\\n11:30 AM - 9:30 PM', 'Sun - Sat\\n12:00 PM - 2:30 PM\\n6:30 PM - 10:00 PM', 'Sun - Sat\\n6:00 AM - 11:00 PM', 'Sun\\n8:00 AM - 10:00 PM\\nMon - Sat\\n10:00 AM - 10:00 PM', '', 'Sun - Sat\\n10:00 AM - 12:00 AM', 'Mon - Sat\\n12:30 PM - 10:30 PM', 'Sun - Sat\\n6:30 AM - 11:00 PM', '', 'Sun - Sat\\n8:00 AM - 10:00 PM', 'Sun - Sat\\n7:30 AM - 9:00 PM', 'Mon - Wed\\n12:00 PM - 12:00 AM\\nThu - Fri\\n12:00 PM - 2:00 AM\\nSat\\n11:00 AM - 2:00 AM', 'Sun - Thu\\n11:00 AM - 10:00 PM\\nFri - Sat\\n11:00 AM - 11:00 PM', '', 'Sun - Sat\\n6:30 AM - 10:30 AM\\n6:30 PM - 10:00 PM\\nMon - Fri\\n12:00 PM - 2:30 PM\\nSat - Sun\\n11:45 AM - 2:30 PM', '', 'Sun - Sat\\n12:00 PM - 2:30 PM\\n6:30 PM - 10:30 PM', 'Sun - Sat\\n10:00 AM - 11:00 PM', 'Sun\\n5:00 PM - 10:00 PM\\nMon - Sat\\n5:00 PM - 11:00 PM', 'Sun - Sat\\n11:00 AM - 2:30 PM\\n6:00 PM - 10:30 PM', '', 'Sun - Thu\\n6:30 PM - 10:30 PM\\nSun - Sat\\n12:00 PM - 2:30 PM\\nFri - Sat\\n6:30 PM - 11:00 PM', 'Sun - Sat\\n11:00 AM - 2:00 AM', 'Mon - Fri\\n11:30 AM - 10:30 PM\\nSat - Sun\\n8:30 AM - 10:30 PM', 'Sun - Thu\\n11:00 AM - 2:00 AM\\nFri - Sat\\n11:00 AM - 3:00 AM', 'Sun\\n11:30 AM - 2:00 AM\\nMon - Thu\\n12:00 PM - 2:00 AM\\nFri - Sat\\n12:00 PM - 2:30 AM', 'Sun - Sat\\n11:00 AM - 9:30 PM', 'Tue - Sun\\n12:00 AM - 11:59 PM', 'Sun - Sat\\n12:00 PM - 3:00 PM\\n6:00 PM - 11:00 PM', 'Sun - Sat\\n11:30 AM - 11:00 PM', 'Sun\\n12:00 PM - 2:30 PM\\nSun - Sat\\n6:30 PM - 10:00 PM\\nMon - Fri\\n7:30 AM - 2:30 PM', '', 'Sun - Sat\\n12:00 PM - 6:00 AM', 'Sun - Sat\\n12:00 PM - 3:00 PM\\n6:00 PM - 11:00 PM', 'Sun - Sat\\n7:00 AM - 9:00 PM', 'Sun - Sat\\n5:30 PM - 11:00 PM\\nMon - Fri\\n11:30 AM - 3:00 PM\\nSat - Sun\\n11:00 AM - 3:00 PM', 'Sun\\n11:30 AM - 3:00 PM\\nSun - Sat\\n6:00 PM - 11:00 PM\\nMon - Sat\\n12:00 PM - 2:30 PM', '', 'Sun - Sat\\n6:00 AM - 11:00 PM', 'Sun - Sat\\n10:00 AM - 1:00 AM', 'Sun - Sat\\n12:00 PM - 11:00 PM', 'Sun - Sat\\n8:00 AM - 9:30 PM', 'Sun - Sat\\n11:30 AM - 3:00 PM\\n6:00 PM - 11:30 PM', 'Sun - Thu\\n6:00 PM - 10:30 PM\\nSun - Sat\\n12:00 PM - 2:30 PM\\nFri - Sat\\n6:00 PM - 11:00 PM', 'Sun - Sat\\n6:30 PM - 10:00 PM\\nMon - Fri\\n12:00 PM - 2:30 PM\\nSat - Sun\\n11:30 AM - 3:00 PM', 'Sun - Sat\\n7:00 AM - 12:30 AM', 'Sun - Sat\\n12:00 PM - 12:30 AM', 'Sun\\n10:30 AM - 3:00 PM\\nSun - Sat\\n6:00 PM - 10:30 PM\\nMon - Fri\\n11:00 AM - 2:30 PM\\nSat\\n11:00 AM - 3:00 PM', 'Sun\\n11:30 AM - 1:00 AM\\nMon - Thu\\n12:00 PM - 1:00 AM\\nFri - Sat\\n12:00 PM - 2:00 AM', 'Sun - Sat\\n6:00 AM - 12:00 AM', 'Sun - Thu\\n8:00 AM - 1:00 AM\\nFri - Sat\\n8:00 AM - 2:00 AM', 'Sun\\n12:00 PM - 2:30 PM\\n6:00 PM - 10:00 PM\\nMon - Sat\\n12:00 PM - 3:00 PM\\n6:00 PM - 11:00 PM', 'Sun - Sat\\n6:30 AM - 10:00 PM', 'Sun - Sat\\n10:00 AM - 9:30 PM', 'Sun - Sat\\n7:30 AM - 11:00 PM', 'Sun - Sat\\n12:00 PM - 11:00 PM', 'Mon - Sat\\n6:30 AM - 9:00 PM', 'Mon - Sat\\n12:00 PM - 2:30 PM\\n6:30 PM - 10:30 PM', 'Sun - Sat\\n6:00 PM - 11:00 PM\\nSat - Sun\\n12:00 PM - 4:00 PM', '', 'Sun - Sat\\n3:30 PM - 5:30 PM\\n6:30 PM - 10:00 PM\\nMon - Fri\\n12:00 PM - 2:00 PM\\nSat - Sun\\n12:00 PM - 2:30 PM', 'Sun - Sat\\n12:00 PM - 2:30 PM\\n6:00 PM - 11:00 PM', '', 'Sun - Sat\\n11:30 AM - 11:30 PM', 'Sun - Sat\\n12:00 PM - 12:00 AM', 'Sun - Sat\\n11:00 AM - 11:00 PM', 'Mon - Thu\\n6:30 PM - 10:00 PM\\nMon - Fri\\n12:00 PM - 2:00 PM\\nFri - Sat\\n6:00 PM - 10:00 PM', 'Sun - Sat\\n11:30 AM - 11:30 PM', 'Sun - Sat\\n10:30 AM - 10:30 PM', 'Sun - Sat\\n11:00 AM - 12:00 AM']\n",
      "\n",
      "phone\n",
      "['+852 2263 2270', '+852 2332 2896', '+852 3427 2288', '+852 2789 2280', '+852 3160 8998', '+852 3428 8342', '+852 2332 3078', '+852 2730 1356', '+852 2730 6928', '+852 2522 1624', '+852 2696 6772', '+852 2553 9111', '+852 3968 1106', '+852 2849 2867', '+852 2263 2270', '+852 2788 1226', '+852 2521 1303', '+852 2366 4012', '+852 2885 8688', '+852 2263 2270', '+852 2263 2270', '+852 3565 6513', '+852 2893 6960', '+852 2313 2323', '+852 2696 6778', '+852 2810 0860', '+852 3657 6388', '+852 2132-0066', '+852 2890 9268', '+852 2524 3882', '+852 5408 7740', '+852 3196 8888', '+852 2544 4556', '+852 2851 8088', '+852 2854 3810', '+852 2891 7677', '+852 2815 0123', '+852 2392 6830', '+852 2199 7799', '+852 2350 3888', '+852 2544 3475', '+852 2537 1388', '+852 2326 1968', '+852 2523 9009', '+852 3400 1388', '+852 2780 8328', '+852 3196 8860', '+852 2622 2699', '+852 2732 2343', '+852 3400 1318', '+852 2166 9000', '+852 5485 5329', '+852 2309 2300', '+852 2849 1000', '+852 2111 3777', '+852 2730 8027', '+852 2850 6471', '+852 2525 6338', '+852 2971 0001', '+852 2383 8765', '+852 2825 4004', '+852 2377 9766', '+852 2573 7698', '+852 2525 1308', '+852 2523 5464', '+852 2735 8211', '+852 2313 2323', '+852 2870 0087', '+852 3717 2299', '+852 2771 7766', '+852 3958 2222', '+852 2156 9328', '+852 2526 6456', '+852 2525 5808', '+852 2825 4003', '+852 2313 2323', '+852 2736 5561', '+852 3552 3028', '+852 2866 3444', '+852 2313 2323', '+852 2301 3980', '+852 2555 0722', '+852 2825 4007', '+852 2979 5608', '+852 2771 4285', '+852 2730 7900', '+852 2541 1099', '+852 2537 8859', '+852 2194 0202', '+852 2332 7122', '+852 2263 2270', '+852 2376 1001', '+852 2132 7898', '+852 2328 5202', '+852 2801 6881', '+852 2730 3508', '+852 2850 8371', '+852 2577 6558', '+852 2544 3895', '+852 2384 3385']\n",
      "\n",
      "postal_code\n",
      "['', '', '', '', '', '', '', '', '', '', '', '', '', '', '', '', '', '', '', '', '', '', '', '', '', '', '', '', '', '', '', '', '', '', '', '', '', '', '', '', '', '', '', '', '', '', '', '', '', '', '', 'Wan Chai', '000000', '', '00000', '', '', '', '', '', '000000', '', '', '', '', '', '', '', '', '', '', '', '', '', '000000', '', '', '', '', '', '', '', '000000', '', '', '', '', '', '', '999077', '852', '999077', '', '', '', '2730 3508', '', '', '', '']\n",
      "\n",
      "price_level\n",
      "['$$$$', '$', '$$$$', '$', '$$ - $$$', '$$$$', '$', '$', '$$ - $$$', '$$$$', '$$$$', '$$ - $$$', '$$$$', '$$ - $$$', '$$$$', '$', '$$ - $$$', '$$ - $$$', '$$$$', '$$$$', '$$$$', '$$ - $$$', '$$$$', '$$$$', '$$$$', '$$ - $$$', '$$$$', '$$$$', '$$ - $$$', '$$ - $$$', '$$ - $$$', '$$$$', '$$ - $$$', '$', '$', '$', '$', '$', '$$ - $$$', '$$ - $$$', '$', '$$$$', '$', '$$ - $$$', '$$ - $$$', '$$ - $$$', '$$$$', '$$ - $$$', '$$$$', '$$$$', '$$$$', '$$ - $$$', '$', '$$ - $$$', '$$ - $$$', '$$ - $$$', '$', '$$ - $$$', '$$ - $$$', '$$$$', '$$$$', '$$ - $$$', '$$ - $$$', '$$ - $$$', '$$ - $$$', '$$ - $$$', '$$$$', '$$$$', '$$ - $$$', '$', '$$ - $$$', '$$ - $$$', '$$$$', '$$ - $$$', '$$$$', '$$$$', '$', '$$$$', '$$ - $$$', '$$$$', '$$ - $$$', '$$ - $$$', '$$$$', '$', '$', '$$ - $$$', '$', '$$$$', '$$ - $$$', '$', '$$$$', '$$ - $$$', '$$$$', '$$ - $$$', '$$ - $$$', '$$ - $$$', '$$$$', '$$ - $$$', '$', '$$ - $$$']\n",
      "\n",
      "price_range\n",
      "['£24 - £118', '', '£19 - £100', '', '', '£25 - £71', '', '£2 - £8', '', '£10 - £50', '£30 - £50', '', '', '£25 - £35', '£50 - £502', '', '£10 - £50', '£16 - £23', '', '£158 - £3,941', '', '', '', '£79 - £276', '£24 - £118', '£40 - £60', '£91 - £140', '', '', '', '', '£45 - £151', '£8 - £12', '', '£2 - £8', '£8 - £16', '', '', '£8 - £12', '£30 - £60', '£4 - £8', '£20 - £78', '£5 - £10', '£15 - £35', '', '', '', '', '£79 - £158', '', '', '£15 - £40', '£8 - £16', '£4 - £59', '£10 - £39', '£15 - £35', '£4 - £8', '', '', '£19 - £78', '', '', '£31 - £49', '', '', '£78 - £391', '£71 - £236', '£55 - £78', '£25 - £80', '£8 - £16', '', '', '£20 - £78', '', '', '£39 - £236', '£4 - £8', '', '£25 - £50', '£16 - £79', '£6 - £30', '£24 - £55', '', '', '£4 - £12', '', '', '', '', '', '£39 - £788', '£12 - £78', '£94 - £1,251', '£10 - £25', '£10 - £25', '', '', '', '£4 - £8', '']\n",
      "\n",
      "rating\n",
      "[4.5, 4.0, 4.5, 4.5, 4.5, 4.0, 4.0, 3.5, 4.5, 3.5, 4.0, 3.5, 4.5, 4.0, 4.5, 4.0, 4.0, 4.0, 4.5, 4.5, 4.5, 4.5, 4.0, 4.5, 4.0, 4.5, 4.0, 4.5, 4.5, 4.0, 4.0, 4.5, 4.0, 4.0, 4.0, 4.0, 4.0, 4.0, 3.5, 4.0, 4.0, 4.0, 4.5, 4.5, 4.5, 3.5, 4.5, 4.0, 4.5, 4.5, 4.5, 4.5, 4.0, 3.5, 4.0, 4.0, 4.0, 3.5, 4.5, 4.0, 4.5, 4.0, 3.5, 4.5, 3.5, 4.0, 4.5, 4.0, 4.5, 4.0, 3.5, 4.0, 4.0, 4.5, 4.5, 4.5, 4.0, 4.0, 4.0, 4.5, 4.0, 4.5, 4.5, 4.0, 4.0, 4.0, 4.5, 4.5, 4.5, 4.0, 4.5, 4.0, 4.0, 4.5, 4.5, 4.0, 4.5, 4.0, 3.5, 4.0]\n",
      "\n",
      "region\n",
      "['', '', '', '', '', '', '', '', '', '', '', '', '', '', '', '', '', '', '', '', '', '', '', '', '', '', '', '', '', '', '', '', '', '', '', '', '', '', '', '', '', '', '', '', '', '', '', '', '', '', '', '', '', '', '', '', '', '', '', '', '', '', '', '', '', '', '', '', '', '', '', '', '', '', '', '', '', '', '', '', '', '', '', '', '', '', '', '', '', '', '', '', '', '', '', '', '', '', '', '']\n",
      "\n",
      "reviews_nr\n",
      "[3970.0, 3188.0, 3039.0, 2686.0, 2092.0, 1846.0, 1742.0, 1728.0, 1660.0, 1659.0, 1616.0, 1574.0, 1512.0, 1380.0, 1380.0, 1350.0, 1296.0, 1281.0, 1253.0, 1230.0, 1165.0, 1101.0, 1098.0, 1055.0, 1054.0, 1033.0, 1031.0, 1025.0, 1023.0, 997.0, 994.0, 972.0, 939.0, 938.0, 929.0, 919.0, 911.0, 911.0, 910.0, 901.0, 900.0, 899.0, 892.0, 889.0, 879.0, 876.0, 876.0, 829.0, 826.0, 816.0, 805.0, 787.0, 783.0, 782.0, 774.0, 763.0, 762.0, 760.0, 743.0, 739.0, 731.0, 719.0, 708.0, 697.0, 693.0, 691.0, 678.0, 671.0, 666.0, 662.0, 660.0, 656.0, 653.0, 649.0, 647.0, 637.0, 637.0, 625.0, 618.0, 601.0, 576.0, 572.0, 570.0, 562.0, 553.0, 550.0, 523.0, 519.0, 504.0, 500.0, 499.0, 496.0, 496.0, 491.0, 491.0, 490.0, 484.0, 476.0, 475.0, 469.0]\n",
      "\n",
      "special_diets\n",
      "['', '', '', '', '', '', '', '', '', '', '', '', '', '', '', '', '', '', '', '', '', '', '', '', '', '', '', '', '', '', '', '', '', '', '', '', '', '', '', '', '', '', '', '', '', '', '', '', '', '', '', '', '', '', '', '', '', '', '', '', '', '', '', '', '', '', '', '', '', '', '', '', '', '', '', '', '', '', '', '', '', '', '', '', '', '', '', '', '', '', '', '', '', '', '', '', '', '', '', '']\n",
      "\n",
      "street\n",
      "['No.1 Austin Road West International Commerce Centre,', 'Shop 72, G/F, Olympian City 2, 18 Hoi Ting Road, Tai Kok Tsui Olympian City Mall', '29/F & 30/F, 1 Peking Road, Tsim Sha Tsui', 'G/F 209A-209B Tung Choi Street Prince Edward', 'No.68 Yee Wo Street, Causeway Bay', '1 Peking Road, Tsim Sha Tsui 28/f', 'Shop 12A, Hong Kong Station Podium Level 1, IFC Mall , Central', 'G/F, 47-49 Parkes Street, Jordan', '3/F, Silvercord, No.30 Canton Road, Tsim Sha Tsui, Kowloon', '32-40 Wellington Street Central', 'Salisbury Road', 'Shum Wan Pier Dr Wong Chuk Hang', 'L49 The Upper House, Pacific Place, No.88 Queensway, Admiralty', 'Shop 304 & 305, Level 3, The Peak Tower, 128 Peak Road', '1 Austin Road West 102/F, The Ritz-Carlton, International Commerce Centre', 'G/F, 9-11 Fuk Wing Street', '2/F, Low Block, City Hall, Central', '2/F, 42 Mody Road, Tsim Sha Tsui', 'Basement, Standard Chartered Bank Building, No.4-4A Des Voeux Road Central, Central', '1 Austin Road West International Commerce Centre,', '1 Austin Road West International Commerce Centre', 'G/F, 2 Austin Avenue, Tsim Sha Tsui, Kowloon', '31/F & Rooftop The Hennessy, 256 Hennessy Road, Wan Chai', '18 Salisbury Road InterContinental Hong Kong', 'The Peninsula Hotel, Salisbury Road, Tsim Sha Tsui', 'G/F, No.1-5 Elgin Street, SoHo', \"15 Queen's Road Landmark Atrium - Level 5 & 6\", \"No.15 Queen's Road Central 7/F, The Landmark Mandarin Oriental\", '3/F, Grand Progress Building, No.15-16 Lan Kwai Fong, Central', 'G/F, 34-38 Stanley Street', 'No.226 Hennessy Road, Wan Chai G/F, Po Wah Commercial Centre', '8 Finance Street, Central Podium 4, Four Seasons Hotel Hong Kong,', 'G/F 160-164 Wellington Street, Central', '88 Jervois Street, Sheung wan', '77 Wellington St., Central', '7 Tin Lok Lane, Causeway Bay, Wan Chai', 'G/F., 21 Gough Street, Mid-Level, Central', '47 Bute Street, Mongkok', 'Shop A, Hong Kong Pacific Centre, 28 Hankow Road, Tsim Sha Tsu', 'No.118 Peak Road Shop G02, G/F, The Peak Galleria', '35 Lydhurst Terrace, Central', \"25/F, Prince's Building, 10 Chater Road, Central\", '59 Wyndham Street, Central G/f', 'Shop 4C-D, Tower 1, PL/F., China Hong Kong City', 'Level 2, Hotel ICON, 17 Science Museum Road, Tsim Sha Tsui East Tsim Sha Tsui East, Kowloon,', 'G/F-1/F, 17-19 Pak Hoi St., Yau Ma Te', '6F, Four Seasons Hotel, Central Four Seasons Hotel Hong Kong', 'Shop 3328, Level 3, Gateway Arcade, Harbour City, 3-27 Canton Road, Tsim Sha Tsui, Kowloon', '4th Floor, The Sheraton Hotel & Towers, No.20 Nathan Road, Tsim Sha Tsui 20 Nathan Road, Kowloon', 'Level 28, Hotel ICON, 17 Science Museum Road, Tsim Sha Tsui East', \"15 Queen's Road Central\", '30/F, No. 239 Hennessy Road Wan Chai', '112 Tung Choi Street', '121 Peak Road, The Peak', \"LG/F LKF Tower, 55 D'Aguilar Street, Lan Kwai Fong Central\", 'G5-8, 12-17, Empire Centre, No.68 Mody Road, Tsim Sha Tsui East, Kowloon', '98 Wellington Street. Central', '15-19 Wellington St, Central', '77 Wyndham Street', 'Shop 2075, 2/F, IFC, 8 Finance Street, Central District Shop 2075, Podium 2, ifc mall', '5 Connaught Road Central 5 Connaught Road Central', 'Jordan road', '405 Lockhart Road, Wan Chai', '2nd Floor, Grand Progress Building,15-16 Lan Kwai Fong', 'No.24-26 Stanley Street, Central', '3/F, Star House, Tsimshatsui, Kowloon', '18 Salisbury Road, Tsim Sha Tsui InterContinental Hong Kong,', 'Level 21, The ONE, No.100 Nathan Road, Tsim Sha Tsui, Kowloon', '1 Austin Road West,Kowloon 6/F, W Hong Kong', '26-28 Man Wui St, Jordan, Kowloon Austin Station Exit A', '2/F, Soundwill Plaza II- Midtown, No.1 Tang Lung Street, Causeway Bay', '2-3/F, No.46-50 Des Voeux Road West, Sheung Wan', '16-20 Chater Road Shop B1, Basement 1, Alexandra House', '1st Floor, Carfield Building, 77 Wyndham Street,Central', '5 Connaught Road Central 5 Connaught Road Central', '18 Salisbury Road, Tsim Sha Tsui InterContinental Hong Kong', '51 Parkes Street, Yaumatei', '6/F, Cordis, Hong Kong at Langham Place 555 Shanghai Street, Mongkok, Kowloon', '62 Johnston Road, Wan Chai', '18 Salisbury Road InterContinental HongKong', 'No.77 Peking Road Tsim Sha Tsui', 'No.22 Ship Street, Wan Chai', '5 Connaught Road Central 5 Connaught Road Central', '2-8 Wharf Road, Seaview Building, North Point Shop B, C, & D, G/F', '11 Sai Kung Street,, Jordan', 'Shop G63, G/F, Ocean Terminal, Harbour City, 3-27 Canton Road, Tsim Sha Tsui, Kowloon', 'Ground Floor, 7 - 9 Butt Street, Sheung Wan', '202 Alexandra, 18 House Chater Rd.Central', 'G/F 66 Staunton Street, Central', 'No.11 Humphreys Avenue B/F, Tsim Sha Tsui', '1 Austin Road West International Commerce Centre,', '5/F, Prince Tower, 12A Peking Road, Tsim Sha Tsui, Kowloon', 'No.8 Peking Road Tsim Sha Tsui', 'Shop 307, 3rd Floor, iSQUARE, No.63 Nathan Road, Tsim Sha Tsui', 'G/F, 14 Shelley Street, Central 15 Ship Street, Wan Chai', 'Shop G62, G/F, Ocean Terminal, Harbour City, 3-27 Canton Road, Tsim Sha Tsui, Kowloon', 'Shop 13, 2/F J Residence; 60 Johnston Road,Wan Chai (Lift entrance at top of Ship Street)', '12th Floor, Hysan Place, 500 Hennessy Road, Causeway Bay', 'G/F2 Gage Street Central', 'G/F, 19-21 Mau Lam Street, Yau Ma Tei, Kowloon, Jordan']\n",
      "\n",
      "tags\n",
      "['All reviews ; brunch ; tapas ; highest bar in the world ; the ritz carlton ; dom perignon ; clear night ; icc building ; view of hong kong ; great drinks ; spectacular views ; rooftop bar ; light show ; top floor ; victoria harbour ; free flow ; visiting hong kong ; jd ; ', 'All reviews ; pork buns ; dim sum ; char siu bao ; turnip cake ; cakes ; shrimp ; sticky rice ; spring rolls ; pastry ; fries ; michelin star ; olympian city ; worth the wait ; sham shui po ; chicken feet ; queue number ; order form ; ', 'All reviews ; brunch ; dessert platter ; sushi ; tempura ; cod ; tasting menu ; pasta ; wagyu beef ; truffle ; light show ; laser show ; peking road ; window table ; the hong kong skyline ; special occasion ; spectacular views ; victoria harbour ; ', 'All reviews ; dim sum ; mango custard ; siew mai ; shrimp dumplings ; sticky rice ; spring rolls ; pork ; cheung fun ; fries ; cakes ; prince edward station ; flower market ; worth the wait ; playing field road ; queue number ; ordered dishes ; long queue ; ', 'All reviews ; dumplings ; xiao long bao ; dim sum ; xiaolongbao ; pork ; drunken chicken ; hot and sour soup ; truffle ; shrimp ; rice ; causeway bay ; regal hotel ; michelin star ; efficient service ; wait for a table ; worth the wait ; long queue ; ', 'All reviews ; brunch ; crispy lamb ; soft shell crab ; tasting menu ; prawns ; spring rolls ; pancakes ; rice ; lobster ; dim sum ; fries ; light show ; window table ; red lantern ; aqua bar ; laser show ; peking road ; ', 'All reviews ; pork buns ; dim sum ; turnip cake ; char siu bao ; sticky rice ; shrimp ; cakes ; cheung fun ; spring rolls ; fries ; ifc mall ; michelin star ; hong kong station ; airport express ; chicken feet ; long queue ; worth the wait ; ', 'All reviews ; macaroni ; milk pudding ; steamed egg ; ham ; french toast ; soup ; sandwich ; char siew ; fries ; breakfast set ; long queue ; english menu ; queue moves ; yee shun ; hk style ; worth the wait ; set menu ; ', 'All reviews ; dumplings ; xiao long bao ; dim sum ; xiaolongbao ; pork ; shrimp ; soup ; truffle ; rice ; shopping centre ; michelin star ; third floor ; spicy sauce ; efficient service ; chinese tea ; wait for a table ; top floor ; ', 'All reviews ; century egg ; roast goose ; char siew ; preserved egg ; bbq pork ; fried rice ; prawns ; dim sum ; fries ; pickled ginger ; excellent roast ; crispy skin ; cantonese food ; charcoal ; signature ; tender ; pigeon ; ', 'All reviews ; scones ; cucumber sandwiches ; cake ; salmon ; high tea ; string quartet ; tea service ; iconic hotel ; hotel guests ; long wait ; tea set ; hot water ; queue ; hong ; decadent ; asia ; ', 'All reviews ; dim sum ; gumbos ; dumplings ; boat ride ; aberdeen harbour ; small boat ; combo ; sampan ; floor ; mtr ; wan ; cantonese ; ', 'All reviews ; brunch ; steak tartare ; sea bass ; scones ; bread ; salad ; cafe grey ; house hotel ; market menu ; top floor ; pacific place ; jw marriott ; window seat ; high tea ; views of hong kong ; victoria harbour ; special occasion ; ', 'All reviews ; shrimp ; seafood ; garlic bread ; ribs ; fries ; steak ; salad ; victoria peak ; window seat ; sky terrace ; american food ; tram ; hk ; harbour ; queue ; kowloon ; ', 'All reviews ; iberian pork ; shrimp toast ; dim sum ; abalone ; garoupa ; char siu ; degustation menu ; fish meat ; crab ; soup ; dumplings ; cakes ; truffle ; the ritz carlton ; window table ; chinese restaurant ; private room ; ', 'All reviews ; pork buns ; dim sum ; char siu bao ; spareribs ; vermicelli bowl ; sticky rice ; shrimp ; liver ; cakes ; cheung fun ; spare ribs ; spring rolls ; pastry ; fries ; michelin star ; chicken feet ; fuk wing street ; ', 'All reviews ; dim sum ; mango pudding ; har gow ; pork buns ; egg tarts ; shrimp ; ladies pushing ; trolley service ; push cart ; yum cha ; trolley ladies ; banquet hall ; worth the wait ; long wait ; hong kong experience ; chicken feet ; wait for a table ; ', 'All reviews ; peking duck ; pancakes ; shredded beef ; shark fin soup ; bamboo shoots ; spring rolls ; pastry ; noodles ; bread ; fries ; great duck ; sesame pockets ; plum sauce ; no reservation ; chinese food ; crispy skin ; waiters ; ', 'All reviews ; iberico pork ; peking duck ; dim sum ; char siu ; cod ; soup dumplings ; pancakes ; frog legs ; har gow ; truffle ; prawns ; crab ; ice cream ; chicken ; fries ; the standard chartered bank ; apple wood ; ', 'All reviews ; brunch ; tiramisu ; beef carpaccio ; pasta ; lobster ; sea bass ; langoustines ; tasting menu ; bread ; truffle ; cake ; caviar ; chef pino ; the ritz carlton ; icc building ; window table ; italian cuisine ; ', 'All reviews ; scones ; tenderloin ; cake ; salad ; burger ; the ritz carlton ; high tea ; window seat ; the afternoon tea set ; ozone bar ; view of hong kong ; night view ; spectacular views ; victoria harbor ; birthday dinner ; nice service ; hk island ; ', 'All reviews ; crab ravioli ; cote de boeuf ; chateaubriand ; lamb shank ; prime rib ; caesar salad ; cold cuts ; mashed potatoes ; bread ; baby chicken ; ladies night ; birthday dinner ; nice wine ; french bistro ; delicious food ; great dinner ; nice restaurant ; ', 'All reviews ; steak ; baked potato ; lobster bisque ; salad ; bread ; rooftop bar ; wan chai ; spectacular views ; top floor ; cooked to perfection ; side dishes ; with some friends ; light show ; wine selection ; special occasion ; victoria harbour ; woolloomooloo ; ', 'All reviews ; cod ; sushi ; yellowtail ; omakase menu ; green tea ice cream ; wagyu beef ; tacos ; sea bass ; miso soup ; foie gras ; cake ; shrimp ; intercontinental hotel ; new style ; japanese cuisine ; light show ; harbour view ; ', 'All reviews ; duck liver ; oysters ; bread ; steak ; peninsula hotel ; light show ; top floor ; laser show ; hong kong island ; victoria harbour ; magnificent view ; table by the window ; special occasion ; fine dining ; lift ; penninsula ; kowloon ; ', 'All reviews ; prawn toast ; short ribs ; dumplings ; char siu ; wagyu ; brussel sprouts ; pork ; calamari ; roast goose ; chilli ; cheung fun ; salad ; asian fusion ; amazing food ; modern twist ; worth the wait ; wait for a table ; ', 'All reviews ; brunch ; sushi ; cod ; dessert platter ; tasting menu ; tempura ; ice cream ; beef ; oysters ; salad ; free flow champagne ; japanese buffet ; main course ; outdoor terrace ; open kitchen ; business lunch ; sake ; ', 'All reviews ; degustation menu ; amuse bouche ; caviar ; wagyu beef ; cuttlefish ; sorbet ; lobster ; wine pairing ; richard ekkebus ; the landmark mandarin oriental ; fine dining ; service was impeccable ; star michelin restaurant ; special occasion ; restaurant in hong kong ; dining experience ; set menu ; ', 'All reviews ; brunch ; picanha ; lamb ; salad ; fried banana ; chorizo sausage ; unlimited meat ; cold cuts ; skewers ; ribeye ; wings ; tuna ; bread ; all you can eat ; meat lovers ; free flow ; great meat ; ', 'All reviews ; roast goose ; char siew ; rice ; bbq pork ; roasted meats ; duck ; soup ; crispy skin ; stanley street ; delicious roast ; michelin star ; hole in the wall ; michelin guide ; tender meat ; lunch hour ; english menu ; oyster sauce ; ', 'All reviews ; roast goose ; char siew ; bbq pork ; rice ; century egg ; duck ; chinese sausage ; roasted meats ; soup ; yung kee ; michelin star ; worth the wait ; long queue ; crispy skin ; queue number ; small restaurant ; during peak hours ; ', 'All reviews ; abalone ; dim sum ; tasting menu ; steamed lobster ; suckling pig ; petit fours ; garoupa ; wagyu beef ; tarts ; soup ; spring rolls ; truffle ; mango ; fries ; four seasons ; three michelin stars ; executive lunch ; ', 'All reviews ; traditional dim sum ; siu mai ; sponge cake ; shrimp dumplings ; pork ; cheung fun ; dim sum cart ; push cart ; reading newspapers ; drinking tea ; yum cha ; dim sum experience ; ladies pushing ; chicken feet ; sharing tables ; popular dishes ; local experience ; ', 'All reviews ; dim sum ; dumplings ; spring rolls ; shrimp ; turnip cake ; pork ; siew mai ; xiaolongbao ; sticky rice ; cheung fun ; xiao long bao ; cakes ; fries ; sheung wan ; chicken feet ; fast service ; order sheet ; ', 'All reviews ; wonton noodles ; beef brisket ; won ton ; prawns ; small bowl ; anthony bourdain ; oyster sauce ; wellington street ; excellent noodles ; noodle place ; serving size ; soup base ; quick lunch ; quick service ; small place ; english menu ; stringy ; ', 'All reviews ; dim sum ; stuffed eggplant ; dumplings ; har gow ; radish cake ; pineapple bun ; pork ; cheung fun ; spring rolls ; xiao long bao ; truffle ; seafood ; prawns ; fries ; piggy custard ; english menu ; wan chai ; ', 'All reviews ; brisket ; curry ; clear soup ; flat noodles ; turnover ; soups ; gough street ; e fu noodles ; long queue ; worth the wait ; special beef ; share table with others ; super tender ; melt in the mouth ; small bowl ; a late lunch ; at lunchtime ; ', 'All reviews ; pineapple bun ; french toast ; bao ; instant noodles ; luncheon meat ; pork chop ; macaroni ; tarts ; ham ; fried rice ; milk tea ; polo buns ; bo lo ; bolo bun ; great polo ; cold butter ; english menu ; ', 'All reviews ; mango pudding ; noodles ; ordered dim sum ; congee ; hk ; bean ; ', 'All reviews ; brunch ; beef wellington ; shepherds pie ; sticky toffee pudding ; tamarind chicken ; fish and chips ; burger ; flat bread ; clotted cream ; tuna ; sunday roast ; short ribs ; wings ; salad ; honey glaze ; potatoes ; risotto ; ', 'All reviews ; egg tarts ; pie ; cake ; bread ; lyndhurst terrace ; from the oven ; flaky crust ; british governor ; piping hot ; small shop ; long queue ; taste ; eggy ; eggtarts ; hk ; mouth ; branch ; ', \"All reviews ; dosa ; prince's building ; rooftop bar ; tea set ; reserve a table ; victoria harbour ; high tea ; attentive service ; hk ; hsbc ; skyline ; skyscrapers ; floor ; expats ; signature ; \", 'All reviews ; dim sum ; dumplings ; siu mai ; spring rolls ; quail egg ; shrimp ; xiao long bao ; truffle ; sticky rice ; xiaolongbao ; cakes ; beef ; fries ; small place ; quick service ; hk ; hong ; ', 'All reviews ; burrata ; pizza ; parma ham ; italian beef ; homemade pasta ; bolognese ; tiramisu ; cold cuts ; salad ; bread ; royal pacific hotel ; imported from italy ; authentic italian restaurant ; friendly atmosphere ; fresh ingredients ; in tsim sha tsui ; small restaurant ; ', 'All reviews ; seafood ; crab legs ; durian dessert ; lamb chops ; cakes ; foie gras ; curries ; salad ; ice cream ; dim sum ; clams ; bread ; fries ; hotel icon ; dinner buffet ; amazing buffet ; all you can eat ; ', 'All reviews ; noodles ; chicken pie ; ham ; bread ; milk tea ; nathan hotel ; chain restaurant ; crispy bun ; fast service ; decent food ; quick meal ; nathan road ; chinese food ; hk ; msg ; yummy ; lemon ; ', 'All reviews ; cheese board ; french cheese ; petit fours ; amuse bouche ; foie gras ; turbot ; bread ; tasting menu ; lobster ; sorbet ; lamb ; ice cream ; soup ; four seasons hotel ; cheese cellar ; french cuisine ; new chef ; ', 'All reviews ; xiao long bao ; la mian ; dumplings ; soup ; drunken chicken ; dim sum ; rice ; beef ; harbour city ; worth the wait ; shanghai food ; ocean terminal ; fast service ; quick bite ; chinese tea ; wait for a table ; quality food ; ', 'All reviews ; steak ; onion bread ; crab cakes ; creamed spinach ; prime rib ; lobster tail ; seafood platter ; chicken ; sheraton hotel ; side dishes ; cooked to perfection ; mouth watering ; victoria harbour ; food quality ; hk ; medium ; oz ; ', 'All reviews ; peking duck ; dim sum ; crispy chicken ; hot and sour soup ; tasting menu ; abalone ; prawns ; pancakes ; hotel icon ; top floor ; chinese food ; window table ; hk harbour ; set menu ; assistant manager ; night view ; food and wine ; ', 'All reviews ; bread basket ; foie gras ; amuse bouche ; degustation menu ; mashed potatoes ; lobster ; king crab ; wagyu beef ; soup ; souffle ; langoustines ; mango ; cakes ; discovery menu ; bar seating ; open kitchen ; french restaurant in hong kong ; ', \"All reviews ; brunch ; meatballs ; butcher's cut ; vitello tonnato ; semifreddo ; flank steak ; cold cuts ; parma ham ; antipasti ; sea bass ; tasting menu ; bread ; truffle ; salad ; suckling pig ; italian food ; restaurant week ; \", 'All reviews ; dim sum ; custard buns ; shrimp ; siew mai ; chee cheong fun ; siomai ; pineapple ; pork dumplings ; porridge ; chilli ; fries ; seafood ; soup ; english menu ; ladies market ; order form ; order sheet ; ', 'All reviews ; tandoori chicken ; naan ; seafood ; steak ; sit outside ; outdoor seating ; hong kong island ; lunch or dinner ; tram ; ', 'All reviews ; burger ; salad ; lan kwai fong ; standard hard rock ; visit hard rock ; american food ; central station ; victoria peak ; hrc ; lkf ; china ; asia ; ', 'All reviews ; brunch ; pizza ; minestrone soup ; parma ham ; osso bucco ; calamari ; antipasti ; seafood ; steak ; chef marco ; italian food ; italian manager ; harbour view ; victoria harbour ; hk island ; tsim sha tsui ; wine list ; ', 'All reviews ; fish balls ; wonton noodles ; fishballs ; beef ; king prawns ; chilli ; soups ; oyster sauce ; al dente ; big bowl ; great noodles ; mid level ; soup base ; limited menu ; michelin star ; fast service ; comfort food ; ', 'All reviews ; noodles ; fish balls ; soup ; pineapple bun ; brisket ; french toast ; macaroni ; condensed milk ; wellington street ; hong kong style ; restaurant chain ; an extensive menu ; decent food ; fast service ; chinese food ; hk ; branch ; ', 'All reviews ; palak paneer ; rogan josh ; curry ; naan bread ; lamb ; mango ; salad ; best indian ; indian food ; wyndham street ; indian restaurant in hong kong ; many indian restaurants ; lunch buffet is ; visited this restaurant ; hk ; floor ; veg ; ', 'All reviews ; brunch ; pizza ; antipasti ; salad ; tiramisu ; risotto ; cold cuts ; seafood ; sea bass ; steak ; truffle ; prawns ; ifc mall ; italian food ; dessert buffet ; business lunch ; main course ; ', 'All reviews ; dover sole ; roast beef ; amuse bouche ; prime rib ; petit fours ; oysters ; souffle ; foie gras ; sea bass ; bread ; salad ; chef simon ; for special occasions ; fine dining ; olive oil ; wonderful dinner ; an institution ; ', 'All reviews ; mango ; sago ; bird nest ; dessert shop ; dessert place ; tsim tsa tsui ; outlets ; jelly ; hk ; chewy ; desert ; usd ; ', 'All reviews ; spicy crab ; clams ; seafood ; rice ; fries ; roast goose ; typhoon shelter ; typical chinese restaurant ; their signature dish ; causeway bay ; garlic ; hk ; spiciness ; medium ; canto ; napkins ; seasoning ; ', 'All reviews ; bistecca ; steak ; delmonico ; t bone ; fondue ; antipasti buffet ; pasta ; creamed spinach ; cheesecake ; french fries ; foie gras ; bread ; oysters ; chicago style ; lan kwai fong ; cooked to perfection ; the rib eye ; ', 'All reviews ; traditional dim sum ; pork liver ; prawn dumplings ; siu mai ; egg tarts ; yum cha ; an institution ; central district ; hong kong style ; chinese food ; lung ; michelin ; ', 'All reviews ; peking duck ; beggars chicken ; noodles ; pancakes ; soup ; abalone ; dim sum ; beef ; fries ; star house ; noodle making ; the star ferry terminal ; light show ; spring onion ; harbour view ; victoria harbour ; great dinner ; ', 'All reviews ; peking duck ; dim sum ; baked crab ; scallops ; tasting menu ; pancakes ; fried rice ; abalone ; chicken ; seafood ; mango ; fries ; intercontinental hotel ; tea sommelier ; chinese restaurant ; lettuce leaves ; star michelin restaurant ; ', 'All reviews ; steak ; lobster bisque ; beef wellington ; foie gras ; bread ; fries ; light show ; incredible views ; side dishes ; the hong kong skyline ; the rib eye ; nathan road ; shopping centre ; victoria harbor ; special occasion ; wine list ; woolloomooloo ; ', 'All reviews ; brunch ; oysters ; sushi ; crab legs ; salad ; cold cuts ; foie gras ; cake ; dim sum ; soups ; eggs benedict ; steak ; ice cream ; noodles ; chicken ; free flow champagne ; seafood station ; ', 'All reviews ; dim sum ; pineapple bun ; shrimp ; siu mai ; dumplings ; porridge ; seafood ; rice ; pork ; truffle ; piggy custard ; austin station ; english menu ; fast service ; place to eat ; dining experience ; tasty food ; ', '', 'All reviews ; dim sum ; har gau ; liver ; sticky rice ; intestines ; cake ; authentic place ; hot water ; popular with locals ; english menu ; local friends ; chinese restaurant ; carts ; dimsum ; cantonese ; chit ; hk ; ', 'All reviews ; peking duck ; pancakes ; noodles ; hot and sour soup ; chicken ; scallops ; pastry ; dim sum ; fries ; noodle making ; pacific place ; chinese food ; crispy skin ; business lunch ; dishes ; hk ; dough ; ', 'All reviews ; empanadas ; steak ; morcilla ; provoleta ; blood sausage ; chorizo ; t bone ; sweetbreads ; french fries ; salad ; side dishes ; cooked medium rare ; wine list ; nice atmosphere ; friday night ; set lunch ; malbec ; ', 'All reviews ; peking duck ; dim sum ; crispy chicken ; petit fours ; abalone ; tasting menu ; pancakes ; pastry ; char siu ; cod fish ; roast goose ; soup ; the mandarin oriental hotel ; manager andy ; cantonese cuisine ; service was impeccable ; victoria harbour ; ', 'All reviews ; sandwich ; pastry ; pizza ; light show ; high tea ; victoria harbour ; tea set ; skyline ; symphony ; presentation ; ', 'All reviews ; wanton noodles ; beef brisket ; shrimp ; soup ; won ton ; kai lan ; small bowl ; jordan mtr station ; noodle place ; english menu ; cooked just right ; stringy ; taste ; hk ; tendon ; texture ; veggies ; ', 'All reviews ; fried rice ; dim sum ; degustation menu ; wagyu beef ; foie gras ; mango roll ; suckling pig ; sweet and sour pork ; prawns ; abalone ; char siew ; crab ; fries ; seafood ; dry ice ; a michelin star restaurant ; award winning dishes ; ', 'All reviews ; brunch ; fish pie ; short ribs ; salad ; beef ; tom aikens ; johnston road ; free flow ; set lunch ; set menu ; hk ; floor ; ', 'All reviews ; brunch ; lobster ; sushi ; shellfish ; foie gras ; roast beef ; tempura ; pasta ; bread ; ice cream ; dim sum ; intercontinental hotel ; intercontinental hong kong ; perrier jouet ; egg station ; victoria harbour ; hot dishes ; ', 'All reviews ; fish and chips ; shepherds pie ; sunday roast ; mash ; burger ; beef ; irish pub ; great pub ; nathan road ; nathan rd ; taste of home ; ex pats ; mainland china ; on tap ; trip to hong kong ; wan chai ; delaneys ; ', 'All reviews ; tapas ; jamon ; bone marrow ; walnut pesto ; paella ; padron peppers ; suckling pig ; ham ; octopus ; sliders ; sea bass ; burger ; pork ; bread ; chilli ; wan chai ; open kitchen ; ', 'All reviews ; brunch ; scones ; oysters ; fresh seafood ; hainan chicken rice ; cheesecake ; prime rib ; sashimi ; abalone ; dim sum ; pastry ; ice cream ; crab ; bread ; salad ; rose petal jam ; mandarin oriental ; ', 'All reviews ; pork buns ; dim sum ; char siu bao ; shrimp ; turnip cake ; sticky rice ; chee cheong fun ; spring rolls ; vermicelli bowl ; cakes ; michelin star ; tick box ; city garden hotel ; wharf road ; chicken feet ; english menu ; lotus leaf ; ', 'All reviews ; liver ; porridge ; noodles ; century egg ; pork ; fritters ; preserved egg ; sliced fish ; novotel nathan road ; chinese donut ; english menu ; jordan mtr station ; jordan area ; small eatery ; comfort food ; simple meal ; oyster sauce ; ', 'All reviews ; brunch ; pizza ; salad ; parma ham ; cold cuts ; bread ; sea bass ; cake ; ocean terminal ; italian food ; laser show ; outdoor seating ; great wine ; delicious meal ; hong kong island ; harbour view ; by the glass ; ', 'All reviews ; fish congee ; porridge ; century egg ; liver ; pork balls ; fried fritters ; fish slices ; meatballs ; doughnuts ; fries ; soy sauce ; piping hot ; large bowl ; spring onion ; cityview hotel ; comfort food ; english menu ; ', 'All reviews ; truffle ; pasta ; veal chop ; tagliolini ; baby lamb ; bread ; blue lobster ; degustation menu ; petit fours ; caviar ; amuse bouche ; abalone ; short ribs ; octopus ; soup ; potatoes ; star michelin restaurant ; ', 'All reviews ; truffle fries ; baos ; pork belly ; ice cream ; brussel sprouts ; burger ; dumplings ; hot chicken ; short ribs ; clams ; female chef ; big taste ; bar seating ; great little place ; waiting list ; green tea ; staunton street ; ', 'All reviews ; dim sum ; dumplings ; truffle mushroom ; shumai ; rice ; spareribs ; radish cake ; shrimp ; siew mai ; spring rolls ; cakes ; soup ; shark fin ; ordered dishes ; tim sum ; fast service ; milk tea ; ', 'All reviews ; seafood ; cakes ; fresh oysters ; cold cuts ; ice cream ; tiramisu ; salad ; salmon ; high tea ; ritz carlton ; tea set ; dinner buffet ; fabulous buffet ; nice afternoon tea ; birthday dessert ; window seat ; night view ; ', 'All reviews ; naan ; lamb vindaloo ; butter chicken ; truffle ; mango ; live indian music ; ashley road ; tasty indian food ; great indian ; buffet lunch ; in tsim sha tsui ; hk ; hong ; lift ; floor ; cuisine ; ', 'All reviews ; tasting menu ; peking duck ; abalone ; baked oysters ; fried rice ; dim sum ; chicken ; cod ; crab ; egg tarts ; prawns ; seafood ; cake ; fries ; tang court ; cantonese food ; star michelin ; ', 'All reviews ; carpaccio ; pizza ; tiramisu ; carbonara ; salad ; truffle ; ham ; salmon ; steak ; bread ; seafood ; italian food ; italian gem ; shopping mall ; third floor ; friendly atmosphere ; tsim sha tsui ; ', 'All reviews ; pizza ; prosciutto di parma ; tiramisu ; meatballs ; antipasti ; salad ; brussels sprouts ; cakes ; chilli ; shelley street ; quattro formaggi ; the mid level escalators ; the wan chai branch ; thin crust ; places in hong kong ; fresh ingredients ; nice service ; ', 'All reviews ; brunch ; blt ; steak ; yorkshire pudding ; bread ; popovers ; salad ; potato gratin ; new york strip ; fries ; crepes ; oysters ; chicken ; ice cream ; australian fillet ; delicious sides ; side orders ; ', 'All reviews ; tasting menu ; foie gras ; gyu ; xiao long bao ; quail egg ; cod ; suckling pig ; beef ; unagi ; abalone ; prawns ; dim sum ; rice ; seafood ; molecular gastronomy ; chinese cuisine ; chef alvin ; ', 'All reviews ; wanton noodles ; soup ; porridge ; dim sum ; beef ; prawns ; siew mai ; fries ; chilli ; hysan place ; michelin star ; causeway bay ; airport branch ; al dente ; michelin guide ; street level ; comfort food ; ', 'All reviews ; french toast ; noodles ; chicken ; bao ; milk tea ; authentic hk ; thirst quencher ; hong kong breakfast ; quick breakfast ; spring onion ; small place ; bun ; queue ; yeung ; tang ; takeaway ; foreigners ; ', 'All reviews ; souffle ; chicken wings ; ox tongue ; roast pigeon ; flat rice noodles ; borscht ; soup ; beef chow fun ; prawns ; steak ; swiss sauce ; western food ; portuguese style ; hong kong style ; sweet soy sauce ; their signature dish ; nathan road ; ']\n",
      "\n",
      "url\n",
      "['https://www.tripadvisor.com/Restaurant_Review-g294217-d2198231-Reviews-OZONE-Hong_Kong.html', 'https://www.tripadvisor.com/Restaurant_Review-g294217-d1745792-Reviews-Tim_Ho_Wan_the_Dim_Sum_Specialists-Hong_Kong.html', 'https://www.tripadvisor.com/Restaurant_Review-g294217-d779644-Reviews-Aqua_Roma_Aqua_Tokyo_Aqua_Spirit-Hong_Kong.html', 'https://www.tripadvisor.com/Restaurant_Review-g294217-d2540306-Reviews-One_Dim_Sum_Chinese_Restaurant-Hong_Kong.html', 'https://www.tripadvisor.com/Restaurant_Review-g294217-d2706744-Reviews-Din_Tai_Fung_Yee_Wo_Branch-Hong_Kong.html', 'https://www.tripadvisor.com/Restaurant_Review-g294217-d1367659-Reviews-Hutong-Hong_Kong.html', 'https://www.tripadvisor.com/Restaurant_Review-g294217-d2422144-Reviews-Tim_Ho_Wan_Central-Hong_Kong.html', 'https://www.tripadvisor.com/Restaurant_Review-g294217-d776832-Reviews-Australia_Dairy_Company-Hong_Kong.html', 'https://www.tripadvisor.com/Restaurant_Review-g294217-d5400408-Reviews-Din_Tai_Fung_Silvercord-Hong_Kong.html', 'https://www.tripadvisor.com/Restaurant_Review-g294217-d785057-Reviews-Yung_Kee_Restaurant-Hong_Kong.html', 'https://www.tripadvisor.com/Restaurant_Review-g294217-d878088-Reviews-The_Lobby_at_the_Peninsula_Hong_Kong-Hong_Kong.html', 'https://www.tripadvisor.com/Restaurant_Review-g294217-d1207531-Reviews-Jumbo_Kingdom_Floating_Restaurant-Hong_Kong.html', 'https://www.tripadvisor.com/Restaurant_Review-g294217-d1811943-Reviews-Cafe_Gray_Deluxe-Hong_Kong.html', 'https://www.tripadvisor.com/Restaurant_Review-g294217-d799966-Reviews-Bubba_Gump_Shrimp_Co-Hong_Kong.html', 'https://www.tripadvisor.com/Restaurant_Review-g294217-d2399904-Reviews-Tin_Lung_Heen-Hong_Kong.html', 'https://www.tripadvisor.com/Restaurant_Review-g294217-d3749262-Reviews-Tim_Ho_Wan_Sham_Shui_Po-Hong_Kong.html', 'https://www.tripadvisor.com/Restaurant_Review-g294217-d798091-Reviews-City_Hall_Maxim_s_Palace-Hong_Kong.html', 'https://www.tripadvisor.com/Restaurant_Review-g294217-d943734-Reviews-Spring_Deer-Hong_Kong.html', 'https://www.tripadvisor.com/Restaurant_Review-g294217-d6579151-Reviews-Mott_32-Hong_Kong.html', 'https://www.tripadvisor.com/Restaurant_Review-g294217-d2161545-Reviews-Tosca_di_Angelo-Hong_Kong.html', 'https://www.tripadvisor.com/Restaurant_Review-g294217-d2166297-Reviews-The_Lounge_Bar-Hong_Kong.html', 'https://www.tripadvisor.com/Restaurant_Review-g294217-d8353573-Reviews-Scarlett_Cafe_Wine_Bar-Hong_Kong.html', 'https://www.tripadvisor.com/Restaurant_Review-g294217-d1892540-Reviews-Wooloomooloo_Steakhouse_Wan_Chai-Hong_Kong.html', 'https://www.tripadvisor.com/Restaurant_Review-g294217-d1024986-Reviews-NOBU_InterContinental_Hong_Kong-Hong_Kong.html', 'https://www.tripadvisor.com/Restaurant_Review-g294217-d940224-Reviews-Felix-Hong_Kong.html', 'https://www.tripadvisor.com/Restaurant_Review-g294217-d6758068-Reviews-Ho_Lee_Fook-Hong_Kong.html', 'https://www.tripadvisor.com/Restaurant_Review-g294217-d841139-Reviews-Zuma-Hong_Kong.html', 'https://www.tripadvisor.com/Restaurant_Review-g294217-d939504-Reviews-Amber-Hong_Kong.html', 'https://www.tripadvisor.com/Restaurant_Review-g294217-d7808139-Reviews-Braza_Churrascaria_Brazilian_Steakhouse-Hong_Kong.html', 'https://www.tripadvisor.com/Restaurant_Review-g294217-d3749223-Reviews-Yat_Lok_Restaurant-Hong_Kong.html', 'https://www.tripadvisor.com/Restaurant_Review-g294217-d6894266-Reviews-Kam_s_Roast_Goose-Hong_Kong.html', 'https://www.tripadvisor.com/Restaurant_Review-g294217-d1062729-Reviews-Lung_King_Heen-Hong_Kong.html', 'https://www.tripadvisor.com/Restaurant_Review-g294217-d1527741-Reviews-Lin_Heung_Tea_House-Hong_Kong.html', 'https://www.tripadvisor.com/Restaurant_Review-g294217-d2534180-Reviews-Dim_Sum_Square-Hong_Kong.html', 'https://www.tripadvisor.com/Restaurant_Review-g294217-d919498-Reviews-Mak_s_Noodle_Mak_Un_Kee-Hong_Kong.html', 'https://www.tripadvisor.com/Restaurant_Review-g294217-d3171948-Reviews-DimDimSum_Dim_Sum_Specialty_Store_Wan_Chai-Hong_Kong.html', 'https://www.tripadvisor.com/Restaurant_Review-g294217-d795044-Reviews-Kau_Kee_Restaurant-Hong_Kong.html', 'https://www.tripadvisor.com/Restaurant_Review-g294217-d799832-Reviews-Kam_Wah_Cafe-Hong_Kong.html', 'https://www.tripadvisor.com/Restaurant_Review-g294217-d786130-Reviews-The_Sweet_Dynasty_Tsim_Sha_Tsui-Hong_Kong.html', 'https://www.tripadvisor.com/Restaurant_Review-g294217-d7050211-Reviews-Bread_Street_Kitchen-Hong_Kong.html', 'https://www.tripadvisor.com/Restaurant_Review-g294217-d799899-Reviews-Tai_Cheong_Bakery-Hong_Kong.html', 'https://www.tripadvisor.com/Restaurant_Review-g294217-d1052864-Reviews-Sevva-Hong_Kong.html', 'https://www.tripadvisor.com/Restaurant_Review-g294217-d6739503-Reviews-Ding_Dim_1968-Hong_Kong.html', 'https://www.tripadvisor.com/Restaurant_Review-g294217-d10089430-Reviews-Capo-Hong_Kong.html', 'https://www.tripadvisor.com/Restaurant_Review-g294217-d2514791-Reviews-The_Market-Hong_Kong.html', 'https://www.tripadvisor.com/Restaurant_Review-g294217-d1755975-Reviews-Tsui_Wah_Restaurant_Pak_Hoi_Street_Shop-Hong_Kong.html', 'https://www.tripadvisor.com/Restaurant_Review-g294217-d912108-Reviews-Caprice_Central-Hong_Kong.html', 'https://www.tripadvisor.com/Restaurant_Review-g294217-d816324-Reviews-Crystal_Jade_La_Mian_Xiao_Long_Bao_Gateway_Arcade-Hong_Kong.html', 'https://www.tripadvisor.com/Restaurant_Review-g294217-d844402-Reviews-Morton_s_The_Steakhouse-Hong_Kong.html', 'https://www.tripadvisor.com/Restaurant_Review-g294217-d2390123-Reviews-Above_and_Beyond-Hong_Kong.html', 'https://www.tripadvisor.com/Restaurant_Review-g294217-d809453-Reviews-L_Atelier_de_Joel_Robuchon-Hong_Kong.html', 'https://www.tripadvisor.com/Restaurant_Review-g294217-d7289468-Reviews-Pirata-Hong_Kong.html', 'https://www.tripadvisor.com/Restaurant_Review-g294217-d3309467-Reviews-DimDimSum_Dim_Sum_Specialty_Store_Mong_Kok-Hong_Kong.html', 'https://www.tripadvisor.com/Restaurant_Review-g294217-d788642-Reviews-The_Peak_Lookout-Hong_Kong.html', 'https://www.tripadvisor.com/Restaurant_Review-g294217-d1320779-Reviews-Hard_Rock_Cafe_Hong_Kong-Hong_Kong.html', 'https://www.tripadvisor.com/Restaurant_Review-g294217-d1100137-Reviews-Spasso_Italian_Bar_Restaurant-Hong_Kong.html', 'https://www.tripadvisor.com/Restaurant_Review-g294217-d1094369-Reviews-Tsim_Chai_Kee_Noodle_Wellington_Street-Hong_Kong.html', 'https://www.tripadvisor.com/Restaurant_Review-g294217-d798374-Reviews-Tsui_Wah_Restaurant-Hong_Kong.html', 'https://www.tripadvisor.com/Restaurant_Review-g294217-d799250-Reviews-Bombay_Dreams-Hong_Kong.html', 'https://www.tripadvisor.com/Restaurant_Review-g294217-d786786-Reviews-Isola_Bar_Grill-Hong_Kong.html', 'https://www.tripadvisor.com/Restaurant_Review-g294217-d941989-Reviews-Mandarin_Grill_Bar_at_Mandarin_Oriental_Hong_Kong-Hong_Kong.html', 'https://www.tripadvisor.com/Restaurant_Review-g294217-d1196158-Reviews-Hui_Lau_Shan-Hong_Kong.html', 'https://www.tripadvisor.com/Restaurant_Review-g294217-d1089734-Reviews-Under_the_Bridge_Spicy_Crab-Hong_Kong.html', 'https://www.tripadvisor.com/Restaurant_Review-g294217-d2276403-Reviews-Bistecca_Italian_Steak_House-Hong_Kong.html', 'https://www.tripadvisor.com/Restaurant_Review-g294217-d1546043-Reviews-Luk_Yu_Tea_House-Hong_Kong.html', 'https://www.tripadvisor.com/Restaurant_Review-g294217-d2017430-Reviews-Peking_Garden_Tsim_Sha_Tsui-Hong_Kong.html', 'https://www.tripadvisor.com/Restaurant_Review-g294217-d927163-Reviews-Yan_Toh_Heen_InterContinental_Hong_Kong-Hong_Kong.html', 'https://www.tripadvisor.com/Restaurant_Review-g294217-d1955748-Reviews-Wooloomooloo_Prime_Tsim_Sha_Tsui-Hong_Kong.html', 'https://www.tripadvisor.com/Restaurant_Review-g294217-d1799916-Reviews-Kitchen_W_Hotel_Hong_Kong-Hong_Kong.html', 'https://www.tripadvisor.com/Restaurant_Review-g294217-d2437900-Reviews-DimDimSum_Dim_Sum_Specialty_Store_Jordan-Hong_Kong.html', 'https://www.tripadvisor.com/Restaurant_Review-g294217-d6951944-Reviews-Jamie_s_Italian-Hong_Kong.html', 'https://www.tripadvisor.com/Restaurant_Review-g294217-d2017661-Reviews-Lin_Heung_Kui-Hong_Kong.html', 'https://www.tripadvisor.com/Restaurant_Review-g294217-d938999-Reviews-Peking_Garden_Restaurant_Alexandra_House-Hong_Kong.html', 'https://www.tripadvisor.com/Restaurant_Review-g294217-d2433070-Reviews-Tango_Argentinian_Steak_House-Hong_Kong.html', 'https://www.tripadvisor.com/Restaurant_Review-g294217-d1792423-Reviews-Man_Wah-Hong_Kong.html', 'https://www.tripadvisor.com/Restaurant_Review-g294217-d1482758-Reviews-Lobby_Lounge_InterContinental_Hong_Kong-Hong_Kong.html', 'https://www.tripadvisor.com/Restaurant_Review-g294217-d800834-Reviews-Mak_Man_Kee_Noodle_Shop-Hong_Kong.html', 'https://www.tripadvisor.com/Restaurant_Review-g294217-d1094822-Reviews-Ming_Court_Cordis_Hong_Kong-Hong_Kong.html', 'https://www.tripadvisor.com/Restaurant_Review-g294217-d1098376-Reviews-The_Pawn-Hong_Kong.html', 'https://www.tripadvisor.com/Restaurant_Review-g294217-d793034-Reviews-Harbourside_Restaurant-Hong_Kong.html', 'https://www.tripadvisor.com/Restaurant_Review-g294217-d1952785-Reviews-Delaney_s_Kowloon_Irish_Bar-Hong_Kong.html', 'https://www.tripadvisor.com/Restaurant_Review-g294217-d3602180-Reviews-22_Ships-Hong_Kong.html', 'https://www.tripadvisor.com/Restaurant_Review-g294217-d1027723-Reviews-Clipper_Lounge-Hong_Kong.html', 'https://www.tripadvisor.com/Restaurant_Review-g294217-d11621345-Reviews-Tim_Ho_Wan-Hong_Kong.html', 'https://www.tripadvisor.com/Restaurant_Review-g294217-d799819-Reviews-Nathan_Congee_And_Noodle-Hong_Kong.html', 'https://www.tripadvisor.com/Restaurant_Review-g294217-d2165749-Reviews-AL_MOLO_RISTORANTE_ITALIANO_Michael_White-Hong_Kong.html', 'https://www.tripadvisor.com/Restaurant_Review-g294217-d2719190-Reviews-Sang_Kee_Congee_Shop-Hong_Kong.html', 'https://www.tripadvisor.com/Restaurant_Review-g294217-d2423554-Reviews-8_1_2_Otto_e_Mezzo_Bombana-Hong_Kong.html', 'https://www.tripadvisor.com/Restaurant_Review-g294217-d6420711-Reviews-Little_Bao-Hong_Kong.html', 'https://www.tripadvisor.com/Restaurant_Review-g294217-d4928934-Reviews-Canton_s_Dim_Sum_Expert_Tsim_Sha_Tsui-Hong_Kong.html', 'https://www.tripadvisor.com/Restaurant_Review-g294217-d3600498-Reviews-Cafe_103-Hong_Kong.html', 'https://www.tripadvisor.com/Restaurant_Review-g294217-d799972-Reviews-Gaylord_Indian_Restaurant-Hong_Kong.html', 'https://www.tripadvisor.com/Restaurant_Review-g294217-d1023200-Reviews-T_ang_Court_The_Langham_Hong_Kong-Hong_Kong.html', 'https://www.tripadvisor.com/Restaurant_Review-g294217-d1880782-Reviews-Carpaccio_Pasta_Pizza_Vino-Hong_Kong.html', 'https://www.tripadvisor.com/Restaurant_Review-g294217-d4361851-Reviews-Motorino_SoHo-Hong_Kong.html', 'https://www.tripadvisor.com/Restaurant_Review-g294217-d1776480-Reviews-BLT_Steak_Ocean_Terminal-Hong_Kong.html', 'https://www.tripadvisor.com/Restaurant_Review-g294217-d793088-Reviews-Bo_Innovation-Hong_Kong.html', 'https://www.tripadvisor.com/Restaurant_Review-g294217-d1811458-Reviews-Ho_Hung_Kee-Hong_Kong.html', 'https://www.tripadvisor.com/Restaurant_Review-g294217-d779820-Reviews-Lan_Fong_Yuen_Central-Hong_Kong.html', 'https://www.tripadvisor.com/Restaurant_Review-g294217-d3927685-Reviews-Tai_Ping_Koon_Restaurant_Mau_Lam_Street-Hong_Kong.html']\n",
      "\n",
      "website\n",
      "['http://www.ritzncarlton.com/en/Properties/HongKAong/Ddining/Ddefault.htm8?utm_source=tripadvisori&utm_medium=referral', 'http://www.timhowan.com/?utm_source=tripadvisori&utm_medium=referral', 'http://www.aq_ua.com.hk/?utm_source=tripadvisori&utm_medium=referral', '', 'http://www.dintaifung.com.tw/en/areaA_a_detail.asp?AreaNO=208&AreaCountryNO=4&utm_source=tripadvisori&utm_medium=referral', 'http://hutong.com.hk/?utm_source=tripadvisori&utm_medium=referral', 'http://www.timhowan.com/?utm_source=tripadvisori&utm_medium=referral', '', 'http://www.dintaifung.com.hk/?utm_source=tripadvisori&utm_medium=referral', 'http://www.yungkee.com.hk/?utm_source=tripadvisori&utm_medium=referral', 'http://www.peninsula.com/en/hong-kong/hotel-fine-dining/the-lobby-afternoon-tea?utm_source=tripadvisori&utm_medium=referral', 'http://www.jumbo.com.hk/eng/main.php?utm_source=tripadvisori&utm_medium=referral', 'http://www.cafegrayhk.com/?utm_source=tripadvisori&utm_medium=referral', 'http://bubbagump.hk/?utm_source=tripadvisori&utm_medium=referral', 'http://www.ritzncarlton.com/en/hotels0/china/hong-kong/dining/tin-lung-heen?utm_source=tripadvisori&utm_medium=referral', 'http://www.timhowan.com/?utm_source=tripadvisori&utm_medium=referral', 'http://www.maxrimschinese.com.hk/eng/restaurant/indexr.aspxr?utm_source=tripadvisori&utm_medium=referral', '', 'http://www.mott32.com/?utm_source=tripadvisori&utm_medium=referral', 'http://www.ritzncarlton.com/en/hotels0/china/hong-kong/dining/tosca?utm_source=tripadvisori&utm_medium=referral', 'http://www.ritzncarlton.com/en/hotels0/china/hong-kong/dining/the-lounge-bar?utm_source=tripadvisori&utm_medium=referral', 'http://www.randblab.com/scarlett.html?utm_source=tripadvisori&utm_medium=referral#g2', 'http://wooloo-mooloo.com/hk/wan-chai.aspxr?utm_source=tripadvisori&utm_medium=referral', 'http://www.hongkong-ic.intercontinental.com/dining/nobu.php?utm_source=tripadvisori&utm_medium=referral', 'http://www.peninsula.com/felixr?utm_source=tripadvisori&utm_medium=referral', 'http://www.holeefook.com.hk/?utm_source=tripadvisori&utm_medium=referral', 'http://znumarestaurant.com/locations/hong-kong/?utm_source=tripadvisori&utm_medium=referral', 'https://Hwww.mandarinoriental.com/hong-kong/the-landmark/fine-dining/restaurants/contemporary-cuisine/amber?htl=LMHKAG0&kw=LMHKAG|_amber&eng=yexrt&src=local&utm_source=tripadvisori&utm_medium=referral', 'http://www.diningconcepts.com/restaurants/Brazna?utm_source=tripadvisori&utm_medium=referral', '', 'http://www.krg.com.hk/!0en?utm_source=tripadvisori&utm_medium=referral', 'http://www.fourseasons.com/hongkong/dining/restaurants/lung_king_heen/?utm_source=tripadvisori&utm_medium=referral', 'http://www.hongkongnavi.com/food/15?utm_source=tripadvisori&utm_medium=referral', 'http://dimsumsq_uare.top-cafes.com/?utm_source=tripadvisori&utm_medium=referral', '', 'http://www.dimdimsum.hk/?utm_source=tripadvisori&utm_medium=referral', '', 'http://www.misopeckish.com/2014/02/13/pineapple-bun-hong-kong?utm_source=tripadvisori&utm_medium=referral', '', 'https://Hwww.gordonramsayrestaurants.com/bread-street-kitchen-and-bar-hong-kong/?utm_source=tripadvisori&utm_medium=referral', 'http://www.taoheung.com.hk/tc/hot_promotions/tai_cheong_bakery/indexr.html?utm_source=tripadvisori&utm_medium=referral', 'http://www.sevva.hk/?utm_source=tripadvisori&utm_medium=referral', 'http://www.dingdim.com/?utm_source=tripadvisori&utm_medium=referral', 'http://www.combocapo.com/?utm_source=tripadvisori&utm_medium=referral', 'http://www.hotel-icon.com/dining/the-market?utm_source=tripadvisori&utm_medium=business-advantage&utm_campaign=listing', 'http://www.tsuiwahrestaurant.com/?utm_source=tripadvisori&utm_medium=referral', 'http://www.fourseasons.com/hongkong/dining/restaurants/caprice/?utm_source=tripadvisori&utm_medium=referral', 'http://www.crystaljade.com.hk/?utm_source=tripadvisori&utm_medium=referral', 'http://www.mortons.com/hongkong/?utm_source=tripadvisori&utm_medium=referral', 'http://www.hotel-icon.com/dining/above-beyond?utm_source=tripadvisori&utm_medium=business-advantage&utm_campaign=listing', 'http://www.robuchon.hk/?utm_source=tripadvisori&utm_medium=referral', 'http://www.pirata.hk/?utm_source=tripadvisori&utm_medium=referral', 'http://www.dimdimsum.hk/?utm_source=tripadvisori&utm_medium=referral', 'http://www.peaklookout.com.hk/?utm_source=tripadvisori&utm_medium=referral', 'https://Hwww.hardrock.com/cafes/hong-kong-lkf/?utm_source=tripadvisori&utm_medium=referral', 'http://www.spassoristorante-bar.com.hk/?utm_source=tripadvisori&utm_medium=referral', 'http://tsimchaikee.top-cafes.com/?utm_source=tripadvisori&utm_medium=referral', 'http://tsuiwahrestaurant.com/?utm_source=tripadvisori&utm_medium=referral', 'http://www.diningconcepts.com/restaurants/Bombay-Ddreams?utm_source=tripadvisori&utm_medium=referral', 'http://www.gaiagroup.com.hk/?utm_source=tripadvisori&utm_medium=referral', 'https://Hwww.mandarinoriental.com/hong-kong/victoria-harbour/fine-dining/restaurants/european-cuisine/mandarin-grill-and-bar?htl=MOHKAG0&kw=MOHKAG|_grill&eng=yexrt&src=local&utm_source=tripadvisori&utm_medium=referral', 'https://Hwww.hkhls.com/?utm_source=tripadvisori&utm_medium=referral', 'http://www.underspicycrab.com/chi/indexr.php?utm_source=tripadvisori&utm_medium=referral', 'http://www.diningconcepts.com/restaurants/Bistecca?utm_source=tripadvisori&utm_medium=referral', 'http://www.lukyuteahouse.com/?utm_source=tripadvisori&utm_medium=referral', 'http://www.pekinggarden.com.hk/?utm_source=tripadvisori&utm_medium=referral', 'http://hongkong-ic.intercontinental.com/en/dining/yan-toh-heen/?utm_source=tripadvisori&utm_medium=referral', 'http://www.wooloo-mooloo.com/hk/wooloomooloo-prime-tst.aspxr?utm_source=tripadvisori&utm_medium=referral', 'http://www.w-hongkong.com/?utm_source=tripadvisori&utm_medium=referral', 'http://www.dimdimsum.hk/?utm_source=tripadvisori&utm_medium=referral', 'http://www.jamieoliver.com/italian/hongkong?utm_source=tripadvisori&utm_medium=referral', 'http://www.linheung.com.hk/lin_heung_kui/?utm_source=tripadvisori&utm_medium=referral', 'http://www.pekinggarden.com.hk/?utm_source=tripadvisori&utm_medium=referral', 'http://www.diningconcepts.com.hk/?utm_source=tripadvisori&utm_medium=referral', 'http://mandarinoriental.com/?utm_source=tripadvisori&utm_medium=referral', 'http://www.hongkong-ic.intercontinental.com/dining/lobby_lounge.php?utm_source=tripadvisori&utm_medium=referral', 'http://www.mmk.hk/?utm_source=tripadvisori&utm_medium=referral', 'http://www.cordishotels0.com/sc/hong-kong/restaurants-and-bars/ming-court/?utm_source=tripadvisori&utm_medium=referral', 'http://thepawn.com.hk/?utm_source=tripadvisori&utm_medium=referral', 'http://www.hongkong-ic.intercontinental.com/dining/harbourside.php?utm_source=tripadvisori&utm_medium=referral', 'http://www.delaneys.com.hk/?utm_source=tripadvisori&utm_medium=referral', 'http://www.22ships.hk/?utm_source=tripadvisori&utm_medium=referral', 'https://Hwww.mandarinoriental.com/hong-kong/victoria-harbour/fine-dining/buffets/international-cuisine/clipper-lounge?htl=MOHKAG0&kw=MOHKAG|_clipper&eng=yexrt&src=local&utm_source=tripadvisori&utm_medium=referral', '', '', 'http://www.diningconcepts.com/restaurants/Al-Molo?utm_source=tripadvisori&utm_medium=referral', '', 'http://www.ottoemeznznobombana.com/?utm_source=tripadvisori&utm_medium=referral', 'http://www.little-bao.com/?utm_source=tripadvisori&utm_medium=referral', '', 'http://www.ritzncarlton.com/en/hotels0/china/hong-kong/dining/cafe-103?utm_source=tripadvisori&utm_medium=referral', 'http://www.mayfare.com.hk/gaylord-overview.php?utm_source=tripadvisori&utm_medium=referral', 'http://www.langhamhotels0.com/en/the-langham/hong-kong/dining/tang-court/?utm_source=tripadvisori&utm_medium=referral', 'http://www.carpaccio.com.hk/?utm_source=tripadvisori&utm_medium=referral', 'http://www.motorinohongkong.com/?utm_source=tripadvisori&utm_medium=referral', 'http://www.diningconcepts.com/restaurants/BLT-Steak?utm_source=tripadvisori&utm_medium=referral', 'http://www.boinnovation.com/?utm_source=tripadvisori&utm_medium=referral', 'http://www.tasty.com.hk/?utm_source=tripadvisori&utm_medium=referral', '', 'http://taipingkoon.com/?utm_source=tripadvisori&utm_medium=referral']\n",
      "\n"
     ]
    }
   ],
   "source": [
    "# for attr in tripadvisor_outlet[0]:\n",
    "#     print(attr)\n",
    "#     by_attr(tripadvisor_outlet, attr)\n",
    "#     print()\n",
    "pprint_by_attr(tripadvisor_outlet)"
   ]
  },
  {
   "cell_type": "markdown",
   "metadata": {},
   "source": [
    "#### cuisines"
   ]
  },
  {
   "cell_type": "code",
   "execution_count": 125,
   "metadata": {},
   "outputs": [
    {
     "data": {
      "text/plain": [
       "['Japanese',\n",
       " 'Asian',\n",
       " 'Steakhouse',\n",
       " 'Irish',\n",
       " 'British',\n",
       " 'Argentinean',\n",
       " 'Bar',\n",
       " 'French',\n",
       " 'European',\n",
       " 'Cafe',\n",
       " 'Fusion',\n",
       " 'Contemporary',\n",
       " 'Mediterranean',\n",
       " 'American',\n",
       " 'Italian',\n",
       " 'Australian',\n",
       " 'Healthy',\n",
       " 'Street Food',\n",
       " 'Chinese',\n",
       " 'Latin',\n",
       " 'Taiwanese',\n",
       " 'Seafood',\n",
       " 'South American',\n",
       " 'Sushi',\n",
       " 'Indian',\n",
       " 'Brazilian',\n",
       " 'Pub',\n",
       " 'Soups',\n",
       " 'Fast Food',\n",
       " 'International',\n",
       " 'Pizza',\n",
       " 'Spanish',\n",
       " 'Barbecue',\n",
       " 'Wine Bar']"
      ]
     },
     "execution_count": 125,
     "metadata": {},
     "output_type": "execute_result"
    }
   ],
   "source": [
    "cuisines_set = set()\n",
    "for outlet in tripadvisor_outlet:\n",
    "    cuisines = set(outlet['cuisines'].split(', '))\n",
    "    cuisines_set.update(cuisines)\n",
    "cuisines_list = [cuisine for cuisine in cuisine_set if cuisine != '']\n",
    "cuisines_list"
   ]
  },
  {
   "cell_type": "markdown",
   "metadata": {},
   "source": [
    "#### features"
   ]
  },
  {
   "cell_type": "code",
   "execution_count": 128,
   "metadata": {},
   "outputs": [
    {
     "data": {
      "text/plain": [
       "['Valet Parking',\n",
       " 'Parking Available',\n",
       " 'Delivery',\n",
       " 'Free Wifi',\n",
       " 'Outdoor Seating',\n",
       " 'Buffet',\n",
       " 'Full Bar',\n",
       " 'Private Dining',\n",
       " 'Seating',\n",
       " 'Serves Alcohol',\n",
       " 'Wine and Beer',\n",
       " 'Accepts Visa',\n",
       " 'Validated Parking',\n",
       " 'Wheelchair Accessible',\n",
       " 'Accepts Discover',\n",
       " 'Takeout',\n",
       " 'Highchairs Available',\n",
       " 'Accepts Credit Cards',\n",
       " 'Digital Payments',\n",
       " 'Accepts Mastercard',\n",
       " 'Table Service',\n",
       " 'Accepts American Express',\n",
       " 'Reservations',\n",
       " 'Cash Only',\n",
       " 'Television',\n",
       " 'Live Music']"
      ]
     },
     "execution_count": 128,
     "metadata": {},
     "output_type": "execute_result"
    }
   ],
   "source": [
    "features_set = set()\n",
    "for outlet in tripadvisor_outlet:\n",
    "    features = set(outlet['features'].split(', '))\n",
    "    features_set.update(features)\n",
    "features_list = [feature for feature in features_set if feature != '']\n",
    "features_list"
   ]
  },
  {
   "cell_type": "markdown",
   "metadata": {},
   "source": [
    "#### id_outlet"
   ]
  },
  {
   "cell_type": "code",
   "execution_count": 133,
   "metadata": {},
   "outputs": [
    {
     "data": {
      "text/plain": [
       "True"
      ]
     },
     "execution_count": 133,
     "metadata": {},
     "output_type": "execute_result"
    }
   ],
   "source": [
    "id_outlet_list = list()\n",
    "for outlet in tripadvisor_outlet:\n",
    "    id_outlet_list.append(outlet['id_outlet'])\n",
    "len(id_outlet_list) == len(set(id_outlet_list))"
   ]
  },
  {
   "cell_type": "markdown",
   "metadata": {},
   "source": [
    "#### price_level"
   ]
  },
  {
   "cell_type": "markdown",
   "metadata": {},
   "source": [
    "Each `price_level` sign corresponds to a class, observing from the website."
   ]
  },
  {
   "cell_type": "code",
   "execution_count": 146,
   "metadata": {},
   "outputs": [],
   "source": [
    "price_level_map = {\n",
    "    '$': 'Cheap Eats',\n",
    "    '$$ - $$$': 'Mid-range',\n",
    "    '$$$$': 'Fine Dining'}"
   ]
  },
  {
   "cell_type": "code",
   "execution_count": 147,
   "metadata": {},
   "outputs": [
    {
     "data": {
      "text/plain": [
       "['Fine Dining',\n",
       " 'Cheap Eats',\n",
       " 'Fine Dining',\n",
       " 'Cheap Eats',\n",
       " 'Mid-range',\n",
       " 'Fine Dining',\n",
       " 'Cheap Eats',\n",
       " 'Cheap Eats',\n",
       " 'Mid-range',\n",
       " 'Fine Dining',\n",
       " 'Fine Dining',\n",
       " 'Mid-range',\n",
       " 'Fine Dining',\n",
       " 'Mid-range',\n",
       " 'Fine Dining',\n",
       " 'Cheap Eats',\n",
       " 'Mid-range',\n",
       " 'Mid-range',\n",
       " 'Fine Dining',\n",
       " 'Fine Dining',\n",
       " 'Fine Dining',\n",
       " 'Mid-range',\n",
       " 'Fine Dining',\n",
       " 'Fine Dining',\n",
       " 'Fine Dining',\n",
       " 'Mid-range',\n",
       " 'Fine Dining',\n",
       " 'Fine Dining',\n",
       " 'Mid-range',\n",
       " 'Mid-range',\n",
       " 'Mid-range',\n",
       " 'Fine Dining',\n",
       " 'Mid-range',\n",
       " 'Cheap Eats',\n",
       " 'Cheap Eats',\n",
       " 'Cheap Eats',\n",
       " 'Cheap Eats',\n",
       " 'Cheap Eats',\n",
       " 'Mid-range',\n",
       " 'Mid-range',\n",
       " 'Cheap Eats',\n",
       " 'Fine Dining',\n",
       " 'Cheap Eats',\n",
       " 'Mid-range',\n",
       " 'Mid-range',\n",
       " 'Mid-range',\n",
       " 'Fine Dining',\n",
       " 'Mid-range',\n",
       " 'Fine Dining',\n",
       " 'Fine Dining',\n",
       " 'Fine Dining',\n",
       " 'Mid-range',\n",
       " 'Cheap Eats',\n",
       " 'Mid-range',\n",
       " 'Mid-range',\n",
       " 'Mid-range',\n",
       " 'Cheap Eats',\n",
       " 'Mid-range',\n",
       " 'Mid-range',\n",
       " 'Fine Dining',\n",
       " 'Fine Dining',\n",
       " 'Mid-range',\n",
       " 'Mid-range',\n",
       " 'Mid-range',\n",
       " 'Mid-range',\n",
       " 'Mid-range',\n",
       " 'Fine Dining',\n",
       " 'Fine Dining',\n",
       " 'Mid-range',\n",
       " 'Cheap Eats',\n",
       " 'Mid-range',\n",
       " 'Mid-range',\n",
       " 'Fine Dining',\n",
       " 'Mid-range',\n",
       " 'Fine Dining',\n",
       " 'Fine Dining',\n",
       " 'Cheap Eats',\n",
       " 'Fine Dining',\n",
       " 'Mid-range',\n",
       " 'Fine Dining',\n",
       " 'Mid-range',\n",
       " 'Mid-range',\n",
       " 'Fine Dining',\n",
       " 'Cheap Eats',\n",
       " 'Cheap Eats',\n",
       " 'Mid-range',\n",
       " 'Cheap Eats',\n",
       " 'Fine Dining',\n",
       " 'Mid-range',\n",
       " 'Cheap Eats',\n",
       " 'Fine Dining',\n",
       " 'Mid-range',\n",
       " 'Fine Dining',\n",
       " 'Mid-range',\n",
       " 'Mid-range',\n",
       " 'Mid-range',\n",
       " 'Fine Dining',\n",
       " 'Mid-range',\n",
       " 'Cheap Eats',\n",
       " 'Mid-range']"
      ]
     },
     "execution_count": 147,
     "metadata": {},
     "output_type": "execute_result"
    }
   ],
   "source": [
    "price_level_list = list()\n",
    "for outlet in tripadvisor_outlet:\n",
    "    price_level = outlet['price_level']\n",
    "    price_level_list.append(price_level_map[price_level] if price_level in price_level_map else price_level)\n",
    "price_level_list"
   ]
  },
  {
   "cell_type": "markdown",
   "metadata": {},
   "source": [
    "#### tags"
   ]
  },
  {
   "cell_type": "code",
   "execution_count": 108,
   "metadata": {},
   "outputs": [
    {
     "data": {
      "text/plain": [
       "'All reviews ; brunch ; tapas ; highest bar in the world ; the ritz carlton ; dom perignon ; clear night ; icc building ; view of hong kong ; great drinks ; spectacular views ; rooftop bar ; light show ; top floor ; victoria harbour ; free flow ; visiting hong kong ; jd ; '"
      ]
     },
     "execution_count": 108,
     "metadata": {},
     "output_type": "execute_result"
    }
   ],
   "source": [
    "tags_str = tripadvisor_outlet[0]['tags']\n",
    "tags_str"
   ]
  },
  {
   "cell_type": "code",
   "execution_count": 109,
   "metadata": {},
   "outputs": [
    {
     "data": {
      "text/plain": [
       "['All reviews',\n",
       " 'brunch',\n",
       " 'tapas',\n",
       " 'highest bar in the world',\n",
       " 'the ritz carlton',\n",
       " 'dom perignon',\n",
       " 'clear night',\n",
       " 'icc building',\n",
       " 'view of hong kong',\n",
       " 'great drinks',\n",
       " 'spectacular views',\n",
       " 'rooftop bar',\n",
       " 'light show',\n",
       " 'top floor',\n",
       " 'victoria harbour',\n",
       " 'free flow',\n",
       " 'visiting hong kong',\n",
       " 'jd',\n",
       " '']"
      ]
     },
     "execution_count": 109,
     "metadata": {},
     "output_type": "execute_result"
    }
   ],
   "source": [
    "tags = tags_str.split(' ; ')\n",
    "tags"
   ]
  },
  {
   "cell_type": "code",
   "execution_count": 117,
   "metadata": {},
   "outputs": [
    {
     "name": "stdout",
     "output_type": "stream",
     "text": [
      "756 1826\n",
      "['dessert buffet', 'friday night', 'osso bucco', 'service was impeccable', 'takeaway', 'nathan road', 'baby lamb', 'tapas', 'roast goose', 'seafood', 'cheese cellar', 'sago', 'great indian', 'won ton', 'omakase menu', 'clear night', 'small restaurant', 'stringy', 'porridge', 'american food', 'dishes', 'sheung wan', 'truffle mushroom', 'soup base', 'sweet and sour pork', 'turnip cake', 'beef brisket', 'great noodles', 'eggtarts', 'caviar', 'central district', 'harbour', 'unlimited meat', 'oz', 'stuffed eggplant', 'roast pigeon', 'ritz carlton', 'portuguese style', 'intercontinental hotel', 'chef simon', 'french bistro', 'by the glass', 'free flow', 'big bowl', 'steak tartare', 'spiciness', 'canto', 'bistecca', 'jw marriott', 'the star ferry terminal', 'eggs benedict', 'shumai', 'victoria peak', 'restaurant week', 'popular with locals', 'restaurant chain', 'msg', 'pizza', 'from the oven', 'sorbet', 'set lunch', 'spicy sauce', 'places in hong kong', 'chef marco', 'city garden hotel', 'austin station', 'executive lunch', 'lettuce leaves', 'plum sauce', 'tasting menu', 'flat noodles', 'cheese board', 'sheraton hotel', 'dough', 'on tap', 'birthday dessert', 'airport branch', 'award winning dishes', 'fried fritters', 'wellington street', 'delaneys', 'eggy', 'lamb', 'hainan chicken rice', 'ladies pushing', 'hong kong breakfast', 'rice', 'asian fusion', 'traditional dim sum', 'flat bread', 'garlic bread', 'stanley street', 'skyline', 'melt in the mouth', 'italian beef', 'fish slices', 'potato gratin', 'chorizo sausage', 'quality food', 'cheung fun', 'simple meal', 'open kitchen', 'duck', 'food quality', 'sham shui po', 'standard hard rock', 'gough street', 'durian dessert', 'souffle', 'veggies', 'small eatery', 'baked crab', 'chain restaurant', 'fuk wing street', 'no reservation', 'fritters', 'market menu', 'minestrone soup', 'dessert platter', 'lemon', 'imported from italy', 'sunday roast', 'richard ekkebus', 'hk harbour', 'iberian pork', 'frog legs', 'spectacular views', 'visit hard rock', 'a michelin star restaurant', 'wonderful dinner', 'penninsula', 'hk island', 'wine list', 'cucumber sandwiches', 'fondue', 'tim sum', 'nice atmosphere', 'provoleta', 'nice wine', 'mid level', 'roast beef', 'tasty food', 'irish pub', 'in tsim sha tsui', 'the mid level escalators', 'great polo', 'victoria harbor', 'quattro formaggi', 'crab legs', 'visiting hong kong', 'beef carpaccio', 'amazing buffet', 'french cuisine', 'delicious food', 'harbour city', 'sky terrace', 'ex pats', 'private room', 'attentive service', 'typical chinese restaurant', 'butter chicken', 'chicken feet', 'chewy', 'bread basket', 'share table with others', 'pineapple bun', 'delicious roast', 'magnificent view', 'fries', 'lobster bisque', 'tender meat', 'lunch buffet is', 'cantonese food', 'harbour view', 'egg station', 'pork chop', 'mango roll', 'ribs', 'har gow', 'cote de boeuf', 'tea sommelier', 'tasty indian food', 'taste', 'a late lunch', 'rogan josh', 'cuisine', 'lan kwai fong', 'beggars chicken', 'honey glaze', 'tandoori chicken', 'creamed spinach', 'tea service', 'wine pairing', 'polo buns', 'bird nest', 'jordan mtr station', 'green tea', 'jelly', 'All reviews', 'prawn dumplings', 'sit outside', 'italian food', 'order form', 'drunken chicken', 'spareribs', 'hotel icon', 'authentic place', 'fried rice', 'cheesecake', 'manager andy', 'pork', 'shark fin soup', 'chinese tea', 'walnut pesto', 'anthony bourdain', 'mash', 'langoustines', 'three michelin stars', 'local friends', 'free flow champagne', \"butcher's cut\", 'wyndham street', \"prince's building\", 'mainland china', 'king prawns', 'cake', 'olive oil', 'spicy crab', 'fish balls', 'push cart', 'empanadas', 'ladies market', 'padron peppers', 'cuttlefish', 'main course', 'noodles', 'symphony', 'italian manager', 'visited this restaurant', 'al dente', 'australian fillet', 'rose petal jam', 'condensed milk', 'excellent noodles', 'milk tea', 'peking road', 'usd', 'tender', 'roasted meats', 'crispy chicken', 'veg', 'tagliolini', 'french toast', 'prosciutto di parma', 'beef chow fun', 'cooked just right', 'meat lovers', 'window table', 'antipasti buffet', 'bun', 'ashley road', 'shredded beef', 'star house', 'swiss sauce', 'char siew', 'paella', 'decadent', 'branch', 'cakes', 'ordered dishes', 'reserve a table', 'quick meal', 'wagyu', 'mango', 'pasta', 'milk pudding', 'steamed lobster', 'view of hong kong', 'light show', 'lift', 'four seasons', 'flank steak', 'carts', 'lobster tail', 'wanton noodles', 'baked potato', 'suckling pig', 'crispy skin', 'lkf', 'hong kong station', 'waiters', 'dry ice', 'at lunchtime', 'trip to hong kong', 'soft shell crab', 'female chef', 'combo', 'quick service', 'side dishes', 'dimsum', 'baby chicken', 'ladies night', 'buffet lunch', 'hk', 'pork belly', 'baked oysters', 'liver', 'hong kong style', 'presentation', 'small bowl', 'lunch or dinner', 'quick bite', 'oyster sauce', 'dinner buffet', 'authentic hk', 'scones', 'causeway bay', 'lamb vindaloo', 'japanese cuisine', 'bar seating', 'kai lan', 'sponge cake', 'bolo bun', 'sweetbreads', 'shelley street', 'outlets', 'iberico pork', 'the wan chai branch', 'popular dishes', 'dom perignon', 'hrc', 'apple wood', 'veal chop', 'tiramisu', 'nice service', 'oysters', 'fresh seafood', 'english menu', 'vitello tonnato', 'malbec', 'bbq pork', 'king crab', 'tendon', 'truffle', 'during peak hours', 'naan', 'chilli', 'hong', 'ozone bar', 'pork liver', 'lung', 'hot water', 'string quartet', 'blue lobster', 'cooked to perfection', 'wan chai', 'the ritz carlton', 'miso soup', 'beef wellington', 'banquet hall', 'assistant manager', 'nathan hotel', 'foreigners', 'chef pino', 'ham', 'great duck', 'dover sole', 'airport express', 'small boat', 'new york strip', 'fishballs', 'chef alvin', 'nice afternoon tea', 'olympian city', 'small shop', 'hot chicken', 'efficient service', 'popovers', 'rooftop bar', 'lamb shank', 'all you can eat', 'michelin', 'the rib eye', 'jordan area', 'tang court', 'outdoor seating', 'reading newspapers', 'jd', 'caesar salad', 'business lunch', 'clotted cream', 'tsim sha tsui', 'hysan place', 'western food', 'prawn toast', 'clear soup', 'foie gras', 'crepes', 'regal hotel', 'great meat', 'medium', 'tarts', 'ordered dim sum', 'indian restaurant in hong kong', 'cityview hotel', 'lyndhurst terrace', 'ocean terminal', 'italian cuisine', 'steak', 'borscht', 'woolloomooloo', 'antipasti', 'perrier jouet', 'sticky toffee pudding', 'salmon', 'big taste', 'tempura', 'queue', 'cafe grey', 'carpaccio', 'salad', 'an extensive menu', 'amazing food', 'pacific place', 'comfort food', 'fabulous buffet', 'yeung', 'quick lunch', 'wagyu beef', 'french cheese', 'bone marrow', 'tick box', 'dumplings', 'the landmark mandarin oriental', 'johnston road', 'authentic italian restaurant', 'la mian', 'brunch', 'noodle making', 'sticky rice', 'pineapple', 'char siu bao', 'tram', 'bolognese', 'cantonese cuisine', 'star michelin', 'top floor', 'lobster', 'sake', 'super tender', 'central station', 'lotus leaf', 'tom aikens', 'morcilla', 'great drinks', 'window seat', 'small place', 'four seasons hotel', 'custard buns', 'chinese sausage', 'onion bread', 'queue moves', 'pickled ginger', 'green tea ice cream', 'long wait', 'fish congee', 'thin crust', 'chinese restaurant', 'ifc mall', 'dosa', 'nice restaurant', 'limited menu', 'third floor', 'charcoal', 'har gau', 'hole in the wall', 'trolley service', 'curries', 'french fries', 'yorkshire pudding', 'decent food', 'chicken wings', 'skewers', 'japanese buffet', 'wine selection', 'jamon', 'chicken pie', 'gumbos', 'modern twist', 'seafood platter', 'lunch hour', 'ribeye', 'luncheon meat', 'table by the window', 'bean', 'boat ride', 'playing field road', 'desert', 'truffle fries', 'peking duck', 'hong kong island', 'sliders', 'quick breakfast', 'wan', 'fish pie', 'dessert place', 'live indian music', 'peninsula hotel', 'bao', 'signature', 'friendly atmosphere', 'delicious sides', 'italian gem', 'shark fin', 'order sheet', 'breakfast set', 'quail egg', 'hot dishes', 'trolley ladies', 'blt', 'char siu', 'staunton street', 'siomai', 'an institution', 'place to eat', 'sushi', 'shrimp dumplings', 'pancakes', 'century egg', 'molecular gastronomy', 'special beef', 'tamarind chicken', 'highest bar in the world', 'burrata', 'cold butter', 'kowloon', 'flaky crust', 'laser show', 'meatballs', 'long queue', 'wings', 'cooked medium rare', 'china', 'garoupa', 'views of hong kong', 'amuse bouche', 'texture', 'their signature dish', 'chit', 'food and wine', 'chicken', 'fried banana', 'siew mai', 'restaurant in hong kong', 'chinese cuisine', 'dessert shop', 'sampan', 'soups', 'fresh oysters', 'wharf road', 'steamed egg', 'side orders', 'french restaurant in hong kong', 'pie', 'flat rice noodles', 'noodle place', 'tea set', 'skyscrapers', 'macaroni', 'cantonese', 'star michelin restaurant', 'pastry', 'soup dumplings', 'siu mai', 'ice cream', 'best indian', 'shrimp', 'tsim tsa tsui', 'cod', 'crispy bun', 'floor', 'asia', 'picanha', 'risotto', 'vermicelli bowl', 'mandarin oriental', 'spring rolls', 'indian food', 'for special occasions', 'local experience', 'delmonico', 'yum cha', 'bread', 'radish cake', 'typhoon shelter', 'potatoes', 'doughnuts', 'icc building', 'night view', 'expats', 'tacos', 'carbonara', 'brisket', 'large bowl', 'british governor', 'homemade pasta', 'fine dining', 'red lantern', 'petit fours', 'spring onion', 'fish and chips', 'aqua bar', 'victoria harbour', 'great wine', 'yung kee', 'discovery menu', 'naan bread', 'prime rib', 'mashed potatoes', 'crab ravioli', 'brussel sprouts', 'turbot', 'chinese donut', 'the hong kong skyline', 'set menu', 'sesame pockets', 'dining experience', 'shanghai food', 'baos', 'flower market', 'shrimp toast', 'worth the wait', 'crab', 'the mandarin oriental hotel', 'brussels sprouts', 'iconic hotel', 'prawns', 'tang', 'abalone', 'blood sausage', 'sharing tables', 'intestines', 'hk style', 'excellent roast', 'semifreddo', 'tenderloin', 'house hotel', 'chicago style', 'incredible views', 'the standard chartered bank', 'great pub', 'new chef', 'sandwich', 'e fu noodles', 'napkins', 'dim sum', 'piping hot', 'royal pacific hotel', 't bone', 'duck liver', 'pigeon', 'egg tarts', 'hong kong experience', 'yee shun', 'xiao long bao', 'spare ribs', 'drinking tea', 'dim sum cart', 'sliced fish', 'chateaubriand', 'fresh ingredients', 'unagi', 'beef', 'mango custard', 'wonton noodles', 'seafood station', 'taste of home', 'aberdeen harbour', 'wait for a table', 'many indian restaurants', 'fish meat', 'seasoning', 'mango pudding', 'outdoor terrace', 'prince edward station', 'intercontinental hong kong', 'michelin star', 'street level', 'mouth', 'turnover', 'instant noodles', 'shopping mall', 'calamari', 'crispy lamb', 'yummy', 'hotel guests', 'cod fish', 'chee cheong fun', 'congee', 'shellfish', 'pork buns', 'scallops', 'soy sauce', 'octopus', 'serving size', 'yellowtail', 'tuna', 'pork dumplings', 'delicious meal', 'clams', 'burger', 'with some friends', 'shopping centre', 'degustation menu', 'novotel nathan road', 'mtr', 'parma ham', 'new style', 'sweet soy sauce', 'lamb chops', 'dim sum experience', 'chorizo', 'soup', 'sashimi', 'piggy custard', 'the afternoon tea set', 'fast service', 'preserved egg', 'shepherds pie', 'waiting list', 'birthday dinner', 'ox tongue', 'thirst quencher', 'short ribs', 'crab cakes', 'nathan rd', 'great little place', 'bo lo', 'cold cuts', 'high tea', 'great dinner', 'special occasion', 'curry', 'queue number', 'palak paneer', 'bamboo shoots', 'chinese food', 'sea bass', 'michelin guide', 'hsbc', 'garlic', 'pork balls', 'xiaolongbao', 'gyu', 'hot and sour soup', 'mouth watering']\n"
     ]
    }
   ],
   "source": [
    "all_tags = set()\n",
    "all_tags_list = list()\n",
    "for outlet in tripadvisor_outlet:\n",
    "    tags_str = outlet['tags']\n",
    "    tags_list = tags_str.split(' ; ')\n",
    "    all_tags_list.extend(tags_list)\n",
    "    tags = set(tags_list)\n",
    "    all_tags.update(tags)\n",
    "all_tags = [tag for tag in all_tags if tag != '']\n",
    "print(len(all_tags), len(all_tags_list))\n",
    "print(all_tags)"
   ]
  },
  {
   "cell_type": "markdown",
   "metadata": {},
   "source": [
    "`id_outlet` should be unique, it is the link for a review"
   ]
  },
  {
   "cell_type": "code",
   "execution_count": 97,
   "metadata": {},
   "outputs": [
    {
     "data": {
      "text/plain": [
       "(100, 100)"
      ]
     },
     "execution_count": 97,
     "metadata": {},
     "output_type": "execute_result"
    }
   ],
   "source": [
    "id_outlets = [outlet['id_outlet'] for outlet in tripadvisor_outlet]\n",
    "id_outlets\n",
    "len(set(id_outlets)), len(id_outlets)"
   ]
  },
  {
   "cell_type": "markdown",
   "metadata": {},
   "source": [
    "## tripadvisor_reviews\n",
    "- body: str\n",
    "- date: date\n",
    "- url: str\n",
    "- user: str(It seems to be of little use currently)\n",
    "- rating: double\n",
    "- id_outlet: str\n",
    "- traveler_type: str"
   ]
  },
  {
   "cell_type": "code",
   "execution_count": 169,
   "metadata": {},
   "outputs": [
    {
     "data": {
      "text/plain": [
       "(100,\n",
       " {'body': 'Nice service and good environment!!!\\nLove the amazing food and enjoy the high quality service!!!!!!Highly recommend!!!!!!!!More',\n",
       "  'date': 'October 17, 2016',\n",
       "  'url': 'https://www.tripadvisor.com/Restaurant_Review-g294217-d2399904-Reviews-Tin_Lung_Heen-Hong_Kong.html',\n",
       "  'user': 'ChoyN3',\n",
       "  'rating': 5.0,\n",
       "  'id_outlet': 'https://www.tripadvisor.com/Restaurant_Review-g294217-d2399904-Reviews-Tin_Lung_Heen-Hong_Kong.html',\n",
       "  'traveler_type': 'Friends'})"
      ]
     },
     "execution_count": 169,
     "metadata": {},
     "output_type": "execute_result"
    }
   ],
   "source": [
    "len(tripadvisor_reviews), random.choice(tripadvisor_reviews)"
   ]
  },
  {
   "cell_type": "code",
   "execution_count": 168,
   "metadata": {},
   "outputs": [
    {
     "name": "stdout",
     "output_type": "stream",
     "text": [
      "body\n",
      "['Visited Capo with a business colleague.  Due to shipping issues, none of the Italian beer was available.  The wine was affordably priced; that being said, it was only available by the bottle.  Not that kind of evening.  Started with the Bruschetta.  The toppings were fresh...More', \"Food was nice but overpriced. Service could be better but it wasn't terrible. You won't have a bad time here but if you're looking for value for money, maybe skip this place. :)\", 'I have luck to have lunch on April 8th with friendly and professional service were provided by Francesco (manager of Tosca) & Ms. Erica, they gave good introduction of food and communicated with client more comfortable!\\nRegarding to the food served as fine dining by...More', 'First the empanadas were a good starter. The rump steak was made the way I like it and asked for. The service was friendly and professional. Nice casual atmosphere.', 'The food this restaurant serves are fantastic, always fresh, well-cooked and taste soooooo good. It also provides quite a lot choices for us to choose from, food ,wine and desserts:) The staff there they are wonderful, always being soooooo nice to us, warm smiles and...More', 'Nice service and good environment!!!\\nLove the amazing food and enjoy the high quality service!!!!!!Highly recommend!!!!!!!!More', 'During a recent stay at the hotel, we stopped in for a drink at Ozone before dinner at Tosca.  Not sure what the fuss is all about, I found the decor to be cheezy, the music cheezier and the crowd w/sticks of Velveeta oozing out...More', \"I've been hearing about this place non-stop from food blogs and friends so I finally had a chance to check it out and the verdict? So so. The decor was beautiful and the service was top notch. The bathroom decor is my second favorite in...More\", 'Приятный ресторан с красивым видом. Освещение темное, видимо, чтобы весь взгляд был на залив. Из-за расположения трех ресторанов достаточно шумно....More', \"Best brunch on hk. Savage service,  full bellies and hot livers guaranteed. Would come here if I didn't gain 5kgs per visit\", 'Delicious tapas with a wide variety of flavours. Found it a bit over crowded and staff will tell you where to sit.', 'Best steaks in HK, maybe in Asia. If you love steak then this is the place. They take their beef seriously.  You can see what’s available. Order you exact piece. Chat w the chef. He can tell u about each cut. They always some crazy...More', 'Expensive but worth a look.  Dress smart casual.  Can order food.  Arrive early for a seat for the great view', 'i was there for lunch on a week day , had a buffet , which had very good selections  and a good spread .$118 per person.More', \"Our group booked a private table for an after-work (business) cocktail reception and were blown away by the views from the 118th floor's windows as well as the outdoor lounge area.  The waitress taking care of our group was wonderful, and drink options were plentiful....More\", 'Just had the best Mid-Autumn Festival dinner with family at Caprice! The food was gorgeous as always, fresh and of fine quality. I was particularly impressed by the professional and thoughtful service there. The staff knows their stuff well and gave us detailed introduction of...More', 'We had a great meal with several colleagues.  The food was very tasty and the naan was awesome!  Great service and great food!', 'New York ambiance. the food is excellent but seriously overpriced. It is worth to visit though. can be a good spot for a romantic dinner if you wanna go for chinese food', 'Tolle Bar auf dem Dach des Princes Buildings, geniale Location für einen Cocktail mit überwältigender Aussicht auf die Wolkenkratzer, den...More', \"Hence the 4. I really did enjoy the food. Shame about the lackluster service. I know I'm in HongKong/ China but a restaurant this refined should have servers that speak impeccable English with confidence. Everyone seemed nervous and contrived. Other than that, I would definitely...More\", 'First night in HK and we pick One Dim Sum from the huge list of places to eat. There was a queue outside when we arrived but our names were taken and only waited a few minutes. Ordered so much but the best was the...More', \"We went here to celebrate a big occasion and were looking forward to it so much after hearing great things. We were really disappointed. The main problem was the service. I know it's is a bug-bare of mine but it really annoys me when front...More\", 'Our group of 6 tried this restaurant out on recommendation by 1 friend. The salad buffet was really excellent with many choices and high quality of greens. The mushroom soup was ok. There were also parma ham and a few selection of cold cuts with...More', 'We’ve eaten at other Nobu restaurants in US, London, Bahamas and this one is not nearly as good.  It was quite disappointing because we’ve always enjoyed our Nobu meals but this one let us down.More', \"Go early - crowds swell later in the mornings. If it's a good day with less than normal pollution you will get a great view.\", 'This dinner is really good.It’s the greatest restaurant l have ever eaten in Hon Kong.\\nEspecially the services,Kath and Eric did a really great job! I would visit here for many times!', \"The InterContinental Lobby's two story glass vista on Victoria Harbor merits a leisurely lunch and time to fully drink it in.  From the extensive wine list to the gracious list of nibbles, this is a consistent crowd-pleasing location.\", 'We had the good fortune to stay at the Hotel Icon during our stay in Hong Kong, and we really enjoyed eating at Above and Beyond for breakfast and dinner.  Great food, with absolutely wonderful service.More', 'Tha dinner is very comfortable and my family really enjoy it....\\nExcellent service by the team, the manager Stephen, Ryan, Sofia, Joe and Kelvin....they all worked in details, not much disturbing and served you with unnoticeable...\\nNothing to say and be sure will be back...More', \"We decided to book a table for our last night. We shouldn't have bothered. Dirty tables, terrible service and to be honest there were better views back at our hotel (Harbour Grand). Save yourself sons money and go somewhere else!!!!\", \"If you feel like going carnivorous you must try this place. In picture is a 400 gram ribeye. Tender and Delicious!!\\n\\nThe ambiance and service is great. I'd love to go there again someday.\", 'Had a great dinner with friends. Food was amazing really anything from starters to dessert tasted great. Service was very friendly and attentive. To top it all off they have the best coffee (Segafredo) in HK. \\nDefiantly a place to check out when in the...More', 'located on the top of the Ritz Carlton HK. The crowd was mixed with tourists and locals. Drinks were very good and uniquely presented.More', 'Restaurant is easy to find and close to the train station.  The food was excellent and we loved everything we tried.  Even our baby loved the food!   Service was fantastic, host was very gracious, and they were quick to assist.  Will definitely go there on...More', 'Taste is similar to branches in Singapore. Soup dumplings, aka 小笼包, actually taste better in Singapore, and we were quite disappointed that 蟹黄小笼包 was not served that day. To be fair, 牛肉面 tasted better in Hong Kong though.', 'Great place to celebrate an important birthday. Excellent food. Great atmosphere,  friendly staff . Best signature dish : apple wood pecking duck. \\nJust one remark, I have been asked during my reservation if this was a special occasion, and I have highlighted that was a...More', 'Went as a group of 8 and had an excellent Sunday Lunch buffet. The food is excellent, fresh shellfish, roast meats, lovely salad bar. \\nProbably best value meal we had in HK in our 5 days there. Especially when you have the unlimited beer or...More', 'Sehr leckere Sushi, auch die Suppen sind köstlich. Der Service ist sehr nett und zuvorkommend. Wir waren am letzen Tag...More', 'Most amazing dim sum we had in our two nights in Hong kong.  The food was of the highest quality for the lowest price.. this is our new favorite restaurant.  Allow time in your budget to wait for a table.  They will give you a...More', 'Awesome food. Look for Dave, best ever!\\nGood service!\\n\\nAmbiance is also nice. Definitely we will.come back!', 'I went to this place with my friend last night  and we had the best time at dinner. Food was delicious with a good value and i only wish we could have had room for dessert. Our server Calvin was very friendly, attentive and knowledgeable....More', \"We stopped off at Delaney's for a few afternoon drinks and were happy we did.\\n\\nThe drinks were cold and refreshing, the service was friendly and the location was great..\\n\\nRecommended!\", 'When we planned to have our first dinner gathering in the year of DOG, the first one come to our mind is Man Wah Restaurant at Mandarin Oriental Hotel. So we have a table booked for 10 people to celebrate this meaningful evening. All the...More', 'We were very impressed with superior customer service especially Jessica Tsang. We enjoyed the high tea and view.More', 'Very good food with excellent service. Reserved a Peking Duck in advance. It was good. Felt like the standouts though were Bird’s Nest soup and an amazing mushroom appetizer. Great view of the harbor too. Recommended.More', 'Perenially popular location, no booking, turn up, queue (not for long) and take a seat. Great buzz, good quality quickly served food. What more do you need?', 'I had seen many great reviews and also saw that it had Michelin stars, so I had to go and try!\\nThe dining experience was amazing and unique! Especially with the French fusion with Asian cuisine.\\nWould love to visit again...along with family and friends!', 'After 3 days in Hong Kong i need a different dinner and reading trip Advisor opinions i found this lovely place runned by 2 french guys. Great cheese selection\\nReally professional and we had really good time.', \"I Loved  the chinaware and the risk taken in every dish that were presented at our table.\\nI would have loved to meet the chef but sadly he never came out.\\nThe service was very attentive and friendly.\\nThe Sommelier howerer didn't shared his passion...More\", '야외바에서 바라보는 야경이 최고입니다...More', \"I took my son here for his birthday. Though he's only a teenager the waiters looked after him extremely well. The food was excellent, the view exceptional, and I love all the little details that were remembered by the staff and that extra bit of...More\", 'За гинессом, килкени, картофельным пюре, морковкой и тушеной бараниной сюда. Обслуживание дружелюбное, публика выпивающая. Типичный ирландский паб.  К сожалению ничего...More', 'Din Tai Fung is hyped and chaotic. Always people waiting and staff too stressed to give you a decent and good service. We were a party of 8 and ordered lots of food. Waiters were so stressed that they did not smile nor present the...More', 'Forgot when they started the weekday dinner promotion. \\n\\nI have been here for drinks and afternoon tea more than 10 times. It is really popular place and to ensure a table please book in advance. \\n\\nAbout the weekday dinner, unlimited side dish with 1 main...More', '香港で、香港を感じないレストラン。ロンドンのハッカサンを思い出す空間でした。料理はどれも納得のお味。予約時にオープンキッ...More', 'From start right until finish, from the entrance, to the music to the view to the service- absolutely stunning.\\n\\nYet again another night out with my boyfriend, our evening started by being seated right in the middle of the restaurant, after a request to move...More', 'Mucho pijerio. Se ve la ciudad iluminada, al lado del Bank of China. Ideal para unas copas y ver el...More', 'My first time to try different dim sum and it was a great experience. When we got there, there is already a long line of people despite of the rain. \\n\\nWaiting time is reasonable as people there is eat and go. Price is good value...More', 'They offer 3 types of oysters and are very fresh.  There are lobsters, crabs, prawns and abalones.  The cooked dishes, both Western and Asian, are also delicious.  \\nWhat impressed me most is the service.  The staff always manage to smile!  They are very professional, friendly...More', \"WORSt  food in hong kong,  very awful and unpleasent waiters, very very expensive, very expensive for nothing....don't go there it's a swindle...it was my worst experience in hong kong....\", 'The Peak ist ein Restaurant mit mediteraner Einrichtung und gleicht einer Finca in Spanien. Gutes Essen ausgesuchte aber teure Weine....More', '這次的目的是為了一嚐中式afternoo...More', 'Excellent service. 2 points of surprise, first the bread served was far from interesting, just a mini white mushy loaf with nothing interesting about it. And the lack of choice - take the set menu or else. I had been hoping for a nice juicy...More', \"For less than 200HKD(lunch), you can eat as much meat as you want. The beef was very tender, and the pork ribs were my absolute favourite(even though I usually don't like ribs).\\nWide selection of food at the salad bar: the pumpkin salad and the...More\", \"I've had better steaks and paid less, even in Hong Kong.\\n\\nGood ambience & service.\\n\\nLoved the bone marrow but the quality of the steaks were just average.\\n\\nFor the price you pay, you would expect more.\", \"Living in HK, this is one place nearly all visitors like to visit given the amazing outlook it has over Hong Kong and Kowloon as it's over 1500ft above sea level and perched on the peninsula of Kowloon.  On my last visit we took 6...More\", 'While staying at the hotel we dined here to celebrate our anniversary. It was National Day in Hong Kong and we were accommodated at a fabulous window table from which we watched the fireworks. Andy Au, the restaurant manager, was so helpful with advice about...More', 'Visited Clipper Lounge with my partner on 9th Sep. We ordered scone and desserts for afternoon tea. Food and drinks are good as usual. Impressed with the helpful and friendly service by Paul and Teresa. Thank you for giving us a relaxing afternoon.More', 'Nulla da dire sul posto. Il panorama su Hong Kong di sera è davvero bello. Anche il mangiare è curato...More', 'One of the best places to see the HK skyline. Drinks are ridiculously expensive, as expected for a place that offers this kind of views. Worth going for one drink and enjoying the view but tons of better bars in HK.More', \"Always a safe choice, especially if you're going with a group. Nice environment, friendly staff, delicious foods. There's a reason why it's been around for ages! Wide selection of all sorts of Tikka, tandoori, Naan, roti, everything.More\", 'Great place for fast & freindly service, with goood food at fair prices.  Always fresh. However, management has changed their dinner menu back to a fast-food bar menu which - to me - is not of interest when I am looking for dinner.  The foods...More', \"I was so excited to see this restaurant listed as we planned our trip to Hong Kong! I was just in Ireland in June, and I was truly anticipating a great break from the standard Chinese fare we've been living with in Henan. Delaney's didn't...More\", 'The thing I appreciate the most about the experience at Carpaccio has been the great service. The owner is ready to help you with menu suggesting what to order according to your taste. \\n\\nI only tried pizza and, as italian, I must say it has...More', 'Delicious lunch in a superb setting where you are not sitting on top of the next table..  Excellent, friendly service.  A bit pricey - over HK$1,100 for a set lunch for two, with no alcohol, just water and coffee. Worth it for that special occasion,...More', 'W had a great meal and evening in Tosca last Friday night. Food was great. We were particularly impressed by one of the staff there, called Addis for his thorough understanding of the cuisines and clear explanation of the dishes we ordered. Moreover, his heart-touching...More', 'On holidays in Hong Kong and my hubby wanted to watch the football back home. \\nHe searched and found this little gem .\\nJean welcomed us into the bar as if we were locals \\nA great atmosphere and great food \\nWe would highly recommend this...More', \"This is undoubtedly fairly expensive but it is a lovely old building with a beautiful garden area with some great views and you are at the peak in Hong Kong so what do you expect. It's quiet calm and relaxed and a different world from...More\", 'Celebration dinner here today! delicious food especially the ribeye and mushroom soup! Staff are very nice, helpful and polite. Every time we mess up the table they helped us tidy it up quickly.  We ordered a chocolate cake and their staff, samita and Addis, surprisingly...More', \"One if the best Yum Cha's in Hong Kong. This is a chain of stores, but all maintain a high standard. Ask for an English menu , and tick the order forms with the quantity you want. Pork buns & Shrimp dumplings & dim Sims...More\", 'So we came to Capo for lunch on a wednesday afternoon. Not crowded, awesome background music and genuine Italian feeling from the start.\\n\\nWe ordered their Signature cold cuts with Burrata and OMG ! so goooooood ! Paired with a light italian beer and some...More', 'I went here because it was recommended by my hotel. It’s an Italian restaurant, but not European standard at all. I had a flavorless, basic overpriced pasta. The service and view was good though. Just next to a shopping center so also convenient if you...More', 'Great food, great ambience, though a bit pricey. It was a memorable meal, thank goodness someone else was paying!', 'Peking duck (ordered in advance) just melts in your mouth. Second course of fried rice had a great crunchy texture. Signature cod was wonderfully smoky and crispy. Service was attentive and professional. Would recommend to friends, would visit again.', 'If you are looking for a Dim Sum meal, definitely go here. Food was fab! Very popular place and casual. Reasonable priced and easy to order. Our teenagers loved it!', 'The staff and service is amazing. They will take care of your every need and they go above and beyond.More', \"Once again Trip Advisor played a blinder in helping me to find a great place to eat in an area I am not familiar with. You would not 'happen across' this place by chance; it is on the third floor of a shopping mall so...More\", \"Everything was excellent. Long line all day especially during peak meal hours but if you go very early or very late the wait is not bad. Can also do take out. If you can't read Chinese compare and double check because I apparently I chose...More\", 'Best dim sum we have had in HK. We ate here twice in 3 days. Both times the food was delicious and the staff are very pleasant which can be hard to find in HK.', 'It definitely serves the best Cantonese cuisines in Hong Kong. Barbecue pork and scallop with black truffle are highly recommended.  \\n\\nThe private dining room is spacious and had great ambiance.The amazing view from the 101th floor is a bonus indeed.\\n\\nGreat attentive service! From the...More', 'Love the interiors. We got a table in the semi-private room where there are only a few tables and the walls have those chinese brushes on display. The other tables arrived later so for a time we got the whole area to ourselves kinda like...More', \"The view is amazing and the very good reason to go here. But you pay for it. 240 HK dollar (AFAIR) for a GT. Well, well. On the other hand, you don't pay for the elevator.\\n\\nAs I wasn't surprised by the prices, I was...More\", 'Absolutely breathtaking experience today at the Lounge and Bar. On level 103, you have stunning views of Hong Kong and the sea. \\n\\nThe wait staff, particularly Hin and Benson, are incredibly kind and made my experience incredibly memorable. I ordered the \"Weekend In Hong Kong\"...More', 'Yan Toh Heen has always been one of my top 3 favourite Chinese restaurants in Hong Kong. The food is very delicious and has never disappointed me. I particularly like its premiere set lunch as I can enjoy signature dim sums, double boiled fish maw...More', 'Din Tai Fung continually impresses us with their high quality xiao long bao, and other speciality dishes. Highly recommend!', \"Such delicious foods and a wonderful down-to-earth staff. Always friendly to enjoy lunch or dinner and drinks. A must go to restaurant in Hong Kong, I recommend the meat lasagna it'll rock your taste buds!\", 'I had high expectations of this place and although the food was nice enough I would not visit again as it was really expensive, slightly too posh for me and did lack atmosphere, the food was nice enough but just different and the service was...More', 'The food is excellent, I love the vibe of the place, the staff are very friendly and accommodating, shout to Melinda, Chef Jason and Lisa. 🙌\\n\\nIf your looking for a place to dine with a sumptous food and excellent vibe? You guys should check...More', 'I usually dine in the Italian restaurant in The Ritz Carlton, which is one of my favorite ever, but this time I brought some friends from Europe to experience the cantonese cuisine. I have been surprised from the beginning til the end of the meal....More', 'Not the first time I have been there, but maybe the last. Got a table outside, view looking back @ HK was great. Had visitors from Australia who were looking forward to some lovely Pasta, but the service was very poor, got the excuse \"New...More']\n",
      "\n",
      "date\n",
      "['January 15, 2018', 'January 27, 2017', 'April 9, 2016', 'July 17, 2013', 'April 15, 2019', 'October 17, 2016', 'January 10, 2018', 'January 5, 2015', 'February 7, 2016', 'August 27, 2016', 'April 20, 2016', 'March 10, 2019', 'September 14, 2015', 'May 11, 2016', 'May 18, 2014', 'September 25, 2018', 'May 11, 2019', 'May 4, 2016', 'June 28, 2017', 'September 11, 2017', 'September 16, 2016', 'August 18, 2012', 'May 29, 2016', 'June 21, 2018', 'November 11, 2013', 'June 9, 2019', 'April 26, 2014', 'January 7, 2017', 'November 5, 2018', 'October 20, 2016', 'September 10, 2016', 'February 3, 2018', 'March 2, 2017', 'April 30, 2013', 'May 16, 2017', 'June 6, 2017', 'January 9, 2018', 'March 30, 2016', 'November 8, 2016', 'February 20, 2019', 'March 15, 2018', 'April 17, 2016', 'February 20, 2018', 'March 26, 2017', 'November 23, 2017', 'November 23, 2014', 'June 24, 2016', 'March 5, 2019', 'June 1, 2017', 'July 27, 2016', 'June 8, 2018', 'January 7, 2015', 'February 21, 2015', 'June 8, 2017', 'December 21, 2017', 'May 14, 2014', 'May 18, 2012', 'October 19, 2017', 'July 19, 2019', 'January 9, 2014', 'October 9, 2015', 'May 17, 2016', 'January 16, 2016', 'July 31, 2016', 'May 27, 2014', 'August 14, 2015', 'October 8, 2018', 'November 11, 2017', 'September 3, 2018', 'July 28, 2017', 'January 23, 2018', 'September 30, 2016', 'October 3, 2016', 'May 5, 2018', 'October 27, 2018', 'August 20, 2014', 'May 2, 2019', 'July 19, 2017', 'August 27, 2019', 'May 1, 2016', 'January 10, 2018', 'December 11, 2017', 'July 4, 2015', 'May 20, 2018', 'July 28, 2019', 'June 25, 2016', 'October 10, 2018', 'January 2, 2017', 'March 2, 2017', 'December 13, 2017', 'June 13, 2017', 'April 11, 2016', 'October 22, 2017', 'June 23, 2019', 'April 3, 2015', 'February 14, 2017', 'December 30, 2016', 'February 9, 2019', 'May 9, 2014', 'February 23, 2017']\n",
      "\n",
      "url\n",
      "['https://www.tripadvisor.com/Restaurant_Review-g294217-d10089430-Reviews-Capo-Hong_Kong.html', 'https://www.tripadvisor.com/Restaurant_Review-g294217-d788642-Reviews-The_Peak_Lookout-Hong_Kong.html', 'https://www.tripadvisor.com/Restaurant_Review-g294217-d2161545-Reviews-Tosca_di_Angelo-Hong_Kong.html', 'https://www.tripadvisor.com/Restaurant_Review-g294217-d2433070-Reviews-Tango_Argentinian_Steak_House-Hong_Kong.html', 'https://www.tripadvisor.com/Restaurant_Review-g294217-d1880782-Reviews-Carpaccio_Pasta_Pizza_Vino-Hong_Kong.html', 'https://www.tripadvisor.com/Restaurant_Review-g294217-d2399904-Reviews-Tin_Lung_Heen-Hong_Kong.html', 'https://www.tripadvisor.com/Restaurant_Review-g294217-d2198231-Reviews-OZONE-Hong_Kong.html', 'https://www.tripadvisor.com/Restaurant_Review-g294217-d6579151-Reviews-Mott_32-Hong_Kong.html', 'https://www.tripadvisor.com/Restaurant_Review-g294217-d1024986-Reviews-NOBU_InterContinental_Hong_Kong-Hong_Kong.html', 'https://www.tripadvisor.com/Restaurant_Review-g294217-d7808139-Reviews-Braza_Churrascaria_Brazilian_Steakhouse-Hong_Kong.html', 'https://www.tripadvisor.com/Restaurant_Review-g294217-d3602180-Reviews-22_Ships-Hong_Kong.html', 'https://www.tripadvisor.com/Restaurant_Review-g294217-d2276403-Reviews-Bistecca_Italian_Steak_House-Hong_Kong.html', 'https://www.tripadvisor.com/Restaurant_Review-g294217-d2198231-Reviews-OZONE-Hong_Kong.html', 'https://www.tripadvisor.com/Restaurant_Review-g294217-d799250-Reviews-Bombay_Dreams-Hong_Kong.html', 'https://www.tripadvisor.com/Restaurant_Review-g294217-d2198231-Reviews-OZONE-Hong_Kong.html', 'https://www.tripadvisor.com/Restaurant_Review-g294217-d912108-Reviews-Caprice_Central-Hong_Kong.html', 'https://www.tripadvisor.com/Restaurant_Review-g294217-d799250-Reviews-Bombay_Dreams-Hong_Kong.html', 'https://www.tripadvisor.com/Restaurant_Review-g294217-d6579151-Reviews-Mott_32-Hong_Kong.html', 'https://www.tripadvisor.com/Restaurant_Review-g294217-d1052864-Reviews-Sevva-Hong_Kong.html', 'https://www.tripadvisor.com/Restaurant_Review-g294217-d6579151-Reviews-Mott_32-Hong_Kong.html', 'https://www.tripadvisor.com/Restaurant_Review-g294217-d2540306-Reviews-One_Dim_Sum_Chinese_Restaurant-Hong_Kong.html', 'https://www.tripadvisor.com/Restaurant_Review-g294217-d1792423-Reviews-Man_Wah-Hong_Kong.html', 'https://www.tripadvisor.com/Restaurant_Review-g294217-d2165749-Reviews-AL_MOLO_RISTORANTE_ITALIANO_Michael_White-Hong_Kong.html', 'https://www.tripadvisor.com/Restaurant_Review-g294217-d1024986-Reviews-NOBU_InterContinental_Hong_Kong-Hong_Kong.html', 'https://www.tripadvisor.com/Restaurant_Review-g294217-d788642-Reviews-The_Peak_Lookout-Hong_Kong.html', 'https://www.tripadvisor.com/Restaurant_Review-g294217-d8353573-Reviews-Scarlett_Cafe_Wine_Bar-Hong_Kong.html', 'https://www.tripadvisor.com/Restaurant_Review-g294217-d1482758-Reviews-Lobby_Lounge_InterContinental_Hong_Kong-Hong_Kong.html', 'https://www.tripadvisor.com/Restaurant_Review-g294217-d2390123-Reviews-Above_and_Beyond-Hong_Kong.html', 'https://www.tripadvisor.com/Restaurant_Review-g294217-d927163-Reviews-Yan_Toh_Heen_InterContinental_Hong_Kong-Hong_Kong.html', 'https://www.tripadvisor.com/Restaurant_Review-g294217-d2198231-Reviews-OZONE-Hong_Kong.html', 'https://www.tripadvisor.com/Restaurant_Review-g294217-d2433070-Reviews-Tango_Argentinian_Steak_House-Hong_Kong.html', 'https://www.tripadvisor.com/Restaurant_Review-g294217-d1880782-Reviews-Carpaccio_Pasta_Pizza_Vino-Hong_Kong.html', 'https://www.tripadvisor.com/Restaurant_Review-g294217-d2198231-Reviews-OZONE-Hong_Kong.html', 'https://www.tripadvisor.com/Restaurant_Review-g294217-d2706744-Reviews-Din_Tai_Fung_Yee_Wo_Branch-Hong_Kong.html', 'https://www.tripadvisor.com/Restaurant_Review-g294217-d2706744-Reviews-Din_Tai_Fung_Yee_Wo_Branch-Hong_Kong.html', 'https://www.tripadvisor.com/Restaurant_Review-g294217-d6579151-Reviews-Mott_32-Hong_Kong.html', 'https://www.tripadvisor.com/Restaurant_Review-g294217-d2514791-Reviews-The_Market-Hong_Kong.html', 'https://www.tripadvisor.com/Restaurant_Review-g294217-d1024986-Reviews-NOBU_InterContinental_Hong_Kong-Hong_Kong.html', 'https://www.tripadvisor.com/Restaurant_Review-g294217-d2540306-Reviews-One_Dim_Sum_Chinese_Restaurant-Hong_Kong.html', 'https://www.tripadvisor.com/Restaurant_Review-g294217-d2276403-Reviews-Bistecca_Italian_Steak_House-Hong_Kong.html', 'https://www.tripadvisor.com/Restaurant_Review-g294217-d2276403-Reviews-Bistecca_Italian_Steak_House-Hong_Kong.html', 'https://www.tripadvisor.com/Restaurant_Review-g294217-d1952785-Reviews-Delaney_s_Kowloon_Irish_Bar-Hong_Kong.html', 'https://www.tripadvisor.com/Restaurant_Review-g294217-d1792423-Reviews-Man_Wah-Hong_Kong.html', 'https://www.tripadvisor.com/Restaurant_Review-g294217-d3600498-Reviews-Cafe_103-Hong_Kong.html', 'https://www.tripadvisor.com/Restaurant_Review-g294217-d927163-Reviews-Yan_Toh_Heen_InterContinental_Hong_Kong-Hong_Kong.html', 'https://www.tripadvisor.com/Restaurant_Review-g294217-d2706744-Reviews-Din_Tai_Fung_Yee_Wo_Branch-Hong_Kong.html', 'https://www.tripadvisor.com/Restaurant_Review-g294217-d939504-Reviews-Amber-Hong_Kong.html', 'https://www.tripadvisor.com/Restaurant_Review-g294217-d8353573-Reviews-Scarlett_Cafe_Wine_Bar-Hong_Kong.html', 'https://www.tripadvisor.com/Restaurant_Review-g294217-d939504-Reviews-Amber-Hong_Kong.html', 'https://www.tripadvisor.com/Restaurant_Review-g294217-d1052864-Reviews-Sevva-Hong_Kong.html', 'https://www.tripadvisor.com/Restaurant_Review-g294217-d2161545-Reviews-Tosca_di_Angelo-Hong_Kong.html', 'https://www.tripadvisor.com/Restaurant_Review-g294217-d1952785-Reviews-Delaney_s_Kowloon_Irish_Bar-Hong_Kong.html', 'https://www.tripadvisor.com/Restaurant_Review-g294217-d2706744-Reviews-Din_Tai_Fung_Yee_Wo_Branch-Hong_Kong.html', 'https://www.tripadvisor.com/Restaurant_Review-g294217-d2166297-Reviews-The_Lounge_Bar-Hong_Kong.html', 'https://www.tripadvisor.com/Restaurant_Review-g294217-d6579151-Reviews-Mott_32-Hong_Kong.html', 'https://www.tripadvisor.com/Restaurant_Review-g294217-d786786-Reviews-Isola_Bar_Grill-Hong_Kong.html', 'https://www.tripadvisor.com/Restaurant_Review-g294217-d1052864-Reviews-Sevva-Hong_Kong.html', 'https://www.tripadvisor.com/Restaurant_Review-g294217-d2540306-Reviews-One_Dim_Sum_Chinese_Restaurant-Hong_Kong.html', 'https://www.tripadvisor.com/Restaurant_Review-g294217-d1027723-Reviews-Clipper_Lounge-Hong_Kong.html', 'https://www.tripadvisor.com/Restaurant_Review-g294217-d1052864-Reviews-Sevva-Hong_Kong.html', 'https://www.tripadvisor.com/Restaurant_Review-g294217-d788642-Reviews-The_Peak_Lookout-Hong_Kong.html', 'https://www.tripadvisor.com/Restaurant_Review-g294217-d2390123-Reviews-Above_and_Beyond-Hong_Kong.html', 'https://www.tripadvisor.com/Restaurant_Review-g294217-d941989-Reviews-Mandarin_Grill_Bar_at_Mandarin_Oriental_Hong_Kong-Hong_Kong.html', 'https://www.tripadvisor.com/Restaurant_Review-g294217-d7808139-Reviews-Braza_Churrascaria_Brazilian_Steakhouse-Hong_Kong.html', 'https://www.tripadvisor.com/Restaurant_Review-g294217-d2276403-Reviews-Bistecca_Italian_Steak_House-Hong_Kong.html', 'https://www.tripadvisor.com/Restaurant_Review-g294217-d2198231-Reviews-OZONE-Hong_Kong.html', 'https://www.tripadvisor.com/Restaurant_Review-g294217-d1792423-Reviews-Man_Wah-Hong_Kong.html', 'https://www.tripadvisor.com/Restaurant_Review-g294217-d1027723-Reviews-Clipper_Lounge-Hong_Kong.html', 'https://www.tripadvisor.com/Restaurant_Review-g294217-d786786-Reviews-Isola_Bar_Grill-Hong_Kong.html', 'https://www.tripadvisor.com/Restaurant_Review-g294217-d2198231-Reviews-OZONE-Hong_Kong.html', 'https://www.tripadvisor.com/Restaurant_Review-g294217-d799250-Reviews-Bombay_Dreams-Hong_Kong.html', 'https://www.tripadvisor.com/Restaurant_Review-g294217-d1952785-Reviews-Delaney_s_Kowloon_Irish_Bar-Hong_Kong.html', 'https://www.tripadvisor.com/Restaurant_Review-g294217-d1952785-Reviews-Delaney_s_Kowloon_Irish_Bar-Hong_Kong.html', 'https://www.tripadvisor.com/Restaurant_Review-g294217-d1880782-Reviews-Carpaccio_Pasta_Pizza_Vino-Hong_Kong.html', 'https://www.tripadvisor.com/Restaurant_Review-g294217-d1811943-Reviews-Cafe_Gray_Deluxe-Hong_Kong.html', 'https://www.tripadvisor.com/Restaurant_Review-g294217-d2161545-Reviews-Tosca_di_Angelo-Hong_Kong.html', 'https://www.tripadvisor.com/Restaurant_Review-g294217-d1952785-Reviews-Delaney_s_Kowloon_Irish_Bar-Hong_Kong.html', 'https://www.tripadvisor.com/Restaurant_Review-g294217-d788642-Reviews-The_Peak_Lookout-Hong_Kong.html', 'https://www.tripadvisor.com/Restaurant_Review-g294217-d2166297-Reviews-The_Lounge_Bar-Hong_Kong.html', 'https://www.tripadvisor.com/Restaurant_Review-g294217-d2540306-Reviews-One_Dim_Sum_Chinese_Restaurant-Hong_Kong.html', 'https://www.tripadvisor.com/Restaurant_Review-g294217-d10089430-Reviews-Capo-Hong_Kong.html', 'https://www.tripadvisor.com/Restaurant_Review-g294217-d2165749-Reviews-AL_MOLO_RISTORANTE_ITALIANO_Michael_White-Hong_Kong.html', 'https://www.tripadvisor.com/Restaurant_Review-g294217-d1024986-Reviews-NOBU_InterContinental_Hong_Kong-Hong_Kong.html', 'https://www.tripadvisor.com/Restaurant_Review-g294217-d6579151-Reviews-Mott_32-Hong_Kong.html', 'https://www.tripadvisor.com/Restaurant_Review-g294217-d2540306-Reviews-One_Dim_Sum_Chinese_Restaurant-Hong_Kong.html', 'https://www.tripadvisor.com/Restaurant_Review-g294217-d2166297-Reviews-The_Lounge_Bar-Hong_Kong.html', 'https://www.tripadvisor.com/Restaurant_Review-g294217-d1880782-Reviews-Carpaccio_Pasta_Pizza_Vino-Hong_Kong.html', 'https://www.tripadvisor.com/Restaurant_Review-g294217-d2540306-Reviews-One_Dim_Sum_Chinese_Restaurant-Hong_Kong.html', 'https://www.tripadvisor.com/Restaurant_Review-g294217-d2706744-Reviews-Din_Tai_Fung_Yee_Wo_Branch-Hong_Kong.html', 'https://www.tripadvisor.com/Restaurant_Review-g294217-d2399904-Reviews-Tin_Lung_Heen-Hong_Kong.html', 'https://www.tripadvisor.com/Restaurant_Review-g294217-d6579151-Reviews-Mott_32-Hong_Kong.html', 'https://www.tripadvisor.com/Restaurant_Review-g294217-d2198231-Reviews-OZONE-Hong_Kong.html', 'https://www.tripadvisor.com/Restaurant_Review-g294217-d2166297-Reviews-The_Lounge_Bar-Hong_Kong.html', 'https://www.tripadvisor.com/Restaurant_Review-g294217-d927163-Reviews-Yan_Toh_Heen_InterContinental_Hong_Kong-Hong_Kong.html', 'https://www.tripadvisor.com/Restaurant_Review-g294217-d2706744-Reviews-Din_Tai_Fung_Yee_Wo_Branch-Hong_Kong.html', 'https://www.tripadvisor.com/Restaurant_Review-g294217-d10089430-Reviews-Capo-Hong_Kong.html', 'https://www.tripadvisor.com/Restaurant_Review-g294217-d938999-Reviews-Peking_Garden_Restaurant_Alexandra_House-Hong_Kong.html', 'https://www.tripadvisor.com/Restaurant_Review-g294217-d8353573-Reviews-Scarlett_Cafe_Wine_Bar-Hong_Kong.html', 'https://www.tripadvisor.com/Restaurant_Review-g294217-d2399904-Reviews-Tin_Lung_Heen-Hong_Kong.html', 'https://www.tripadvisor.com/Restaurant_Review-g294217-d2165749-Reviews-AL_MOLO_RISTORANTE_ITALIANO_Michael_White-Hong_Kong.html']\n",
      "\n",
      "user\n",
      "['bobwK5197LB', 'Brittaperry', 'clementc516', 'Celio K', 'tlk2019', 'ChoyN3', 'Joseph-in-NYC', 'rkim511', 'Anastasia9992015', 'Colm O', 'S4213YDkevinc', 'ken_stearns', 'ausdolly2014', 'jackjones71277', 'Dan A', 'Megan S', 'zubux', 'sampetrus24', 'Reisefuchs61', 'ChrisCarter1978', 'NeilPurdy', '1foodielove', 'cutiedoggy13', 'skidogs', 'BJRACT', 'Dreamer726639', 'ChicagoFamily60614', 'Gordo', 'Danny L', 'pondie68', 'IndonesianDream', 'Cupcake_8932', 'Josephb8585', 'daddywarbucks1', 'zzhuizi92', 'Taglio87', 'mikemoulds', 'jensman58', 'Sandie02', 'jjangPLDT', '512aartig', 'DannyB70', 'Wendy N', 'samcH7426AP', 'sonnyboy11', 'GrahamL-S', 'LoB911', 'stefanobY1151RR', 'Vonikazou', 'hyunkkk', 'Antony S', 'mc_nac', 'TranFamilyNorway', '114sandyr', 'kaytaro', '695maxm', 'Cat122011', 'silvak2013', 'Effie2019', 'Selma2014', 'Marco S', 'Anncici', 'Safemach', 'Liupkiu', 'MuneerH', 'redmini7', 'zed1313', 'michellelalam', 'Umberto M', 'broy7', 'vtc950', '631Vinnie75', 'ldunnreier', 'Andrea A', 'WeeRobbo_12', 'HeyJu2014', 'Tongil', 'Richansa', 'Applelover826', 'Greg Q', 'Julien G', 'jonasr727', 'thegreatchris', 'cj0823', 'Rosscodad', 'tjjones425', 'scottng15', 'mysticpenguin', 'sarahmc69', 'Dan L', 'snowee b', 'TorbenA956', 'Christina R', 'mrstsh', 'TravelsinTranslation', 'Andrew V', 'tmp025', 'jayniferb', 'Luke A', 'simonf815']\n",
      "\n",
      "rating\n",
      "[3.0, 3.0, 5.0, 4.0, 5.0, 5.0, 1.0, 4.0, 5.0, 5.0, 4.0, 5.0, 5.0, 5.0, 4.0, 5.0, 5.0, 4.0, 5.0, 4.0, 5.0, 3.0, 4.0, 3.0, 4.0, 5.0, 5.0, 5.0, 5.0, 1.0, 5.0, 5.0, 4.0, 5.0, 4.0, 4.0, 5.0, 4.0, 5.0, 5.0, 4.0, 4.0, 5.0, 5.0, 5.0, 4.0, 4.0, 4.0, 4.0, 5.0, 5.0, 4.0, 3.0, 5.0, 5.0, 4.0, 5.0, 5.0, 5.0, 1.0, 4.0, 5.0, 4.0, 5.0, 3.0, 3.0, 5.0, 5.0, 4.0, 4.0, 4.0, 4.0, 4.0, 4.0, 5.0, 5.0, 5.0, 4.0, 5.0, 5.0, 5.0, 3.0, 5.0, 5.0, 5.0, 5.0, 5.0, 5.0, 5.0, 5.0, 4.0, 3.0, 5.0, 5.0, 5.0, 5.0, 3.0, 5.0, 5.0, 2.0]\n",
      "\n",
      "id_outlet\n",
      "['https://www.tripadvisor.com/Restaurant_Review-g294217-d10089430-Reviews-Capo-Hong_Kong.html', 'https://www.tripadvisor.com/Restaurant_Review-g294217-d788642-Reviews-The_Peak_Lookout-Hong_Kong.html', 'https://www.tripadvisor.com/Restaurant_Review-g294217-d2161545-Reviews-Tosca_di_Angelo-Hong_Kong.html', 'https://www.tripadvisor.com/Restaurant_Review-g294217-d2433070-Reviews-Tango_Argentinian_Steak_House-Hong_Kong.html', 'https://www.tripadvisor.com/Restaurant_Review-g294217-d1880782-Reviews-Carpaccio_Pasta_Pizza_Vino-Hong_Kong.html', 'https://www.tripadvisor.com/Restaurant_Review-g294217-d2399904-Reviews-Tin_Lung_Heen-Hong_Kong.html', 'https://www.tripadvisor.com/Restaurant_Review-g294217-d2198231-Reviews-OZONE-Hong_Kong.html', 'https://www.tripadvisor.com/Restaurant_Review-g294217-d6579151-Reviews-Mott_32-Hong_Kong.html', 'https://www.tripadvisor.com/Restaurant_Review-g294217-d1024986-Reviews-NOBU_InterContinental_Hong_Kong-Hong_Kong.html', 'https://www.tripadvisor.com/Restaurant_Review-g294217-d7808139-Reviews-Braza_Churrascaria_Brazilian_Steakhouse-Hong_Kong.html', 'https://www.tripadvisor.com/Restaurant_Review-g294217-d3602180-Reviews-22_Ships-Hong_Kong.html', 'https://www.tripadvisor.com/Restaurant_Review-g294217-d2276403-Reviews-Bistecca_Italian_Steak_House-Hong_Kong.html', 'https://www.tripadvisor.com/Restaurant_Review-g294217-d2198231-Reviews-OZONE-Hong_Kong.html', 'https://www.tripadvisor.com/Restaurant_Review-g294217-d799250-Reviews-Bombay_Dreams-Hong_Kong.html', 'https://www.tripadvisor.com/Restaurant_Review-g294217-d2198231-Reviews-OZONE-Hong_Kong.html', 'https://www.tripadvisor.com/Restaurant_Review-g294217-d912108-Reviews-Caprice_Central-Hong_Kong.html', 'https://www.tripadvisor.com/Restaurant_Review-g294217-d799250-Reviews-Bombay_Dreams-Hong_Kong.html', 'https://www.tripadvisor.com/Restaurant_Review-g294217-d6579151-Reviews-Mott_32-Hong_Kong.html', 'https://www.tripadvisor.com/Restaurant_Review-g294217-d1052864-Reviews-Sevva-Hong_Kong.html', 'https://www.tripadvisor.com/Restaurant_Review-g294217-d6579151-Reviews-Mott_32-Hong_Kong.html', 'https://www.tripadvisor.com/Restaurant_Review-g294217-d2540306-Reviews-One_Dim_Sum_Chinese_Restaurant-Hong_Kong.html', 'https://www.tripadvisor.com/Restaurant_Review-g294217-d1792423-Reviews-Man_Wah-Hong_Kong.html', 'https://www.tripadvisor.com/Restaurant_Review-g294217-d2165749-Reviews-AL_MOLO_RISTORANTE_ITALIANO_Michael_White-Hong_Kong.html', 'https://www.tripadvisor.com/Restaurant_Review-g294217-d1024986-Reviews-NOBU_InterContinental_Hong_Kong-Hong_Kong.html', 'https://www.tripadvisor.com/Restaurant_Review-g294217-d788642-Reviews-The_Peak_Lookout-Hong_Kong.html', 'https://www.tripadvisor.com/Restaurant_Review-g294217-d8353573-Reviews-Scarlett_Cafe_Wine_Bar-Hong_Kong.html', 'https://www.tripadvisor.com/Restaurant_Review-g294217-d1482758-Reviews-Lobby_Lounge_InterContinental_Hong_Kong-Hong_Kong.html', 'https://www.tripadvisor.com/Restaurant_Review-g294217-d2390123-Reviews-Above_and_Beyond-Hong_Kong.html', 'https://www.tripadvisor.com/Restaurant_Review-g294217-d927163-Reviews-Yan_Toh_Heen_InterContinental_Hong_Kong-Hong_Kong.html', 'https://www.tripadvisor.com/Restaurant_Review-g294217-d2198231-Reviews-OZONE-Hong_Kong.html', 'https://www.tripadvisor.com/Restaurant_Review-g294217-d2433070-Reviews-Tango_Argentinian_Steak_House-Hong_Kong.html', 'https://www.tripadvisor.com/Restaurant_Review-g294217-d1880782-Reviews-Carpaccio_Pasta_Pizza_Vino-Hong_Kong.html', 'https://www.tripadvisor.com/Restaurant_Review-g294217-d2198231-Reviews-OZONE-Hong_Kong.html', 'https://www.tripadvisor.com/Restaurant_Review-g294217-d2706744-Reviews-Din_Tai_Fung_Yee_Wo_Branch-Hong_Kong.html', 'https://www.tripadvisor.com/Restaurant_Review-g294217-d2706744-Reviews-Din_Tai_Fung_Yee_Wo_Branch-Hong_Kong.html', 'https://www.tripadvisor.com/Restaurant_Review-g294217-d6579151-Reviews-Mott_32-Hong_Kong.html', 'https://www.tripadvisor.com/Restaurant_Review-g294217-d2514791-Reviews-The_Market-Hong_Kong.html', 'https://www.tripadvisor.com/Restaurant_Review-g294217-d1024986-Reviews-NOBU_InterContinental_Hong_Kong-Hong_Kong.html', 'https://www.tripadvisor.com/Restaurant_Review-g294217-d2540306-Reviews-One_Dim_Sum_Chinese_Restaurant-Hong_Kong.html', 'https://www.tripadvisor.com/Restaurant_Review-g294217-d2276403-Reviews-Bistecca_Italian_Steak_House-Hong_Kong.html', 'https://www.tripadvisor.com/Restaurant_Review-g294217-d2276403-Reviews-Bistecca_Italian_Steak_House-Hong_Kong.html', 'https://www.tripadvisor.com/Restaurant_Review-g294217-d1952785-Reviews-Delaney_s_Kowloon_Irish_Bar-Hong_Kong.html', 'https://www.tripadvisor.com/Restaurant_Review-g294217-d1792423-Reviews-Man_Wah-Hong_Kong.html', 'https://www.tripadvisor.com/Restaurant_Review-g294217-d3600498-Reviews-Cafe_103-Hong_Kong.html', 'https://www.tripadvisor.com/Restaurant_Review-g294217-d927163-Reviews-Yan_Toh_Heen_InterContinental_Hong_Kong-Hong_Kong.html', 'https://www.tripadvisor.com/Restaurant_Review-g294217-d2706744-Reviews-Din_Tai_Fung_Yee_Wo_Branch-Hong_Kong.html', 'https://www.tripadvisor.com/Restaurant_Review-g294217-d939504-Reviews-Amber-Hong_Kong.html', 'https://www.tripadvisor.com/Restaurant_Review-g294217-d8353573-Reviews-Scarlett_Cafe_Wine_Bar-Hong_Kong.html', 'https://www.tripadvisor.com/Restaurant_Review-g294217-d939504-Reviews-Amber-Hong_Kong.html', 'https://www.tripadvisor.com/Restaurant_Review-g294217-d1052864-Reviews-Sevva-Hong_Kong.html', 'https://www.tripadvisor.com/Restaurant_Review-g294217-d2161545-Reviews-Tosca_di_Angelo-Hong_Kong.html', 'https://www.tripadvisor.com/Restaurant_Review-g294217-d1952785-Reviews-Delaney_s_Kowloon_Irish_Bar-Hong_Kong.html', 'https://www.tripadvisor.com/Restaurant_Review-g294217-d2706744-Reviews-Din_Tai_Fung_Yee_Wo_Branch-Hong_Kong.html', 'https://www.tripadvisor.com/Restaurant_Review-g294217-d2166297-Reviews-The_Lounge_Bar-Hong_Kong.html', 'https://www.tripadvisor.com/Restaurant_Review-g294217-d6579151-Reviews-Mott_32-Hong_Kong.html', 'https://www.tripadvisor.com/Restaurant_Review-g294217-d786786-Reviews-Isola_Bar_Grill-Hong_Kong.html', 'https://www.tripadvisor.com/Restaurant_Review-g294217-d1052864-Reviews-Sevva-Hong_Kong.html', 'https://www.tripadvisor.com/Restaurant_Review-g294217-d2540306-Reviews-One_Dim_Sum_Chinese_Restaurant-Hong_Kong.html', 'https://www.tripadvisor.com/Restaurant_Review-g294217-d1027723-Reviews-Clipper_Lounge-Hong_Kong.html', 'https://www.tripadvisor.com/Restaurant_Review-g294217-d1052864-Reviews-Sevva-Hong_Kong.html', 'https://www.tripadvisor.com/Restaurant_Review-g294217-d788642-Reviews-The_Peak_Lookout-Hong_Kong.html', 'https://www.tripadvisor.com/Restaurant_Review-g294217-d2390123-Reviews-Above_and_Beyond-Hong_Kong.html', 'https://www.tripadvisor.com/Restaurant_Review-g294217-d941989-Reviews-Mandarin_Grill_Bar_at_Mandarin_Oriental_Hong_Kong-Hong_Kong.html', 'https://www.tripadvisor.com/Restaurant_Review-g294217-d7808139-Reviews-Braza_Churrascaria_Brazilian_Steakhouse-Hong_Kong.html', 'https://www.tripadvisor.com/Restaurant_Review-g294217-d2276403-Reviews-Bistecca_Italian_Steak_House-Hong_Kong.html', 'https://www.tripadvisor.com/Restaurant_Review-g294217-d2198231-Reviews-OZONE-Hong_Kong.html', 'https://www.tripadvisor.com/Restaurant_Review-g294217-d1792423-Reviews-Man_Wah-Hong_Kong.html', 'https://www.tripadvisor.com/Restaurant_Review-g294217-d1027723-Reviews-Clipper_Lounge-Hong_Kong.html', 'https://www.tripadvisor.com/Restaurant_Review-g294217-d786786-Reviews-Isola_Bar_Grill-Hong_Kong.html', 'https://www.tripadvisor.com/Restaurant_Review-g294217-d2198231-Reviews-OZONE-Hong_Kong.html', 'https://www.tripadvisor.com/Restaurant_Review-g294217-d799250-Reviews-Bombay_Dreams-Hong_Kong.html', 'https://www.tripadvisor.com/Restaurant_Review-g294217-d1952785-Reviews-Delaney_s_Kowloon_Irish_Bar-Hong_Kong.html', 'https://www.tripadvisor.com/Restaurant_Review-g294217-d1952785-Reviews-Delaney_s_Kowloon_Irish_Bar-Hong_Kong.html', 'https://www.tripadvisor.com/Restaurant_Review-g294217-d1880782-Reviews-Carpaccio_Pasta_Pizza_Vino-Hong_Kong.html', 'https://www.tripadvisor.com/Restaurant_Review-g294217-d1811943-Reviews-Cafe_Gray_Deluxe-Hong_Kong.html', 'https://www.tripadvisor.com/Restaurant_Review-g294217-d2161545-Reviews-Tosca_di_Angelo-Hong_Kong.html', 'https://www.tripadvisor.com/Restaurant_Review-g294217-d1952785-Reviews-Delaney_s_Kowloon_Irish_Bar-Hong_Kong.html', 'https://www.tripadvisor.com/Restaurant_Review-g294217-d788642-Reviews-The_Peak_Lookout-Hong_Kong.html', 'https://www.tripadvisor.com/Restaurant_Review-g294217-d2166297-Reviews-The_Lounge_Bar-Hong_Kong.html', 'https://www.tripadvisor.com/Restaurant_Review-g294217-d2540306-Reviews-One_Dim_Sum_Chinese_Restaurant-Hong_Kong.html', 'https://www.tripadvisor.com/Restaurant_Review-g294217-d10089430-Reviews-Capo-Hong_Kong.html', 'https://www.tripadvisor.com/Restaurant_Review-g294217-d2165749-Reviews-AL_MOLO_RISTORANTE_ITALIANO_Michael_White-Hong_Kong.html', 'https://www.tripadvisor.com/Restaurant_Review-g294217-d1024986-Reviews-NOBU_InterContinental_Hong_Kong-Hong_Kong.html', 'https://www.tripadvisor.com/Restaurant_Review-g294217-d6579151-Reviews-Mott_32-Hong_Kong.html', 'https://www.tripadvisor.com/Restaurant_Review-g294217-d2540306-Reviews-One_Dim_Sum_Chinese_Restaurant-Hong_Kong.html', 'https://www.tripadvisor.com/Restaurant_Review-g294217-d2166297-Reviews-The_Lounge_Bar-Hong_Kong.html', 'https://www.tripadvisor.com/Restaurant_Review-g294217-d1880782-Reviews-Carpaccio_Pasta_Pizza_Vino-Hong_Kong.html', 'https://www.tripadvisor.com/Restaurant_Review-g294217-d2540306-Reviews-One_Dim_Sum_Chinese_Restaurant-Hong_Kong.html', 'https://www.tripadvisor.com/Restaurant_Review-g294217-d2706744-Reviews-Din_Tai_Fung_Yee_Wo_Branch-Hong_Kong.html', 'https://www.tripadvisor.com/Restaurant_Review-g294217-d2399904-Reviews-Tin_Lung_Heen-Hong_Kong.html', 'https://www.tripadvisor.com/Restaurant_Review-g294217-d6579151-Reviews-Mott_32-Hong_Kong.html', 'https://www.tripadvisor.com/Restaurant_Review-g294217-d2198231-Reviews-OZONE-Hong_Kong.html', 'https://www.tripadvisor.com/Restaurant_Review-g294217-d2166297-Reviews-The_Lounge_Bar-Hong_Kong.html', 'https://www.tripadvisor.com/Restaurant_Review-g294217-d927163-Reviews-Yan_Toh_Heen_InterContinental_Hong_Kong-Hong_Kong.html', 'https://www.tripadvisor.com/Restaurant_Review-g294217-d2706744-Reviews-Din_Tai_Fung_Yee_Wo_Branch-Hong_Kong.html', 'https://www.tripadvisor.com/Restaurant_Review-g294217-d10089430-Reviews-Capo-Hong_Kong.html', 'https://www.tripadvisor.com/Restaurant_Review-g294217-d938999-Reviews-Peking_Garden_Restaurant_Alexandra_House-Hong_Kong.html', 'https://www.tripadvisor.com/Restaurant_Review-g294217-d8353573-Reviews-Scarlett_Cafe_Wine_Bar-Hong_Kong.html', 'https://www.tripadvisor.com/Restaurant_Review-g294217-d2399904-Reviews-Tin_Lung_Heen-Hong_Kong.html', 'https://www.tripadvisor.com/Restaurant_Review-g294217-d2165749-Reviews-AL_MOLO_RISTORANTE_ITALIANO_Michael_White-Hong_Kong.html']\n",
      "\n",
      "traveler_type\n",
      "['Business', 'Family', 'Friends', 'Business', 'Friends', 'Friends', 'Couples', 'Friends', 'Family', 'Friends', 'Couples', 'Solo', 'Couples', 'Friends', 'Business', 'Family', 'Business', 'Couples', 'Friends', 'Business', 'Couples', 'Couples', 'Friends', 'Family', 'Couples', 'Family', 'Family', 'Couples', 'Family', 'Friends', 'Business', 'Friends', 'Business', 'Family', 'Couples', 'Family', 'Friends', 'Couples', 'Family', 'Friends', 'Couples', 'Couples', 'Friends', 'Couples', 'Couples', 'Family', 'Solo', 'Business', 'Couples', 'Friends', 'Family', 'Friends', 'Family', 'Couples', 'Friends', 'Couples', 'Couples', 'Friends', 'Family', 'Business', 'Friends', 'Friends', 'Friends', 'Family', 'Business', 'Business', 'Couples', 'Friends', 'Solo', 'Couples', 'Friends', 'Business', 'Couples', 'Friends', 'Business', 'Couples', 'Couples', 'Family', 'Couples', 'Family', 'Couples', 'Solo', 'Friends', 'Friends', 'Family', 'Solo', 'Couples', 'Solo', 'Couples', 'Family', 'Family', 'Couples', 'Solo', 'Couples', 'Couples', 'Business', 'Couples', 'Friends', 'Friends', 'Friends']\n",
      "\n"
     ]
    }
   ],
   "source": [
    "for attr in tripadvisor_reviews[0]:\n",
    "    print(attr)\n",
    "    by_attr(tripadvisor_reviews, attr)\n",
    "    print()"
   ]
  },
  {
   "cell_type": "markdown",
   "metadata": {},
   "source": [
    "### tripadvisor_user\n",
    "- user: str\n",
    "- address: str\n",
    "- reviews: int\n",
    "- likes: double"
   ]
  },
  {
   "cell_type": "code",
   "execution_count": 171,
   "metadata": {},
   "outputs": [
    {
     "data": {
      "text/plain": [
       "(100,\n",
       " {'user': '114sandyr',\n",
       "  'address': 'Hong Kong, China',\n",
       "  'reviews': 137,\n",
       "  'likes': 55.0})"
      ]
     },
     "execution_count": 171,
     "metadata": {},
     "output_type": "execute_result"
    }
   ],
   "source": [
    "len(tripadvisor_user), random.choice(tripadvisor_user)"
   ]
  },
  {
   "cell_type": "code",
   "execution_count": 175,
   "metadata": {},
   "outputs": [
    {
     "name": "stdout",
     "output_type": "stream",
     "text": [
      "user\n",
      "['Anastasia9992015', 'rkim511', 'Anncici', 'cutiedoggy13', 'Dan L', '114sandyr', 'Andrea A', 'cj0823', 'Dan A', 'hyunkkk', 'ken_stearns', 'Safemach', 'Julien G', 'bobwK5197LB', 'Andrew V', 'Dreamer726639', 'stefanobY1151RR', 'jayniferb', 'Joseph-in-NYC', 'Applelover826', 'mikemoulds', 'samcH7426AP', 'Christina R', 'tjjones425', 'Josephb8585', 'Antony S', 'mrstsh', 'HeyJu2014', 'Luke A', 'clementc516', 'zed1313', '1foodielove', 'Wendy N', 'Liupkiu', 'ldunnreier', 'Colm O', 'thegreatchris', 'WeeRobbo_12', '512aartig', 'MuneerH', 'jjangPLDT', 'broy7', 'ChoyN3', 'Vonikazou', 'LoB911', 'Danny L', 'sonnyboy11', 'Marco S', 'Megan S', 'scottng15', 'tlk2019', 'Cupcake_8932', 'Effie2019', 'michellelalam', 'ChicagoFamily60614', 'zubux', 'IndonesianDream', 'Celio K', 'vtc950', 'jackjones71277', 'TorbenA956', 'ausdolly2014', 'TravelsinTranslation', 'redmini7', 'pondie68', 'GrahamL-S', 'Rosscodad', 'Sandie02', 'Greg Q', 'NeilPurdy', 'mysticpenguin', 'silvak2013', 'TranFamilyNorway', 'daddywarbucks1', 'zzhuizi92', 'sarahmc69', 'Gordo', 'skidogs', 'jensman58', 'Selma2014', 'snowee b', 'Taglio87', 'sampetrus24', 'ChrisCarter1978', 'kaytaro', 'S4213YDkevinc', 'Tongil', 'DannyB70', '631Vinnie75', 'mc_nac', 'tmp025', 'Cat122011', 'Reisefuchs61', '695maxm', 'Umberto M', 'jonasr727', 'simonf815', 'Richansa', 'Brittaperry', 'BJRACT']\n",
      "\n",
      "address\n",
      "['Vladivostok, Russia', 'Kuala Lumpur, Malaysia', '', 'Hong Kong', 'Bunbury, Australia', 'Hong Kong, China', '', '', 'Denver, Colorado', 'South Korea', 'Bangkok, Thailand', 'Shanghai', 'Phuket, Thailand', '', '', 'Hong Kong, China', 'Brooklyn, New York', 'Hong Kong, China', 'New York City, New York', '', 'Beverley, United Kingdom', 'Hong Kong', '', 'San Jose, California', 'Sunny Isles Beach, Florida', 'Hong Kong, China', 'hk', 'Hong Kong, China', 'New York City, New York', 'Hong Kong, China', 'United Kingdom', 'Side, Turkey', '', '', 'Jacksonville, Florida', '', 'Munich, Germany', 'Hong Kong, China', 'Hong Kong, China', 'Dhaka City, Bangladesh', '', 'Mississauga', '', 'Hong Kong, China', '', '', 'Los Angeles', '', '', 'Nottingham', 'Hong Kong, China', 'Hong Kong, China', '', '', 'Chicago, Illinois', 'Franklin, Tennessee', 'Jakarta, Indonesia', 'Hod Hasharon, Israel', 'Hong Kong, China', 'Hong Kong, China', 'Hellerup, Denmark', 'Perth, Australia', 'Chicago, Illinois', 'Hong Kong, China', 'Richmond, United Kingdom', 'Bath, United Kingdom', 'Northamptonshire, United Kingdom', 'Shenzhen, China', '', 'Dublin, Ireland', 'Belgium', '', 'Oslo, Norway', '', 'Singapore, Singapore', 'London, United Kingdom', 'Elmhurst, Illinois', 'Arizona', 'Cologne', 'Sousse, Tunisia', 'manila', 'Sardinia, Italy', 'Hong Kong, China', 'Boston, Massachusetts', 'osaka', 'Guangzhou, China', 'Sydney', 'England, United Kingdom', 'Long Island, New York', 'Woluwe-Saint-Lambert, Belgium', 'Manchester, United Kingdom', 'Hamburg, Germany', 'Heinsberg, Germany', 'Hong Kong, China', 'Reggio Emilia, Italy', 'Zurich, Switzerland', 'Hong Kong, China', 'Wallingford, United Kingdom', 'Singapore, Singapore', 'Washington DC, District of Columbia']\n",
      "\n",
      "reviews\n",
      "[149, 142, 468, 337, 2588, 137, 214, 18, 45, 345, 108, 245, 39, 37, 1, 1, 113, 1, 32, 1, 216, 5, 1, 6, 93, 19, 31, 1, 10, 7, 186, 21, 3, 2, 42, 4, 34, 10, 2, 68, 1, 220, 1, 10, 5, 3, 6, 2, 1, 173, 1, 4, 5, 2, 21, 51, 26, 34, 99, 2, 215, 37, 53, 55, 29, 477, 67, 237, 35, 8, 3, 28, 379, 16, 7, 84, 199, 37, 28, 5, 31, 22, 7, 27, 95, 11, 37, 469, 9, 99, 58, 170, 96, 5, 28, 92, 4, 14, 8, 270]\n",
      "\n",
      "likes\n",
      "[68.0, 136.0, 32.0, 229.0, 779.0, 55.0, 64.0, 7.0, 26.0, 22.0, 55.0, 128.0, 26.0, 17.0, '', 3.0, 35.0, 1.0, 28.0, '', 184.0, '', '', 6.0, 40.0, 5.0, 10.0, 2.0, 5.0, 2.0, 82.0, 21.0, '', 2.0, 17.0, '', 16.0, 6.0, '', 57.0, '', 50.0, 3.0, 5.0, 5.0, 2.0, 3.0, '', 3.0, 89.0, '', 1.0, 1.0, '', 14.0, 6.0, 2.0, 15.0, 23.0, '', 104.0, 11.0, 37.0, 20.0, 20.0, 160.0, 15.0, 97.0, 9.0, 11.0, 1.0, 19.0, 229.0, 20.0, 2.0, 21.0, 172.0, 5.0, 25.0, 4.0, 23.0, 20.0, 2.0, 12.0, 86.0, 2.0, 31.0, 280.0, '', 47.0, 33.0, 52.0, 18.0, 4.0, 31.0, 35.0, '', 12.0, 3.0, 186.0]\n",
      "\n"
     ]
    }
   ],
   "source": [
    "pprint_by_attr(tripadvisor_user)"
   ]
  },
  {
   "cell_type": "markdown",
   "metadata": {},
   "source": [
    "### ubereats_menu"
   ]
  },
  {
   "cell_type": "code",
   "execution_count": 34,
   "metadata": {},
   "outputs": [
    {
     "data": {
      "text/plain": [
       "(184,\n",
       " {'id_outlet': '297652528638499107975531520877353140589',\n",
       "  'name': 'Coca-Cola',\n",
       "  'brand': 'Coca-Cola',\n",
       "  'price': 2.0,\n",
       "  'volume': 'unknown'})"
      ]
     },
     "execution_count": 34,
     "metadata": {},
     "output_type": "execute_result"
    }
   ],
   "source": [
    "len(ubereats_menu), random.choice(ubereats_menu)"
   ]
  },
  {
   "cell_type": "code",
   "execution_count": 176,
   "metadata": {},
   "outputs": [
    {
     "name": "stdout",
     "output_type": "stream",
     "text": [
      "id_outlet\n",
      "['49902879992629236407831306704091856908', '49902879992629236407831306704091856908', '49902879992629236407831306704091856908', '49902879992629236407831306704091856908', '49902879992629236407831306704091856908', '49902879992629236407831306704091856908', '49902879992629236407831306704091856908', '49902879992629236407831306704091856908', '49902879992629236407831306704091856908', '49902879992629236407831306704091856908', '49902879992629236407831306704091856908', '49902879992629236407831306704091856908', '49902879992629236407831306704091856908', '49902879992629236407831306704091856908', '283294963221695236170763356367199286448', '283294963221695236170763356367199286448', '283294963221695236170763356367199286448', '283294963221695236170763356367199286448', '283294963221695236170763356367199286448', '283294963221695236170763356367199286448', '283294963221695236170763356367199286448', '283294963221695236170763356367199286448', '283294963221695236170763356367199286448', '283294963221695236170763356367199286448', '327257783106451358954447114691995086169', '327257783106451358954447114691995086169', '327257783106451358954447114691995086169', '327257783106451358954447114691995086169', '327257783106451358954447114691995086169', '327257783106451358954447114691995086169', '327257783106451358954447114691995086169', '327257783106451358954447114691995086169', '314032653973337478450144404494058558532', '314032653973337478450144404494058558532', '321365545283542343578744113965592435892', '321365545283542343578744113965592435892', '321365545283542343578744113965592435892', '127048456998651170056736953480857736328', '127048456998651170056736953480857736328', '127048456998651170056736953480857736328', '127048456998651170056736953480857736328', '127048456998651170056736953480857736328', '127048456998651170056736953480857736328', '165997420050571885484241233202539084755', '165997420050571885484241233202539084755', '165997420050571885484241233202539084755', '165997420050571885484241233202539084755', '165997420050571885484241233202539084755', '165997420050571885484241233202539084755', '165997420050571885484241233202539084755', '33417390446481492604604940052101658935', '33417390446481492604604940052101658935', '33417390446481492604604940052101658935', '33417390446481492604604940052101658935', '33417390446481492604604940052101658935', '33417390446481492604604940052101658935', '33417390446481492604604940052101658935', '33417390446481492604604940052101658935', '33417390446481492604604940052101658935', '33417390446481492604604940052101658935', '33417390446481492604604940052101658935', '47002041566522905200636609827711769647', '47002041566522905200636609827711769647', '47002041566522905200636609827711769647', '47002041566522905200636609827711769647', '47002041566522905200636609827711769647', '47002041566522905200636609827711769647', '47002041566522905200636609827711769647', '47002041566522905200636609827711769647', '91943224646241056385634118768695280437', '91943224646241056385634118768695280437', '91943224646241056385634118768695280437', '91943224646241056385634118768695280437', '91943224646241056385634118768695280437', '91943224646241056385634118768695280437', '91943224646241056385634118768695280437', '91943224646241056385634118768695280437', '91943224646241056385634118768695280437', '91943224646241056385634118768695280437', '91943224646241056385634118768695280437', '91943224646241056385634118768695280437', '91943224646241056385634118768695280437', '91943224646241056385634118768695280437', '91943224646241056385634118768695280437', '91943224646241056385634118768695280437', '91943224646241056385634118768695280437', '91943224646241056385634118768695280437', '91943224646241056385634118768695280437', '91943224646241056385634118768695280437', '91943224646241056385634118768695280437', '91943224646241056385634118768695280437', '91943224646241056385634118768695280437', '91943224646241056385634118768695280437', '91943224646241056385634118768695280437', '91943224646241056385634118768695280437', '91943224646241056385634118768695280437', '91943224646241056385634118768695280437', '91943224646241056385634118768695280437', '252651641282346579703164237318735593936', '252651641282346579703164237318735593936', '252651641282346579703164237318735593936', '252651641282346579703164237318735593936', '252651641282346579703164237318735593936', '252651641282346579703164237318735593936', '63562601146806588372772564799565949887', '63562601146806588372772564799565949887', '63562601146806588372772564799565949887', '63562601146806588372772564799565949887', '63562601146806588372772564799565949887', '63562601146806588372772564799565949887', '63562601146806588372772564799565949887', '63562601146806588372772564799565949887', '63562601146806588372772564799565949887', '63562601146806588372772564799565949887', '63562601146806588372772564799565949887', '63562601146806588372772564799565949887', '297652528638499107975531520877353140589', '297652528638499107975531520877353140589', '297652528638499107975531520877353140589', '297652528638499107975531520877353140589', '297652528638499107975531520877353140589', '297652528638499107975531520877353140589', '297652528638499107975531520877353140589', '297652528638499107975531520877353140589', '54510679703893206233253810796548733693', '190196191040961587160782732334856784888', '190196191040961587160782732334856784888', '190196191040961587160782732334856784888', '190196191040961587160782732334856784888', '190196191040961587160782732334856784888', '190196191040961587160782732334856784888', '190196191040961587160782732334856784888', '190196191040961587160782732334856784888', '147604685768551105643067051820075670330', '147604685768551105643067051820075670330', '147604685768551105643067051820075670330', '147604685768551105643067051820075670330', '35881379350896673743352998569627830528', '35881379350896673743352998569627830528', '35881379350896673743352998569627830528', '35881379350896673743352998569627830528', '67256766394334269099759147717171913478', '67256766394334269099759147717171913478', '67256766394334269099759147717171913478', '67256766394334269099759147717171913478', '67256766394334269099759147717171913478', '67256766394334269099759147717171913478', '67256766394334269099759147717171913478', '67256766394334269099759147717171913478', '67256766394334269099759147717171913478', '67256766394334269099759147717171913478', '67256766394334269099759147717171913478', '67256766394334269099759147717171913478', '67256766394334269099759147717171913478', '67256766394334269099759147717171913478', '174781837695277235773315022668535172434', '174781837695277235773315022668535172434', '174781837695277235773315022668535172434', '174781837695277235773315022668535172434', '174781837695277235773315022668535172434', '174781837695277235773315022668535172434', '174781837695277235773315022668535172434', '174781837695277235773315022668535172434', '174781837695277235773315022668535172434', '174781837695277235773315022668535172434', '174781837695277235773315022668535172434', '174781837695277235773315022668535172434', '174781837695277235773315022668535172434', '174781837695277235773315022668535172434', '174781837695277235773315022668535172434', '174781837695277235773315022668535172434', '174781837695277235773315022668535172434', '174781837695277235773315022668535172434', '174781837695277235773315022668535172434', '174781837695277235773315022668535172434', '174781837695277235773315022668535172434', '174781837695277235773315022668535172434', '174781837695277235773315022668535172434', '174781837695277235773315022668535172434', '174781837695277235773315022668535172434', '174781837695277235773315022668535172434', '174781837695277235773315022668535172434', '174781837695277235773315022668535172434', '174781837695277235773315022668535172434']\n",
      "\n",
      "name\n",
      "['Fuze Tea sparkling', 'Fuze Tea green tea', 'Fernandes red grape', 'Chaudfontaine', 'Fernandes cherry bouquet', 'Fernandes green punch', 'Sprite fles', 'Sprite', 'Red Bull', 'Fanta fles', 'Fanta', 'Coca-Cola regular fles', 'Coca-Cola', 'Coca-Cola zero', 'Heineken 25cl', 'Two Chefs 33cl Funky Falcon', 'Chaudfontaine blauw 50cl mineraal water', \"Brouwerij 't IJ 33cl\", 'Chaudfontaine rood 50cl mineraal water', 'Sprite 33cl', 'Heineken 0.0 25cl', 'Fanta orange 33cl', 'Coca Cola 33cl', 'Coca Cola Zero 33cl', 'Lipton ice tea peach', 'Lipton ice tea green', 'Pepsi', 'Pepsi max', 'Pepsi flesje (500ml) & Lays zakje chips (27,5g)', '7 Up', 'Sourcy water ', 'Sourcy rood', 'Coca-Cola light ', 'Fanta', 'Coca-Cola light', 'Lipton ice tea green', 'Coca-Cola', 'EARTH Water still', 'EARTH Water sparkling', 'Coca-Cola light ', 'Lipton ice tea green', 'Coca-Cola regular ', 'Coca-Cola zero ', 'Coca-Cola light', 'AA Drink ', 'Red Bull ', 'Heineken ', 'Fanta', 'Coca-Cola', 'Coca-Cola zero', '6 pack bier', 'Bier', '6 pack bier', 'Bier', 'Fuze tea green tea', 'AA drink flesje', 'Red bull', 'Fanta blik', 'Coca-Cola fles 1,75 l', 'Coca Cola 0,5 l', 'Coca Cola', 'Fles Coca-Cola light ', 'Coca-Cola light ', 'Sprite ', 'Red Bull ', 'Fles fanta ', 'Fanta ', 'Coca-Cola ', 'Fles Coca-Cola ', 'Amstel bier 1 blikje 0.33 l', 'Amstel bier 24 blikjes 0.33 l ', 'Amstel bier 6 blikjes 0.50 l ', 'Amstel bier 1 blikje 0.50 l ', 'Amstel bier 48 blikjes 0.50 l ', 'Amstel bier 24 blikjes 0.50 l', 'Amstel bier 48 blikjes 0.33 l ', 'Amstel bier 6 blikjes 0.33 l ', 'Coca-Cola Light ', 'Fanta Exotic ', 'Sprite ', 'Aa Drink ', 'Red Bull ', 'Bacardi Cola ', 'Heineken 24 blikjes 0.33 l ', 'Heineken 1 blikje 0.50 l ', 'Heineken 1 blikje 0.33 l ', 'Heineken 1 flesje 0.25 l ', 'Heineken 6 blikjes 0.50 l ', 'Heineken 48 blikjes 0.50 l ', 'Heineken 24 flesjes 0.25 l ', 'Heineken 6 flesjes 0.25 l', 'Heineken 48 blikjes 0.33 l ', 'Heineken 6-pack, 6 blikjes 0.33 l ', 'Heineken 12 flesjes 0.25 l', 'Heineken 24 blikjes 0.50 l ', 'Fanta ', 'Fanta 1.5 liter ', 'Coca-Cola', 'Coca Cola Light', 'Sprite', 'AA Drink', 'Red Bull', 'Fanta', 'Coca Cola', 'Lipton ice tea lemon', 'Fanta cassis', 'Fernandes cherry bouquet', 'Fernandes green punch', 'Fanta exotic', 'lipton ice tea green', 'AA Drink', 'Red Bull', '7 Up', 'Fanta orange', 'Coca-Cola', 'Coca-Cola zero sugar', 'Fuze Tea ice tea', 'Chaudfontaine still', 'Sprite ', 'AA drink ', 'Red Bull', 'Fanta', 'Coca-Cola', 'Coca-Cola zero ', 'Charitea - mate ijsthee', '139a. Coca-Cola light', '146. Lipton ice tea peach', '145. Lipton ice tea green', '141. Sprite regular', '142. Red Bull', '143. Red Bull sugar free', '144. Lipton ice tea sparkling', '139. Coca-Cola regular', 'Heineken', 'Sprite', 'Fanta', 'Coca Cola', 'Grolsch', 'Fanta Orange', 'Coca Cola', 'Coca Cola zero', 'Orangina', 'Nestea peach', 'Appelsientje', ' Dr. pepper', 'Fanta cassis', 'Sprite blik', 'AA Drink', 'Red Bull', '7Up 0.5L fles', 'Fanta 0.5L fles', 'Fanta blik', 'Coca-Cola 0.5L fles', 'Coca-Cola blik', 'Coca-Cola zero blik', 'Magners', 'Schweppes Ginger Ale', 'Somersby Blackberry', 'Somersby Apple', \"Bottle of Gordon's Pink Gin 1 Liter\", 'Aperol Spritz', 'Smirnoff Ice', 'Negroni', 'Red Martini', 'Jägermeister', 'Fanta Cassis', 'Bottle of Smirnoff Vodka 1 Liter', 'Sex on the Beach', \"Bottle of Gordon's dry Gin 1 Liter\", 'Alcohol Free Mojito', 'Sprite ', 'Red Bull Sugar Free', 'Agwa Blaster', 'Red Bull', 'Mojito Red Bull', 'Bottle of Jack Daniels 1 Liter', 'Orgazm', 'Orgazm', 'Bottle of Bacardi Rum 1 Liter', 'Fanta Orange', 'Coca Cola', 'Long Island', 'Cuba Libre ', 'Coca Cola Zero']\n",
      "\n",
      "brand\n",
      "['Fuze Tea', 'Fuze Tea', 'Fernandes', 'Chaudfontaine', 'Fernandes', 'Fernandes', 'Sprite', 'Sprite', 'Red Bull', 'Fanta', 'Fanta', 'Coca-Cola', 'Coca-Cola', 'Coca-Cola', 'Heineken', \"Two Chef's Brewing\", 'Chaudfontaine', \"Brouwerij 't IJ\", 'Chaudfontaine', 'Sprite', 'Heineken', 'Fanta', 'Coca-Cola', 'Coca-Cola', 'Lipton', 'Lipton', 'Pepsi', 'Pepsi', 'Pepsi', '7Up', 'Sourcy', 'Sourcy', 'Coca-Cola', 'Fanta', 'Coca-Cola', 'Lipton', 'Coca-Cola', 'Earth Water', 'Earth Water', 'Coca-Cola', 'Lipton', 'Coca-Cola', 'Coca-Cola', 'Coca-Cola', 'Aa Drink', 'Red Bull', 'Heineken', 'Fanta', 'Coca-Cola', 'Coca-Cola', 'Grolsch', 'Grolsch', 'Heineken', 'Heineken', 'Fuze Tea', 'Aa Drink', 'Red Bull', 'Fanta', 'Coca-Cola', 'Coca-Cola', 'Coca-Cola', 'Coca-Cola', 'Coca-Cola', 'Sprite', 'Red Bull', 'Fanta', 'Fanta', 'Coca-Cola', 'Coca-Cola', 'Amstel', 'Amstel', 'Amstel', 'Amstel', 'Amstel', 'Amstel', 'Amstel', 'Amstel', 'Coca-Cola', 'Fanta', 'Sprite', 'Aa Drink', 'Red Bull', 'Bacardi', 'Heineken', 'Heineken', 'Heineken', 'Heineken', 'Heineken', 'Heineken', 'Heineken', 'Heineken', 'Heineken', 'Heineken', 'Heineken', 'Heineken', 'Fanta', 'Fanta', 'Coca-Cola', 'Coca-Cola', 'Sprite', 'Aa Drink', 'Red Bull', 'Fanta', 'Coca-Cola', 'Lipton', 'Fanta', 'Fernandes', 'Fernandes', 'Fanta', 'Lipton', 'Aa Drink', 'Red Bull', '7Up', 'Fanta', 'Coca-Cola', 'Coca-Cola', 'Fuze Tea', 'Chaudfontaine', 'Sprite', 'Aa Drink', 'Red Bull', 'Fanta', 'Coca-Cola', 'Coca-Cola', 'ChariTea', 'Coca-Cola', 'Lipton', 'Lipton', 'Sprite', 'Red Bull', 'Red Bull', 'Lipton', 'Coca-Cola', 'Heineken', 'Sprite', 'Fanta', 'Coca-Cola', 'Grolsch', 'Fanta', 'Coca-Cola', 'Coca-Cola', 'Orangina', 'Nestea', 'Appelsientje', 'Dr Pepper', 'Fanta', 'Sprite', 'Aa Drink', 'Red Bull', '7Up', 'Fanta', 'Fanta', 'Coca-Cola', 'Coca-Cola', 'Coca-Cola', 'Magners', 'Schweppes', 'Somersby', 'Somersby', \"Gordon's\", 'Aperol', 'Smirnoff', 'Martini', 'Martini', 'Jägermeister', 'Fanta', 'Smirnoff', 'Malibu', \"Gordon's\", 'Sprite', 'Sprite', 'Red Bull', 'Red Bull', 'Red Bull', 'Red Bull', \"Jack Daniel's\", 'Cointreau', 'Baileys', 'Bacardi', 'Fanta', 'Coca-Cola', 'Coca-Cola', 'Coca-Cola', 'Coca-Cola']\n",
      "\n",
      "price\n",
      "[1.95, 1.95, 1.95, 1.95, 1.95, 1.95, 3.95, 1.95, 3.49, 3.95, 1.95, 3.95, 1.95, 1.95, 3.5, 5.0, 2.5, 5.0, 2.5, 2.5, 3.5, 2.5, 2.5, 2.5, 2.6, 2.6, 2.6, 2.6, 3.5, 2.6, 2.6, 2.6, 2.0, 2.0, 3.0, 3.0, 3.0, 3.0, 3.0, 3.0, 3.0, 3.0, 3.0, 2.0, 2.0, 3.0, 2.0, 2.0, 2.0, 2.0, 11.5, 2.25, 11.5, 2.25, 2.7, 2.25, 3.0, 2.25, 4.0, 2.75, 2.25, 3.75, 2.0, 2.0, 2.5, 3.75, 2.0, 2.0, 3.75, 2.3, 40.0, 17.0, 3.0, 81.99, 65.0, 78.0, 12.0, 1.5, 1.5, 1.5, 1.5, 2.5, 3.0, 40.0, 3.0, 2.3, 2.5, 17.0, 85.99, 50.0, 15.0, 78.0, 12.0, 27.0, 65.0, 1.5, 3.5, 1.5, 1.75, 1.75, 1.75, 2.5, 1.75, 1.75, 2.0, 2.0, 2.0, 2.0, 2.0, 2.0, 2.0, 2.5, 2.0, 2.0, 2.0, 2.0, 2.0, 2.0, 2.0, 2.0, 2.5, 2.0, 2.0, 2.0, 3.25, 1.75, 1.75, 1.75, 1.75, 2.0, 2.0, 1.75, 1.75, 4.0, 4.0, 4.0, 4.0, 2.5, 2.0, 2.0, 2.0, 2.0, 2.5, 2.5, 2.0, 2.5, 2.0, 2.0, 2.5, 2.5, 2.5, 2.0, 2.5, 2.0, 2.0, 5.5, 3.5, 5.5, 5.5, 65.0, 10.0, 5.5, 11.5, 5.0, 4.0, None, 60.0, 10.0, 60.0, 6.5, None, 4.5, 10.0, 4.5, 10.0, 80.0, 10.0, 10.0, 60.0, None, None, 16.5, 10.0, None]\n",
      "\n",
      "volume\n",
      "['250', '250', '330', '500', '330', '330', '1500', '330', '250', '1500', '330', '1500', '330', '330', '250', '330', '500', '330', '500', '330', '250', '330', '330', '330', '500', '500', '500', '500', '500', '500', '500', 'unknown', 'unknown', 'unknown', 'unknown', 'unknown', 'unknown', 'unknown', 'unknown', 'unknown', 'unknown', 'unknown', 'unknown', 'unknown', 'unknown', 'unknown', '330', 'unknown', 'unknown', 'unknown', '500', '500', '500', '500', 'unknown', 'unknown', 'unknown', 'unknown', '1750', '500', 'unknown', 'unknown', 'unknown', 'unknown', 'unknown', 'unknown', 'unknown', 'unknown', 'unknown', '330', '330', '500', '500', '500', '500', '330', '330', 'unknown', 'unknown', 'unknown', 'unknown', 'unknown', 'unknown', '330', '500', '330', '250', '500', '500', '250', '250', '330', '330', '250', '500', 'unknown', '1500', 'unknown', 'unknown', 'unknown', 'unknown', 'unknown', 'unknown', 'unknown', 'unknown', 'unknown', '330', '330', '330', 'unknown', 'unknown', 'unknown', 'unknown', '330', '330', '330', 'unknown', 'unknown', 'unknown', 'unknown', 'unknown', 'unknown', 'unknown', 'unknown', 'unknown', 'unknown', 'unknown', 'unknown', 'unknown', 'unknown', 'unknown', '440', 'unknown', '330', '330', '330', '330', '330', '330', '330', '330', 'unknown', 'unknown', 'unknown', 'unknown', 'unknown', 'unknown', 'unknown', 'unknown', '500', '500', 'unknown', '500', 'unknown', 'unknown', 'unknown', 'unknown', 'unknown', 'unknown', '1000', 'unknown', 'unknown', 'unknown', 'unknown', 'unknown', 'unknown', '1000', 'unknown', '1000', 'unknown', 'unknown', 'unknown', 'unknown', 'unknown', 'unknown', '1000', 'unknown', 'unknown', '1000', 'unknown', 'unknown', 'unknown', 'unknown', 'unknown']\n",
      "\n"
     ]
    }
   ],
   "source": [
    "pprint_by_attr(ubereats_menu)"
   ]
  },
  {
   "cell_type": "markdown",
   "metadata": {},
   "source": [
    "### ubereats_outlet"
   ]
  },
  {
   "cell_type": "code",
   "execution_count": 35,
   "metadata": {},
   "outputs": [
    {
     "data": {
      "text/plain": [
       "(20,\n",
       " {'id_outlet': '327257783106451358954447114691995086169',\n",
       "  'country': 'NL',\n",
       "  'name': 'Subway',\n",
       "  'address': 'Vrijstraat 23, 5611 AT Eindhoven, Netherlands',\n",
       "  'reviews_nr': 63})"
      ]
     },
     "execution_count": 35,
     "metadata": {},
     "output_type": "execute_result"
    }
   ],
   "source": [
    "len(ubereats_outlet), random.choice(ubereats_outlet)"
   ]
  },
  {
   "cell_type": "code",
   "execution_count": 177,
   "metadata": {},
   "outputs": [
    {
     "name": "stdout",
     "output_type": "stream",
     "text": [
      "id_outlet\n",
      "['133789486375935476627406684831438871941', '49902879992629236407831306704091856908', '283294963221695236170763356367199286448', '327257783106451358954447114691995086169', '314032653973337478450144404494058558532', '321365545283542343578744113965592435892', '127048456998651170056736953480857736328', '165997420050571885484241233202539084755', '33417390446481492604604940052101658935', '47002041566522905200636609827711769647', '91943224646241056385634118768695280437', '252651641282346579703164237318735593936', '63562601146806588372772564799565949887', '297652528638499107975531520877353140589', '54510679703893206233253810796548733693', '190196191040961587160782732334856784888', '147604685768551105643067051820075670330', '35881379350896673743352998569627830528', '67256766394334269099759147717171913478', '174781837695277235773315022668535172434']\n",
      "\n",
      "country\n",
      "['NL', 'NL', 'NL', 'NL', 'NL', 'NL', 'NL', 'NL', 'NL', 'NL', 'NL', 'NL', 'NL', 'NL', 'NL', 'NL', 'NL', 'NL', 'NL', 'NL']\n",
      "\n",
      "name\n",
      "['De IJsmaker Witte de Withstraat', 'Dominos', 'Sea Palace Restaurant', 'Subway', 'Sushi De Luxe', 'THE BAB', 'Fresh2U', 'Mac el Aziz Grillroom', 'Hapsalon Kapsalon', 'Roti Boer', 'Cafetaria & Pizzeria Straatweg', 'Ambala Tandoori', 'Burger company', 'Op Saj', 'SLA', 'China Catering Eindhoven', 'La Zoccola del Pacioccone', 'Van Speyk', 'Favorite Chicken & Ribs', 'Famous Burger']\n",
      "\n",
      "address\n",
      "['Witte De Withstraat 7a, 3012', 'Kamperfoelieweg 40, 1032 HP Amsterdam, Netherlands', 'Oosterdokskade 8, 1011 AE Amsterdam, Netherlands', 'Vrijstraat 23, 5611 AT Eindhoven, Netherlands', 'Cinemadreef 236, 1325 ER Almere, Netherlands', 'Camperstraat 36, 1091 AG Amsterdam, Netherlands', 'Sweder van Zuylenweg 4 Utrecht', 'Goudse Rijweg 48 Rotterdam', 'Lange Smeestraat 26 Utrecht', 'Ondiep-Zuidzijde 2, 3551 BW Utrecht, Netherlands', 'Amsterdamsestraatweg 118, 3513 AL Utrecht, Netherlands', 'Vierambachtsstraat 147A, 3022 AL Rotterdam, Netherlands', 'Veldhovenring 2 Tilburg', 'Steenweg 1, 3511 JK Utrecht, Netherlands', 'Kruisweg 68B, 2011 LE Haarlem, Netherlands', 'Jan Heynslaan 149, 5622 KL Eindhoven, Netherlands', 'Nieuwe Nieuwstraat 22HS, 1012 NH Amsterdam, Netherlands', 'Spuistraat 3a, 1012 SP Amsterdam, Netherlands', 'Oudezijds Voorburgwal 64, 1012 GE Amsterdam, Netherlands', 'Nieuwezijds Voorburgwal 87, 1012 RE Amsterdam, Netherlands']\n",
      "\n",
      "reviews_nr\n",
      "[17, 52, 145, 63, 15, 200, 13, 22, 15, 31, 18, 47, 48, 14, 36, 10, 88, 22, 28, 14]\n",
      "\n"
     ]
    }
   ],
   "source": [
    "pprint_by_attr(ubereats_outlet)"
   ]
  },
  {
   "cell_type": "markdown",
   "metadata": {},
   "source": [
    "## Requirements Analysis"
   ]
  },
  {
   "cell_type": "markdown",
   "metadata": {},
   "source": [
    "The minimum requirements are to sort the data by\n",
    "- level (outlet, user, reviews, etc)\n",
    "- country (Spain, France etc)\n",
    "- source (Tripadvisor, Ubereats)"
   ]
  },
  {
   "cell_type": "markdown",
   "metadata": {},
   "source": [
    "### levels"
   ]
  },
  {
   "cell_type": "markdown",
   "metadata": {},
   "source": [
    "There should be at least 4 tables, since there's high similarity of the `outlet` tables, we can merge them to be 1, this will make out later queries much easier.\n",
    "- outlet\n",
    "- user\n",
    "- review\n",
    "- menu"
   ]
  },
  {
   "cell_type": "markdown",
   "metadata": {},
   "source": [
    "#### outlet table\n",
    "- id: (big integer, asc, auto_increment)\n",
    "- id_outlet: str\n",
    "- name: str\n",
    "- source: str(for example, `tripadvisor`, `ubereats`)\n",
    "- address: str\n",
    "- country: (str, 2 characters, lowercase) nomalised country code in alpha_2([pycountry](https://pypi.org/project/pycountry/))\n",
    "- phone: str, NULL if it does not exist\n",
    "- reviews_nr: int\n",
    "- gmt_create:  (big int, datetime in gmt)\n",
    "- gmt_modified: (big int, datetime in gmt)"
   ]
  },
  {
   "cell_type": "code",
   "execution_count": 188,
   "metadata": {},
   "outputs": [
    {
     "data": {
      "text/plain": [
       "({'address': 'No.1 Austin Road West | International Commerce Centre,, Hong Kong, China',\n",
       "  'city': '',\n",
       "  'country': 'China',\n",
       "  'cuisines': 'Bar',\n",
       "  'features': 'Outdoor Seating, Seating, Parking Available, Validated Parking, Valet Parking, Serves Alcohol, Full Bar, Accepts American Express, Accepts Mastercard, Accepts Visa, Free Wifi, Reservations, Wheelchair Accessible, Accepts Credit Cards, Table Service, Wine and Beer, Live Music',\n",
       "  'id_outlet': 'https://www.tripadvisor.com/Restaurant_Review-g294217-d2198231-Reviews-OZONE-Hong_Kong.html',\n",
       "  'lat': 22.303398,\n",
       "  'lon': 114.16018700000001,\n",
       "  'menu': '',\n",
       "  'name': 'OZONE',\n",
       "  'opening_hours': '',\n",
       "  'phone': '+852 2263 2270',\n",
       "  'postal_code': '',\n",
       "  'price_level': '$$$$',\n",
       "  'price_range': '£24 - £118',\n",
       "  'rating': 4.5,\n",
       "  'region': '',\n",
       "  'reviews_nr': 3970.0,\n",
       "  'special_diets': '',\n",
       "  'street': 'No.1 Austin Road West International Commerce Centre,',\n",
       "  'tags': 'All reviews ; brunch ; tapas ; highest bar in the world ; the ritz carlton ; dom perignon ; clear night ; icc building ; view of hong kong ; great drinks ; spectacular views ; rooftop bar ; light show ; top floor ; victoria harbour ; free flow ; visiting hong kong ; jd ; ',\n",
       "  'url': 'https://www.tripadvisor.com/Restaurant_Review-g294217-d2198231-Reviews-OZONE-Hong_Kong.html',\n",
       "  'website': 'http://www.ritzncarlton.com/en/Properties/HongKAong/Ddining/Ddefault.htm8?utm_source=tripadvisori&utm_medium=referral'},\n",
       " {'id_outlet': '133789486375935476627406684831438871941',\n",
       "  'country': 'NL',\n",
       "  'name': 'De IJsmaker Witte de Withstraat',\n",
       "  'address': 'Witte De Withstraat 7a, 3012',\n",
       "  'reviews_nr': 17})"
      ]
     },
     "execution_count": 188,
     "metadata": {},
     "output_type": "execute_result"
    }
   ],
   "source": [
    "tripadvisor_outlet[0], ubereats_outlet[0]"
   ]
  },
  {
   "cell_type": "code",
   "execution_count": 240,
   "metadata": {},
   "outputs": [
    {
     "name": "stdout",
     "output_type": "stream",
     "text": [
      "Collecting pycountry\n",
      "  Downloading pycountry-20.7.3.tar.gz (10.1 MB)\n",
      "\u001b[K     |████████████████████████████████| 10.1 MB 803 kB/s eta 0:00:01\n",
      "\u001b[?25hBuilding wheels for collected packages: pycountry\n",
      "  Building wheel for pycountry (setup.py) ... \u001b[?25ldone\n",
      "\u001b[?25h  Created wheel for pycountry: filename=pycountry-20.7.3-py2.py3-none-any.whl size=10746865 sha256=e09126d015c25ee95ef35cdf0948085fcd6778a426a044d27e8ff383ff2cf012\n",
      "  Stored in directory: /Users/dorsey.xu/Library/Caches/pip/wheels/09/eb/0d/4ee773c6a4aadc2a43cb5c1d07f268f13c4cdc0eec88e7c1ef\n",
      "Successfully built pycountry\n",
      "Installing collected packages: pycountry\n",
      "Successfully installed pycountry-20.7.3\n",
      "Note: you may need to restart the kernel to use updated packages.\n"
     ]
    }
   ],
   "source": [
    "%pip install pycountry"
   ]
  },
  {
   "cell_type": "code",
   "execution_count": 241,
   "metadata": {},
   "outputs": [],
   "source": [
    "import pycountry\n",
    "country_raw = 'China'"
   ]
  },
  {
   "cell_type": "code",
   "execution_count": 249,
   "metadata": {},
   "outputs": [],
   "source": [
    "def name_to_alpha_2_lower(name: str):\n",
    "    country = pycountry.countries.get(name=name)\n",
    "    return country.alpha_2.lower()"
   ]
  },
  {
   "cell_type": "code",
   "execution_count": 250,
   "metadata": {},
   "outputs": [
    {
     "data": {
      "text/plain": [
       "'cn'"
      ]
     },
     "execution_count": 250,
     "metadata": {},
     "output_type": "execute_result"
    }
   ],
   "source": [
    "name_to_alpha_2_lower(country_raw)"
   ]
  },
  {
   "cell_type": "code",
   "execution_count": 251,
   "metadata": {},
   "outputs": [
    {
     "data": {
      "text/plain": [
       "'us'"
      ]
     },
     "execution_count": 251,
     "metadata": {},
     "output_type": "execute_result"
    }
   ],
   "source": [
    "name_to_alpha_2_lower('United States')"
   ]
  },
  {
   "cell_type": "markdown",
   "metadata": {},
   "source": [
    "#### user table"
   ]
  },
  {
   "cell_type": "markdown",
   "metadata": {},
   "source": [
    "- id: auto big integer\n",
    "- user: str\n",
    "- source: (str) user and source should uniquely identify a user\n",
    "- likes: double default 0\n",
    "- reviews: int"
   ]
  },
  {
   "cell_type": "code",
   "execution_count": 198,
   "metadata": {},
   "outputs": [
    {
     "data": {
      "text/plain": [
       "{'user': 'Anastasia9992015',\n",
       " 'address': 'Vladivostok, Russia',\n",
       " 'reviews': 149,\n",
       " 'likes': 68.0}"
      ]
     },
     "execution_count": 198,
     "metadata": {},
     "output_type": "execute_result"
    }
   ],
   "source": [
    "tripadvisor_user[0]"
   ]
  },
  {
   "cell_type": "code",
   "execution_count": 199,
   "metadata": {},
   "outputs": [
    {
     "name": "stdout",
     "output_type": "stream",
     "text": [
      "[68.0, 136.0, 32.0, 229.0, 779.0, 55.0, 64.0, 7.0, 26.0, 22.0, 55.0, 128.0, 26.0, 17.0, '', 3.0, 35.0, 1.0, 28.0, '', 184.0, '', '', 6.0, 40.0, 5.0, 10.0, 2.0, 5.0, 2.0, 82.0, 21.0, '', 2.0, 17.0, '', 16.0, 6.0, '', 57.0, '', 50.0, 3.0, 5.0, 5.0, 2.0, 3.0, '', 3.0, 89.0, '', 1.0, 1.0, '', 14.0, 6.0, 2.0, 15.0, 23.0, '', 104.0, 11.0, 37.0, 20.0, 20.0, 160.0, 15.0, 97.0, 9.0, 11.0, 1.0, 19.0, 229.0, 20.0, 2.0, 21.0, 172.0, 5.0, 25.0, 4.0, 23.0, 20.0, 2.0, 12.0, 86.0, 2.0, 31.0, 280.0, '', 47.0, 33.0, 52.0, 18.0, 4.0, 31.0, 35.0, '', 12.0, 3.0, 186.0]\n"
     ]
    }
   ],
   "source": [
    "by_attr(tripadvisor_user, 'likes')"
   ]
  },
  {
   "cell_type": "markdown",
   "metadata": {},
   "source": [
    "#### review table"
   ]
  },
  {
   "cell_type": "markdown",
   "metadata": {},
   "source": [
    "- id: (big int, auto increment, primary key)\n",
    "- user: big int, foreign key\n",
    "- outlet_id: (big int, FK) the id of the outlet, the outlet table should be created in advance\n",
    "- date: (date) the original string should be converted use the `convert_date` function\n",
    "- review: str\n",
    "- rating: double"
   ]
  },
  {
   "cell_type": "code",
   "execution_count": 200,
   "metadata": {},
   "outputs": [
    {
     "data": {
      "text/plain": [
       "{'body': 'Visited Capo with a business colleague.  Due to shipping issues, none of the Italian beer was available.  The wine was affordably priced; that being said, it was only available by the bottle.  Not that kind of evening.  Started with the Bruschetta.  The toppings were fresh...More',\n",
       " 'date': 'January 15, 2018',\n",
       " 'url': 'https://www.tripadvisor.com/Restaurant_Review-g294217-d10089430-Reviews-Capo-Hong_Kong.html',\n",
       " 'user': 'bobwK5197LB',\n",
       " 'rating': 3.0,\n",
       " 'id_outlet': 'https://www.tripadvisor.com/Restaurant_Review-g294217-d10089430-Reviews-Capo-Hong_Kong.html',\n",
       " 'traveler_type': 'Business'}"
      ]
     },
     "execution_count": 200,
     "metadata": {},
     "output_type": "execute_result"
    }
   ],
   "source": [
    "tripadvisor_reviews[0]"
   ]
  },
  {
   "cell_type": "code",
   "execution_count": 211,
   "metadata": {},
   "outputs": [
    {
     "name": "stdout",
     "output_type": "stream",
     "text": [
      "['https://www.tripadvisor.com/Restaurant_Review-g294217-d10089430-Reviews-Capo-Hong_Kong.html', 'https://www.tripadvisor.com/Restaurant_Review-g294217-d788642-Reviews-The_Peak_Lookout-Hong_Kong.html', 'https://www.tripadvisor.com/Restaurant_Review-g294217-d2161545-Reviews-Tosca_di_Angelo-Hong_Kong.html', 'https://www.tripadvisor.com/Restaurant_Review-g294217-d2433070-Reviews-Tango_Argentinian_Steak_House-Hong_Kong.html', 'https://www.tripadvisor.com/Restaurant_Review-g294217-d1880782-Reviews-Carpaccio_Pasta_Pizza_Vino-Hong_Kong.html', 'https://www.tripadvisor.com/Restaurant_Review-g294217-d2399904-Reviews-Tin_Lung_Heen-Hong_Kong.html', 'https://www.tripadvisor.com/Restaurant_Review-g294217-d2198231-Reviews-OZONE-Hong_Kong.html', 'https://www.tripadvisor.com/Restaurant_Review-g294217-d6579151-Reviews-Mott_32-Hong_Kong.html', 'https://www.tripadvisor.com/Restaurant_Review-g294217-d1024986-Reviews-NOBU_InterContinental_Hong_Kong-Hong_Kong.html', 'https://www.tripadvisor.com/Restaurant_Review-g294217-d7808139-Reviews-Braza_Churrascaria_Brazilian_Steakhouse-Hong_Kong.html', 'https://www.tripadvisor.com/Restaurant_Review-g294217-d3602180-Reviews-22_Ships-Hong_Kong.html', 'https://www.tripadvisor.com/Restaurant_Review-g294217-d2276403-Reviews-Bistecca_Italian_Steak_House-Hong_Kong.html', 'https://www.tripadvisor.com/Restaurant_Review-g294217-d2198231-Reviews-OZONE-Hong_Kong.html', 'https://www.tripadvisor.com/Restaurant_Review-g294217-d799250-Reviews-Bombay_Dreams-Hong_Kong.html', 'https://www.tripadvisor.com/Restaurant_Review-g294217-d2198231-Reviews-OZONE-Hong_Kong.html', 'https://www.tripadvisor.com/Restaurant_Review-g294217-d912108-Reviews-Caprice_Central-Hong_Kong.html', 'https://www.tripadvisor.com/Restaurant_Review-g294217-d799250-Reviews-Bombay_Dreams-Hong_Kong.html', 'https://www.tripadvisor.com/Restaurant_Review-g294217-d6579151-Reviews-Mott_32-Hong_Kong.html', 'https://www.tripadvisor.com/Restaurant_Review-g294217-d1052864-Reviews-Sevva-Hong_Kong.html', 'https://www.tripadvisor.com/Restaurant_Review-g294217-d6579151-Reviews-Mott_32-Hong_Kong.html', 'https://www.tripadvisor.com/Restaurant_Review-g294217-d2540306-Reviews-One_Dim_Sum_Chinese_Restaurant-Hong_Kong.html', 'https://www.tripadvisor.com/Restaurant_Review-g294217-d1792423-Reviews-Man_Wah-Hong_Kong.html', 'https://www.tripadvisor.com/Restaurant_Review-g294217-d2165749-Reviews-AL_MOLO_RISTORANTE_ITALIANO_Michael_White-Hong_Kong.html', 'https://www.tripadvisor.com/Restaurant_Review-g294217-d1024986-Reviews-NOBU_InterContinental_Hong_Kong-Hong_Kong.html', 'https://www.tripadvisor.com/Restaurant_Review-g294217-d788642-Reviews-The_Peak_Lookout-Hong_Kong.html', 'https://www.tripadvisor.com/Restaurant_Review-g294217-d8353573-Reviews-Scarlett_Cafe_Wine_Bar-Hong_Kong.html', 'https://www.tripadvisor.com/Restaurant_Review-g294217-d1482758-Reviews-Lobby_Lounge_InterContinental_Hong_Kong-Hong_Kong.html', 'https://www.tripadvisor.com/Restaurant_Review-g294217-d2390123-Reviews-Above_and_Beyond-Hong_Kong.html', 'https://www.tripadvisor.com/Restaurant_Review-g294217-d927163-Reviews-Yan_Toh_Heen_InterContinental_Hong_Kong-Hong_Kong.html', 'https://www.tripadvisor.com/Restaurant_Review-g294217-d2198231-Reviews-OZONE-Hong_Kong.html', 'https://www.tripadvisor.com/Restaurant_Review-g294217-d2433070-Reviews-Tango_Argentinian_Steak_House-Hong_Kong.html', 'https://www.tripadvisor.com/Restaurant_Review-g294217-d1880782-Reviews-Carpaccio_Pasta_Pizza_Vino-Hong_Kong.html', 'https://www.tripadvisor.com/Restaurant_Review-g294217-d2198231-Reviews-OZONE-Hong_Kong.html', 'https://www.tripadvisor.com/Restaurant_Review-g294217-d2706744-Reviews-Din_Tai_Fung_Yee_Wo_Branch-Hong_Kong.html', 'https://www.tripadvisor.com/Restaurant_Review-g294217-d2706744-Reviews-Din_Tai_Fung_Yee_Wo_Branch-Hong_Kong.html', 'https://www.tripadvisor.com/Restaurant_Review-g294217-d6579151-Reviews-Mott_32-Hong_Kong.html', 'https://www.tripadvisor.com/Restaurant_Review-g294217-d2514791-Reviews-The_Market-Hong_Kong.html', 'https://www.tripadvisor.com/Restaurant_Review-g294217-d1024986-Reviews-NOBU_InterContinental_Hong_Kong-Hong_Kong.html', 'https://www.tripadvisor.com/Restaurant_Review-g294217-d2540306-Reviews-One_Dim_Sum_Chinese_Restaurant-Hong_Kong.html', 'https://www.tripadvisor.com/Restaurant_Review-g294217-d2276403-Reviews-Bistecca_Italian_Steak_House-Hong_Kong.html', 'https://www.tripadvisor.com/Restaurant_Review-g294217-d2276403-Reviews-Bistecca_Italian_Steak_House-Hong_Kong.html', 'https://www.tripadvisor.com/Restaurant_Review-g294217-d1952785-Reviews-Delaney_s_Kowloon_Irish_Bar-Hong_Kong.html', 'https://www.tripadvisor.com/Restaurant_Review-g294217-d1792423-Reviews-Man_Wah-Hong_Kong.html', 'https://www.tripadvisor.com/Restaurant_Review-g294217-d3600498-Reviews-Cafe_103-Hong_Kong.html', 'https://www.tripadvisor.com/Restaurant_Review-g294217-d927163-Reviews-Yan_Toh_Heen_InterContinental_Hong_Kong-Hong_Kong.html', 'https://www.tripadvisor.com/Restaurant_Review-g294217-d2706744-Reviews-Din_Tai_Fung_Yee_Wo_Branch-Hong_Kong.html', 'https://www.tripadvisor.com/Restaurant_Review-g294217-d939504-Reviews-Amber-Hong_Kong.html', 'https://www.tripadvisor.com/Restaurant_Review-g294217-d8353573-Reviews-Scarlett_Cafe_Wine_Bar-Hong_Kong.html', 'https://www.tripadvisor.com/Restaurant_Review-g294217-d939504-Reviews-Amber-Hong_Kong.html', 'https://www.tripadvisor.com/Restaurant_Review-g294217-d1052864-Reviews-Sevva-Hong_Kong.html', 'https://www.tripadvisor.com/Restaurant_Review-g294217-d2161545-Reviews-Tosca_di_Angelo-Hong_Kong.html', 'https://www.tripadvisor.com/Restaurant_Review-g294217-d1952785-Reviews-Delaney_s_Kowloon_Irish_Bar-Hong_Kong.html', 'https://www.tripadvisor.com/Restaurant_Review-g294217-d2706744-Reviews-Din_Tai_Fung_Yee_Wo_Branch-Hong_Kong.html', 'https://www.tripadvisor.com/Restaurant_Review-g294217-d2166297-Reviews-The_Lounge_Bar-Hong_Kong.html', 'https://www.tripadvisor.com/Restaurant_Review-g294217-d6579151-Reviews-Mott_32-Hong_Kong.html', 'https://www.tripadvisor.com/Restaurant_Review-g294217-d786786-Reviews-Isola_Bar_Grill-Hong_Kong.html', 'https://www.tripadvisor.com/Restaurant_Review-g294217-d1052864-Reviews-Sevva-Hong_Kong.html', 'https://www.tripadvisor.com/Restaurant_Review-g294217-d2540306-Reviews-One_Dim_Sum_Chinese_Restaurant-Hong_Kong.html', 'https://www.tripadvisor.com/Restaurant_Review-g294217-d1027723-Reviews-Clipper_Lounge-Hong_Kong.html', 'https://www.tripadvisor.com/Restaurant_Review-g294217-d1052864-Reviews-Sevva-Hong_Kong.html', 'https://www.tripadvisor.com/Restaurant_Review-g294217-d788642-Reviews-The_Peak_Lookout-Hong_Kong.html', 'https://www.tripadvisor.com/Restaurant_Review-g294217-d2390123-Reviews-Above_and_Beyond-Hong_Kong.html', 'https://www.tripadvisor.com/Restaurant_Review-g294217-d941989-Reviews-Mandarin_Grill_Bar_at_Mandarin_Oriental_Hong_Kong-Hong_Kong.html', 'https://www.tripadvisor.com/Restaurant_Review-g294217-d7808139-Reviews-Braza_Churrascaria_Brazilian_Steakhouse-Hong_Kong.html', 'https://www.tripadvisor.com/Restaurant_Review-g294217-d2276403-Reviews-Bistecca_Italian_Steak_House-Hong_Kong.html', 'https://www.tripadvisor.com/Restaurant_Review-g294217-d2198231-Reviews-OZONE-Hong_Kong.html', 'https://www.tripadvisor.com/Restaurant_Review-g294217-d1792423-Reviews-Man_Wah-Hong_Kong.html', 'https://www.tripadvisor.com/Restaurant_Review-g294217-d1027723-Reviews-Clipper_Lounge-Hong_Kong.html', 'https://www.tripadvisor.com/Restaurant_Review-g294217-d786786-Reviews-Isola_Bar_Grill-Hong_Kong.html', 'https://www.tripadvisor.com/Restaurant_Review-g294217-d2198231-Reviews-OZONE-Hong_Kong.html', 'https://www.tripadvisor.com/Restaurant_Review-g294217-d799250-Reviews-Bombay_Dreams-Hong_Kong.html', 'https://www.tripadvisor.com/Restaurant_Review-g294217-d1952785-Reviews-Delaney_s_Kowloon_Irish_Bar-Hong_Kong.html', 'https://www.tripadvisor.com/Restaurant_Review-g294217-d1952785-Reviews-Delaney_s_Kowloon_Irish_Bar-Hong_Kong.html', 'https://www.tripadvisor.com/Restaurant_Review-g294217-d1880782-Reviews-Carpaccio_Pasta_Pizza_Vino-Hong_Kong.html', 'https://www.tripadvisor.com/Restaurant_Review-g294217-d1811943-Reviews-Cafe_Gray_Deluxe-Hong_Kong.html', 'https://www.tripadvisor.com/Restaurant_Review-g294217-d2161545-Reviews-Tosca_di_Angelo-Hong_Kong.html', 'https://www.tripadvisor.com/Restaurant_Review-g294217-d1952785-Reviews-Delaney_s_Kowloon_Irish_Bar-Hong_Kong.html', 'https://www.tripadvisor.com/Restaurant_Review-g294217-d788642-Reviews-The_Peak_Lookout-Hong_Kong.html', 'https://www.tripadvisor.com/Restaurant_Review-g294217-d2166297-Reviews-The_Lounge_Bar-Hong_Kong.html', 'https://www.tripadvisor.com/Restaurant_Review-g294217-d2540306-Reviews-One_Dim_Sum_Chinese_Restaurant-Hong_Kong.html', 'https://www.tripadvisor.com/Restaurant_Review-g294217-d10089430-Reviews-Capo-Hong_Kong.html', 'https://www.tripadvisor.com/Restaurant_Review-g294217-d2165749-Reviews-AL_MOLO_RISTORANTE_ITALIANO_Michael_White-Hong_Kong.html', 'https://www.tripadvisor.com/Restaurant_Review-g294217-d1024986-Reviews-NOBU_InterContinental_Hong_Kong-Hong_Kong.html', 'https://www.tripadvisor.com/Restaurant_Review-g294217-d6579151-Reviews-Mott_32-Hong_Kong.html', 'https://www.tripadvisor.com/Restaurant_Review-g294217-d2540306-Reviews-One_Dim_Sum_Chinese_Restaurant-Hong_Kong.html', 'https://www.tripadvisor.com/Restaurant_Review-g294217-d2166297-Reviews-The_Lounge_Bar-Hong_Kong.html', 'https://www.tripadvisor.com/Restaurant_Review-g294217-d1880782-Reviews-Carpaccio_Pasta_Pizza_Vino-Hong_Kong.html', 'https://www.tripadvisor.com/Restaurant_Review-g294217-d2540306-Reviews-One_Dim_Sum_Chinese_Restaurant-Hong_Kong.html', 'https://www.tripadvisor.com/Restaurant_Review-g294217-d2706744-Reviews-Din_Tai_Fung_Yee_Wo_Branch-Hong_Kong.html', 'https://www.tripadvisor.com/Restaurant_Review-g294217-d2399904-Reviews-Tin_Lung_Heen-Hong_Kong.html', 'https://www.tripadvisor.com/Restaurant_Review-g294217-d6579151-Reviews-Mott_32-Hong_Kong.html', 'https://www.tripadvisor.com/Restaurant_Review-g294217-d2198231-Reviews-OZONE-Hong_Kong.html', 'https://www.tripadvisor.com/Restaurant_Review-g294217-d2166297-Reviews-The_Lounge_Bar-Hong_Kong.html', 'https://www.tripadvisor.com/Restaurant_Review-g294217-d927163-Reviews-Yan_Toh_Heen_InterContinental_Hong_Kong-Hong_Kong.html', 'https://www.tripadvisor.com/Restaurant_Review-g294217-d2706744-Reviews-Din_Tai_Fung_Yee_Wo_Branch-Hong_Kong.html', 'https://www.tripadvisor.com/Restaurant_Review-g294217-d10089430-Reviews-Capo-Hong_Kong.html', 'https://www.tripadvisor.com/Restaurant_Review-g294217-d938999-Reviews-Peking_Garden_Restaurant_Alexandra_House-Hong_Kong.html', 'https://www.tripadvisor.com/Restaurant_Review-g294217-d8353573-Reviews-Scarlett_Cafe_Wine_Bar-Hong_Kong.html', 'https://www.tripadvisor.com/Restaurant_Review-g294217-d2399904-Reviews-Tin_Lung_Heen-Hong_Kong.html', 'https://www.tripadvisor.com/Restaurant_Review-g294217-d2165749-Reviews-AL_MOLO_RISTORANTE_ITALIANO_Michael_White-Hong_Kong.html']\n",
      "['https://www.tripadvisor.com/Restaurant_Review-g294217-d2198231-Reviews-OZONE-Hong_Kong.html', 'https://www.tripadvisor.com/Restaurant_Review-g294217-d1745792-Reviews-Tim_Ho_Wan_the_Dim_Sum_Specialists-Hong_Kong.html', 'https://www.tripadvisor.com/Restaurant_Review-g294217-d779644-Reviews-Aqua_Roma_Aqua_Tokyo_Aqua_Spirit-Hong_Kong.html', 'https://www.tripadvisor.com/Restaurant_Review-g294217-d2540306-Reviews-One_Dim_Sum_Chinese_Restaurant-Hong_Kong.html', 'https://www.tripadvisor.com/Restaurant_Review-g294217-d2706744-Reviews-Din_Tai_Fung_Yee_Wo_Branch-Hong_Kong.html', 'https://www.tripadvisor.com/Restaurant_Review-g294217-d1367659-Reviews-Hutong-Hong_Kong.html', 'https://www.tripadvisor.com/Restaurant_Review-g294217-d2422144-Reviews-Tim_Ho_Wan_Central-Hong_Kong.html', 'https://www.tripadvisor.com/Restaurant_Review-g294217-d776832-Reviews-Australia_Dairy_Company-Hong_Kong.html', 'https://www.tripadvisor.com/Restaurant_Review-g294217-d5400408-Reviews-Din_Tai_Fung_Silvercord-Hong_Kong.html', 'https://www.tripadvisor.com/Restaurant_Review-g294217-d785057-Reviews-Yung_Kee_Restaurant-Hong_Kong.html', 'https://www.tripadvisor.com/Restaurant_Review-g294217-d878088-Reviews-The_Lobby_at_the_Peninsula_Hong_Kong-Hong_Kong.html', 'https://www.tripadvisor.com/Restaurant_Review-g294217-d1207531-Reviews-Jumbo_Kingdom_Floating_Restaurant-Hong_Kong.html', 'https://www.tripadvisor.com/Restaurant_Review-g294217-d1811943-Reviews-Cafe_Gray_Deluxe-Hong_Kong.html', 'https://www.tripadvisor.com/Restaurant_Review-g294217-d799966-Reviews-Bubba_Gump_Shrimp_Co-Hong_Kong.html', 'https://www.tripadvisor.com/Restaurant_Review-g294217-d2399904-Reviews-Tin_Lung_Heen-Hong_Kong.html', 'https://www.tripadvisor.com/Restaurant_Review-g294217-d3749262-Reviews-Tim_Ho_Wan_Sham_Shui_Po-Hong_Kong.html', 'https://www.tripadvisor.com/Restaurant_Review-g294217-d798091-Reviews-City_Hall_Maxim_s_Palace-Hong_Kong.html', 'https://www.tripadvisor.com/Restaurant_Review-g294217-d943734-Reviews-Spring_Deer-Hong_Kong.html', 'https://www.tripadvisor.com/Restaurant_Review-g294217-d6579151-Reviews-Mott_32-Hong_Kong.html', 'https://www.tripadvisor.com/Restaurant_Review-g294217-d2161545-Reviews-Tosca_di_Angelo-Hong_Kong.html', 'https://www.tripadvisor.com/Restaurant_Review-g294217-d2166297-Reviews-The_Lounge_Bar-Hong_Kong.html', 'https://www.tripadvisor.com/Restaurant_Review-g294217-d8353573-Reviews-Scarlett_Cafe_Wine_Bar-Hong_Kong.html', 'https://www.tripadvisor.com/Restaurant_Review-g294217-d1892540-Reviews-Wooloomooloo_Steakhouse_Wan_Chai-Hong_Kong.html', 'https://www.tripadvisor.com/Restaurant_Review-g294217-d1024986-Reviews-NOBU_InterContinental_Hong_Kong-Hong_Kong.html', 'https://www.tripadvisor.com/Restaurant_Review-g294217-d940224-Reviews-Felix-Hong_Kong.html', 'https://www.tripadvisor.com/Restaurant_Review-g294217-d6758068-Reviews-Ho_Lee_Fook-Hong_Kong.html', 'https://www.tripadvisor.com/Restaurant_Review-g294217-d841139-Reviews-Zuma-Hong_Kong.html', 'https://www.tripadvisor.com/Restaurant_Review-g294217-d939504-Reviews-Amber-Hong_Kong.html', 'https://www.tripadvisor.com/Restaurant_Review-g294217-d7808139-Reviews-Braza_Churrascaria_Brazilian_Steakhouse-Hong_Kong.html', 'https://www.tripadvisor.com/Restaurant_Review-g294217-d3749223-Reviews-Yat_Lok_Restaurant-Hong_Kong.html', 'https://www.tripadvisor.com/Restaurant_Review-g294217-d6894266-Reviews-Kam_s_Roast_Goose-Hong_Kong.html', 'https://www.tripadvisor.com/Restaurant_Review-g294217-d1062729-Reviews-Lung_King_Heen-Hong_Kong.html', 'https://www.tripadvisor.com/Restaurant_Review-g294217-d1527741-Reviews-Lin_Heung_Tea_House-Hong_Kong.html', 'https://www.tripadvisor.com/Restaurant_Review-g294217-d2534180-Reviews-Dim_Sum_Square-Hong_Kong.html', 'https://www.tripadvisor.com/Restaurant_Review-g294217-d919498-Reviews-Mak_s_Noodle_Mak_Un_Kee-Hong_Kong.html', 'https://www.tripadvisor.com/Restaurant_Review-g294217-d3171948-Reviews-DimDimSum_Dim_Sum_Specialty_Store_Wan_Chai-Hong_Kong.html', 'https://www.tripadvisor.com/Restaurant_Review-g294217-d795044-Reviews-Kau_Kee_Restaurant-Hong_Kong.html', 'https://www.tripadvisor.com/Restaurant_Review-g294217-d799832-Reviews-Kam_Wah_Cafe-Hong_Kong.html', 'https://www.tripadvisor.com/Restaurant_Review-g294217-d786130-Reviews-The_Sweet_Dynasty_Tsim_Sha_Tsui-Hong_Kong.html', 'https://www.tripadvisor.com/Restaurant_Review-g294217-d7050211-Reviews-Bread_Street_Kitchen-Hong_Kong.html', 'https://www.tripadvisor.com/Restaurant_Review-g294217-d799899-Reviews-Tai_Cheong_Bakery-Hong_Kong.html', 'https://www.tripadvisor.com/Restaurant_Review-g294217-d1052864-Reviews-Sevva-Hong_Kong.html', 'https://www.tripadvisor.com/Restaurant_Review-g294217-d6739503-Reviews-Ding_Dim_1968-Hong_Kong.html', 'https://www.tripadvisor.com/Restaurant_Review-g294217-d10089430-Reviews-Capo-Hong_Kong.html', 'https://www.tripadvisor.com/Restaurant_Review-g294217-d2514791-Reviews-The_Market-Hong_Kong.html', 'https://www.tripadvisor.com/Restaurant_Review-g294217-d1755975-Reviews-Tsui_Wah_Restaurant_Pak_Hoi_Street_Shop-Hong_Kong.html', 'https://www.tripadvisor.com/Restaurant_Review-g294217-d912108-Reviews-Caprice_Central-Hong_Kong.html', 'https://www.tripadvisor.com/Restaurant_Review-g294217-d816324-Reviews-Crystal_Jade_La_Mian_Xiao_Long_Bao_Gateway_Arcade-Hong_Kong.html', 'https://www.tripadvisor.com/Restaurant_Review-g294217-d844402-Reviews-Morton_s_The_Steakhouse-Hong_Kong.html', 'https://www.tripadvisor.com/Restaurant_Review-g294217-d2390123-Reviews-Above_and_Beyond-Hong_Kong.html', 'https://www.tripadvisor.com/Restaurant_Review-g294217-d809453-Reviews-L_Atelier_de_Joel_Robuchon-Hong_Kong.html', 'https://www.tripadvisor.com/Restaurant_Review-g294217-d7289468-Reviews-Pirata-Hong_Kong.html', 'https://www.tripadvisor.com/Restaurant_Review-g294217-d3309467-Reviews-DimDimSum_Dim_Sum_Specialty_Store_Mong_Kok-Hong_Kong.html', 'https://www.tripadvisor.com/Restaurant_Review-g294217-d788642-Reviews-The_Peak_Lookout-Hong_Kong.html', 'https://www.tripadvisor.com/Restaurant_Review-g294217-d1320779-Reviews-Hard_Rock_Cafe_Hong_Kong-Hong_Kong.html', 'https://www.tripadvisor.com/Restaurant_Review-g294217-d1100137-Reviews-Spasso_Italian_Bar_Restaurant-Hong_Kong.html', 'https://www.tripadvisor.com/Restaurant_Review-g294217-d1094369-Reviews-Tsim_Chai_Kee_Noodle_Wellington_Street-Hong_Kong.html', 'https://www.tripadvisor.com/Restaurant_Review-g294217-d798374-Reviews-Tsui_Wah_Restaurant-Hong_Kong.html', 'https://www.tripadvisor.com/Restaurant_Review-g294217-d799250-Reviews-Bombay_Dreams-Hong_Kong.html', 'https://www.tripadvisor.com/Restaurant_Review-g294217-d786786-Reviews-Isola_Bar_Grill-Hong_Kong.html', 'https://www.tripadvisor.com/Restaurant_Review-g294217-d941989-Reviews-Mandarin_Grill_Bar_at_Mandarin_Oriental_Hong_Kong-Hong_Kong.html', 'https://www.tripadvisor.com/Restaurant_Review-g294217-d1196158-Reviews-Hui_Lau_Shan-Hong_Kong.html', 'https://www.tripadvisor.com/Restaurant_Review-g294217-d1089734-Reviews-Under_the_Bridge_Spicy_Crab-Hong_Kong.html', 'https://www.tripadvisor.com/Restaurant_Review-g294217-d2276403-Reviews-Bistecca_Italian_Steak_House-Hong_Kong.html', 'https://www.tripadvisor.com/Restaurant_Review-g294217-d1546043-Reviews-Luk_Yu_Tea_House-Hong_Kong.html', 'https://www.tripadvisor.com/Restaurant_Review-g294217-d2017430-Reviews-Peking_Garden_Tsim_Sha_Tsui-Hong_Kong.html', 'https://www.tripadvisor.com/Restaurant_Review-g294217-d927163-Reviews-Yan_Toh_Heen_InterContinental_Hong_Kong-Hong_Kong.html', 'https://www.tripadvisor.com/Restaurant_Review-g294217-d1955748-Reviews-Wooloomooloo_Prime_Tsim_Sha_Tsui-Hong_Kong.html', 'https://www.tripadvisor.com/Restaurant_Review-g294217-d1799916-Reviews-Kitchen_W_Hotel_Hong_Kong-Hong_Kong.html', 'https://www.tripadvisor.com/Restaurant_Review-g294217-d2437900-Reviews-DimDimSum_Dim_Sum_Specialty_Store_Jordan-Hong_Kong.html', 'https://www.tripadvisor.com/Restaurant_Review-g294217-d6951944-Reviews-Jamie_s_Italian-Hong_Kong.html', 'https://www.tripadvisor.com/Restaurant_Review-g294217-d2017661-Reviews-Lin_Heung_Kui-Hong_Kong.html', 'https://www.tripadvisor.com/Restaurant_Review-g294217-d938999-Reviews-Peking_Garden_Restaurant_Alexandra_House-Hong_Kong.html', 'https://www.tripadvisor.com/Restaurant_Review-g294217-d2433070-Reviews-Tango_Argentinian_Steak_House-Hong_Kong.html', 'https://www.tripadvisor.com/Restaurant_Review-g294217-d1792423-Reviews-Man_Wah-Hong_Kong.html', 'https://www.tripadvisor.com/Restaurant_Review-g294217-d1482758-Reviews-Lobby_Lounge_InterContinental_Hong_Kong-Hong_Kong.html', 'https://www.tripadvisor.com/Restaurant_Review-g294217-d800834-Reviews-Mak_Man_Kee_Noodle_Shop-Hong_Kong.html', 'https://www.tripadvisor.com/Restaurant_Review-g294217-d1094822-Reviews-Ming_Court_Cordis_Hong_Kong-Hong_Kong.html', 'https://www.tripadvisor.com/Restaurant_Review-g294217-d1098376-Reviews-The_Pawn-Hong_Kong.html', 'https://www.tripadvisor.com/Restaurant_Review-g294217-d793034-Reviews-Harbourside_Restaurant-Hong_Kong.html', 'https://www.tripadvisor.com/Restaurant_Review-g294217-d1952785-Reviews-Delaney_s_Kowloon_Irish_Bar-Hong_Kong.html', 'https://www.tripadvisor.com/Restaurant_Review-g294217-d3602180-Reviews-22_Ships-Hong_Kong.html', 'https://www.tripadvisor.com/Restaurant_Review-g294217-d1027723-Reviews-Clipper_Lounge-Hong_Kong.html', 'https://www.tripadvisor.com/Restaurant_Review-g294217-d11621345-Reviews-Tim_Ho_Wan-Hong_Kong.html', 'https://www.tripadvisor.com/Restaurant_Review-g294217-d799819-Reviews-Nathan_Congee_And_Noodle-Hong_Kong.html', 'https://www.tripadvisor.com/Restaurant_Review-g294217-d2165749-Reviews-AL_MOLO_RISTORANTE_ITALIANO_Michael_White-Hong_Kong.html', 'https://www.tripadvisor.com/Restaurant_Review-g294217-d2719190-Reviews-Sang_Kee_Congee_Shop-Hong_Kong.html', 'https://www.tripadvisor.com/Restaurant_Review-g294217-d2423554-Reviews-8_1_2_Otto_e_Mezzo_Bombana-Hong_Kong.html', 'https://www.tripadvisor.com/Restaurant_Review-g294217-d6420711-Reviews-Little_Bao-Hong_Kong.html', 'https://www.tripadvisor.com/Restaurant_Review-g294217-d4928934-Reviews-Canton_s_Dim_Sum_Expert_Tsim_Sha_Tsui-Hong_Kong.html', 'https://www.tripadvisor.com/Restaurant_Review-g294217-d3600498-Reviews-Cafe_103-Hong_Kong.html', 'https://www.tripadvisor.com/Restaurant_Review-g294217-d799972-Reviews-Gaylord_Indian_Restaurant-Hong_Kong.html', 'https://www.tripadvisor.com/Restaurant_Review-g294217-d1023200-Reviews-T_ang_Court_The_Langham_Hong_Kong-Hong_Kong.html', 'https://www.tripadvisor.com/Restaurant_Review-g294217-d1880782-Reviews-Carpaccio_Pasta_Pizza_Vino-Hong_Kong.html', 'https://www.tripadvisor.com/Restaurant_Review-g294217-d4361851-Reviews-Motorino_SoHo-Hong_Kong.html', 'https://www.tripadvisor.com/Restaurant_Review-g294217-d1776480-Reviews-BLT_Steak_Ocean_Terminal-Hong_Kong.html', 'https://www.tripadvisor.com/Restaurant_Review-g294217-d793088-Reviews-Bo_Innovation-Hong_Kong.html', 'https://www.tripadvisor.com/Restaurant_Review-g294217-d1811458-Reviews-Ho_Hung_Kee-Hong_Kong.html', 'https://www.tripadvisor.com/Restaurant_Review-g294217-d779820-Reviews-Lan_Fong_Yuen_Central-Hong_Kong.html', 'https://www.tripadvisor.com/Restaurant_Review-g294217-d3927685-Reviews-Tai_Ping_Koon_Restaurant_Mau_Lam_Street-Hong_Kong.html']\n",
      "id_common:  ['https://www.tripadvisor.com/Restaurant_Review-g294217-d1052864-Reviews-Sevva-Hong_Kong.html', 'https://www.tripadvisor.com/Restaurant_Review-g294217-d3600498-Reviews-Cafe_103-Hong_Kong.html', 'https://www.tripadvisor.com/Restaurant_Review-g294217-d7808139-Reviews-Braza_Churrascaria_Brazilian_Steakhouse-Hong_Kong.html', 'https://www.tripadvisor.com/Restaurant_Review-g294217-d2706744-Reviews-Din_Tai_Fung_Yee_Wo_Branch-Hong_Kong.html', 'https://www.tripadvisor.com/Restaurant_Review-g294217-d2399904-Reviews-Tin_Lung_Heen-Hong_Kong.html', 'https://www.tripadvisor.com/Restaurant_Review-g294217-d8353573-Reviews-Scarlett_Cafe_Wine_Bar-Hong_Kong.html', 'https://www.tripadvisor.com/Restaurant_Review-g294217-d2433070-Reviews-Tango_Argentinian_Steak_House-Hong_Kong.html', 'https://www.tripadvisor.com/Restaurant_Review-g294217-d788642-Reviews-The_Peak_Lookout-Hong_Kong.html', 'https://www.tripadvisor.com/Restaurant_Review-g294217-d3602180-Reviews-22_Ships-Hong_Kong.html', 'https://www.tripadvisor.com/Restaurant_Review-g294217-d2161545-Reviews-Tosca_di_Angelo-Hong_Kong.html', 'https://www.tripadvisor.com/Restaurant_Review-g294217-d939504-Reviews-Amber-Hong_Kong.html', 'https://www.tripadvisor.com/Restaurant_Review-g294217-d1952785-Reviews-Delaney_s_Kowloon_Irish_Bar-Hong_Kong.html', 'https://www.tripadvisor.com/Restaurant_Review-g294217-d1027723-Reviews-Clipper_Lounge-Hong_Kong.html', 'https://www.tripadvisor.com/Restaurant_Review-g294217-d1811943-Reviews-Cafe_Gray_Deluxe-Hong_Kong.html', 'https://www.tripadvisor.com/Restaurant_Review-g294217-d10089430-Reviews-Capo-Hong_Kong.html', 'https://www.tripadvisor.com/Restaurant_Review-g294217-d938999-Reviews-Peking_Garden_Restaurant_Alexandra_House-Hong_Kong.html', 'https://www.tripadvisor.com/Restaurant_Review-g294217-d2165749-Reviews-AL_MOLO_RISTORANTE_ITALIANO_Michael_White-Hong_Kong.html', 'https://www.tripadvisor.com/Restaurant_Review-g294217-d2276403-Reviews-Bistecca_Italian_Steak_House-Hong_Kong.html', 'https://www.tripadvisor.com/Restaurant_Review-g294217-d2166297-Reviews-The_Lounge_Bar-Hong_Kong.html', 'https://www.tripadvisor.com/Restaurant_Review-g294217-d2198231-Reviews-OZONE-Hong_Kong.html', 'https://www.tripadvisor.com/Restaurant_Review-g294217-d1792423-Reviews-Man_Wah-Hong_Kong.html', 'https://www.tripadvisor.com/Restaurant_Review-g294217-d927163-Reviews-Yan_Toh_Heen_InterContinental_Hong_Kong-Hong_Kong.html', 'https://www.tripadvisor.com/Restaurant_Review-g294217-d912108-Reviews-Caprice_Central-Hong_Kong.html', 'https://www.tripadvisor.com/Restaurant_Review-g294217-d799250-Reviews-Bombay_Dreams-Hong_Kong.html', 'https://www.tripadvisor.com/Restaurant_Review-g294217-d1880782-Reviews-Carpaccio_Pasta_Pizza_Vino-Hong_Kong.html', 'https://www.tripadvisor.com/Restaurant_Review-g294217-d1482758-Reviews-Lobby_Lounge_InterContinental_Hong_Kong-Hong_Kong.html', 'https://www.tripadvisor.com/Restaurant_Review-g294217-d2514791-Reviews-The_Market-Hong_Kong.html', 'https://www.tripadvisor.com/Restaurant_Review-g294217-d2390123-Reviews-Above_and_Beyond-Hong_Kong.html', 'https://www.tripadvisor.com/Restaurant_Review-g294217-d6579151-Reviews-Mott_32-Hong_Kong.html', 'https://www.tripadvisor.com/Restaurant_Review-g294217-d941989-Reviews-Mandarin_Grill_Bar_at_Mandarin_Oriental_Hong_Kong-Hong_Kong.html', 'https://www.tripadvisor.com/Restaurant_Review-g294217-d2540306-Reviews-One_Dim_Sum_Chinese_Restaurant-Hong_Kong.html', 'https://www.tripadvisor.com/Restaurant_Review-g294217-d1024986-Reviews-NOBU_InterContinental_Hong_Kong-Hong_Kong.html', 'https://www.tripadvisor.com/Restaurant_Review-g294217-d786786-Reviews-Isola_Bar_Grill-Hong_Kong.html']\n"
     ]
    },
    {
     "data": {
      "text/plain": [
       "(True, False)"
      ]
     },
     "execution_count": 211,
     "metadata": {},
     "output_type": "execute_result"
    }
   ],
   "source": [
    "id_review = by_attr(tripadvisor_reviews, 'id_outlet');\n",
    "id_outlet = by_attr(tripadvisor_outlet, 'id_outlet');\n",
    "id_common = [id for id in id_review if id in id_outlet];\n",
    "print(\"id_common: \", id_common)\n",
    "len(id_review)  == len(id_common), len(id_outlet) == len(id_common)"
   ]
  },
  {
   "cell_type": "code",
   "execution_count": 213,
   "metadata": {},
   "outputs": [
    {
     "name": "stdout",
     "output_type": "stream",
     "text": [
      "['January 15, 2018', 'January 27, 2017', 'April 9, 2016', 'July 17, 2013', 'April 15, 2019', 'October 17, 2016', 'January 10, 2018', 'January 5, 2015', 'February 7, 2016', 'August 27, 2016', 'April 20, 2016', 'March 10, 2019', 'September 14, 2015', 'May 11, 2016', 'May 18, 2014', 'September 25, 2018', 'May 11, 2019', 'May 4, 2016', 'June 28, 2017', 'September 11, 2017', 'September 16, 2016', 'August 18, 2012', 'May 29, 2016', 'June 21, 2018', 'November 11, 2013', 'June 9, 2019', 'April 26, 2014', 'January 7, 2017', 'November 5, 2018', 'October 20, 2016', 'September 10, 2016', 'February 3, 2018', 'March 2, 2017', 'April 30, 2013', 'May 16, 2017', 'June 6, 2017', 'January 9, 2018', 'March 30, 2016', 'November 8, 2016', 'February 20, 2019', 'March 15, 2018', 'April 17, 2016', 'February 20, 2018', 'March 26, 2017', 'November 23, 2017', 'November 23, 2014', 'June 24, 2016', 'March 5, 2019', 'June 1, 2017', 'July 27, 2016', 'June 8, 2018', 'January 7, 2015', 'February 21, 2015', 'June 8, 2017', 'December 21, 2017', 'May 14, 2014', 'May 18, 2012', 'October 19, 2017', 'July 19, 2019', 'January 9, 2014', 'October 9, 2015', 'May 17, 2016', 'January 16, 2016', 'July 31, 2016', 'May 27, 2014', 'August 14, 2015', 'October 8, 2018', 'November 11, 2017', 'September 3, 2018', 'July 28, 2017', 'January 23, 2018', 'September 30, 2016', 'October 3, 2016', 'May 5, 2018', 'October 27, 2018', 'August 20, 2014', 'May 2, 2019', 'July 19, 2017', 'August 27, 2019', 'May 1, 2016', 'January 10, 2018', 'December 11, 2017', 'July 4, 2015', 'May 20, 2018', 'July 28, 2019', 'June 25, 2016', 'October 10, 2018', 'January 2, 2017', 'March 2, 2017', 'December 13, 2017', 'June 13, 2017', 'April 11, 2016', 'October 22, 2017', 'June 23, 2019', 'April 3, 2015', 'February 14, 2017', 'December 30, 2016', 'February 9, 2019', 'May 9, 2014', 'February 23, 2017']\n"
     ]
    }
   ],
   "source": [
    "dates = by_attr(tripadvisor_reviews, 'date')"
   ]
  },
  {
   "cell_type": "code",
   "execution_count": 214,
   "metadata": {},
   "outputs": [
    {
     "data": {
      "text/plain": [
       "'June 1, 2017'"
      ]
     },
     "execution_count": 214,
     "metadata": {},
     "output_type": "execute_result"
    }
   ],
   "source": [
    "date = dates[0]\n",
    "date"
   ]
  },
  {
   "cell_type": "code",
   "execution_count": 215,
   "metadata": {},
   "outputs": [],
   "source": [
    "import datetime"
   ]
  },
  {
   "cell_type": "code",
   "execution_count": 230,
   "metadata": {},
   "outputs": [],
   "source": [
    "def convert_date(date):\n",
    "    month_day, year = date.split(', ')\n",
    "    month_raw, day_raw = month_day.split()\n",
    "    month = str(datetime.datetime.strptime(month_raw, \"%B\").month).rjust(2, '0')\n",
    "    day = day_raw.rjust(2, '0')\n",
    "    return \"{}-{}-{}\".format(year,month,day)"
   ]
  },
  {
   "cell_type": "code",
   "execution_count": 231,
   "metadata": {},
   "outputs": [
    {
     "data": {
      "text/plain": [
       "'2017-06-01'"
      ]
     },
     "execution_count": 231,
     "metadata": {},
     "output_type": "execute_result"
    }
   ],
   "source": [
    "convert_date(date)"
   ]
  },
  {
   "cell_type": "code",
   "execution_count": 234,
   "metadata": {},
   "outputs": [
    {
     "data": {
      "text/plain": [
       "['2017-06-01',\n",
       " '2019-04-15',\n",
       " '2018-02-20',\n",
       " '2018-10-10',\n",
       " '2019-05-02',\n",
       " '2017-06-28',\n",
       " '2018-09-25',\n",
       " '2019-06-09',\n",
       " '2018-01-23',\n",
       " '2019-02-09',\n",
       " '2018-10-27',\n",
       " '2017-12-11',\n",
       " '2019-06-23',\n",
       " '2016-11-08',\n",
       " '2017-11-11',\n",
       " '2017-02-14',\n",
       " '2016-09-10',\n",
       " '2015-08-14',\n",
       " '2015-04-03',\n",
       " '2019-02-20',\n",
       " '2017-10-22',\n",
       " '2016-04-17',\n",
       " '2017-09-11',\n",
       " '2017-12-21',\n",
       " '2013-07-17',\n",
       " '2016-04-09',\n",
       " '2019-03-05',\n",
       " '2014-01-09',\n",
       " '2016-10-17',\n",
       " '2016-09-30',\n",
       " '2016-10-20',\n",
       " '2016-05-17',\n",
       " '2014-04-26',\n",
       " '2012-08-18',\n",
       " '2018-05-20',\n",
       " '2016-05-29',\n",
       " '2015-01-07',\n",
       " '2017-11-23',\n",
       " '2016-09-16',\n",
       " '2018-01-10',\n",
       " '2018-06-21',\n",
       " '2016-04-20',\n",
       " '2014-08-20',\n",
       " '2016-12-30',\n",
       " '2017-07-19',\n",
       " '2016-04-11',\n",
       " '2015-07-04',\n",
       " '2017-03-26',\n",
       " '2014-05-09',\n",
       " '2012-05-18',\n",
       " '2019-07-28',\n",
       " '2015-01-05',\n",
       " '2019-07-19',\n",
       " '2017-01-07',\n",
       " '2017-10-19',\n",
       " '2016-06-24',\n",
       " '2014-05-27',\n",
       " '2019-05-11',\n",
       " '2016-05-04',\n",
       " '2017-06-13',\n",
       " '2016-05-11',\n",
       " '2016-07-31',\n",
       " '2016-01-16',\n",
       " '2018-09-03',\n",
       " '2014-11-23',\n",
       " '2016-02-07',\n",
       " '2015-02-21',\n",
       " '2018-05-05',\n",
       " '2016-07-27',\n",
       " '2019-08-27',\n",
       " '2017-06-08',\n",
       " '2018-03-15',\n",
       " '2013-11-11',\n",
       " '2018-11-05',\n",
       " '2018-06-08',\n",
       " '2016-06-25',\n",
       " '2017-12-13',\n",
       " '2016-03-30',\n",
       " '2018-02-03',\n",
       " '2015-10-09',\n",
       " '2017-03-02',\n",
       " '2015-09-14',\n",
       " '2014-05-14',\n",
       " '2017-01-27',\n",
       " '2017-02-23',\n",
       " '2018-10-08',\n",
       " '2016-10-03',\n",
       " '2017-05-16',\n",
       " '2017-01-02',\n",
       " '2016-05-01',\n",
       " '2017-06-06',\n",
       " '2013-04-30',\n",
       " '2018-01-09',\n",
       " '2016-08-27',\n",
       " '2017-07-28',\n",
       " '2014-05-18',\n",
       " '2018-01-15',\n",
       " '2019-03-10']"
      ]
     },
     "execution_count": 234,
     "metadata": {},
     "output_type": "execute_result"
    }
   ],
   "source": [
    "dates_converted = [convert_date(date) for date in dates]\n",
    "dates_converted"
   ]
  },
  {
   "cell_type": "markdown",
   "metadata": {},
   "source": [
    "#### Menu table"
   ]
  },
  {
   "cell_type": "markdown",
   "metadata": {},
   "source": [
    "- id: (big int, auto-increment, primary-key)\n",
    "- outlet_id: (auto big int, FK)find it from the outlet table\n",
    "- brand: (str)\n",
    "- price: (double)\n",
    "- volume: (int), convert to int, if unknown, set to 0 if `unknown`\n",
    "- name: (str)"
   ]
  },
  {
   "cell_type": "code",
   "execution_count": 235,
   "metadata": {},
   "outputs": [
    {
     "data": {
      "text/plain": [
       "{'id_outlet': '49902879992629236407831306704091856908',\n",
       " 'name': 'Fuze Tea sparkling',\n",
       " 'brand': 'Fuze Tea',\n",
       " 'price': 1.95,\n",
       " 'volume': '250'}"
      ]
     },
     "execution_count": 235,
     "metadata": {},
     "output_type": "execute_result"
    }
   ],
   "source": [
    "ubereats_menu[0]"
   ]
  },
  {
   "cell_type": "code",
   "execution_count": 253,
   "metadata": {},
   "outputs": [
    {
     "name": "stdout",
     "output_type": "stream",
     "text": [
      "[1.95, 1.95, 1.95, 1.95, 1.95, 1.95, 3.95, 1.95, 3.49, 3.95, 1.95, 3.95, 1.95, 1.95, 3.5, 5.0, 2.5, 5.0, 2.5, 2.5, 3.5, 2.5, 2.5, 2.5, 2.6, 2.6, 2.6, 2.6, 3.5, 2.6, 2.6, 2.6, 2.0, 2.0, 3.0, 3.0, 3.0, 3.0, 3.0, 3.0, 3.0, 3.0, 3.0, 2.0, 2.0, 3.0, 2.0, 2.0, 2.0, 2.0, 11.5, 2.25, 11.5, 2.25, 2.7, 2.25, 3.0, 2.25, 4.0, 2.75, 2.25, 3.75, 2.0, 2.0, 2.5, 3.75, 2.0, 2.0, 3.75, 2.3, 40.0, 17.0, 3.0, 81.99, 65.0, 78.0, 12.0, 1.5, 1.5, 1.5, 1.5, 2.5, 3.0, 40.0, 3.0, 2.3, 2.5, 17.0, 85.99, 50.0, 15.0, 78.0, 12.0, 27.0, 65.0, 1.5, 3.5, 1.5, 1.75, 1.75, 1.75, 2.5, 1.75, 1.75, 2.0, 2.0, 2.0, 2.0, 2.0, 2.0, 2.0, 2.5, 2.0, 2.0, 2.0, 2.0, 2.0, 2.0, 2.0, 2.0, 2.5, 2.0, 2.0, 2.0, 3.25, 1.75, 1.75, 1.75, 1.75, 2.0, 2.0, 1.75, 1.75, 4.0, 4.0, 4.0, 4.0, 2.5, 2.0, 2.0, 2.0, 2.0, 2.5, 2.5, 2.0, 2.5, 2.0, 2.0, 2.5, 2.5, 2.5, 2.0, 2.5, 2.0, 2.0, 5.5, 3.5, 5.5, 5.5, 65.0, 10.0, 5.5, 11.5, 5.0, 4.0, None, 60.0, 10.0, 60.0, 6.5, None, 4.5, 10.0, 4.5, 10.0, 80.0, 10.0, 10.0, 60.0, None, None, 16.5, 10.0, None]\n"
     ]
    }
   ],
   "source": [
    "_ = by_attr(ubereats_menu, 'price')"
   ]
  },
  {
   "cell_type": "code",
   "execution_count": 237,
   "metadata": {},
   "outputs": [
    {
     "name": "stdout",
     "output_type": "stream",
     "text": [
      "['250', '250', '330', '500', '330', '330', '1500', '330', '250', '1500', '330', '1500', '330', '330', '250', '330', '500', '330', '500', '330', '250', '330', '330', '330', '500', '500', '500', '500', '500', '500', '500', 'unknown', 'unknown', 'unknown', 'unknown', 'unknown', 'unknown', 'unknown', 'unknown', 'unknown', 'unknown', 'unknown', 'unknown', 'unknown', 'unknown', 'unknown', '330', 'unknown', 'unknown', 'unknown', '500', '500', '500', '500', 'unknown', 'unknown', 'unknown', 'unknown', '1750', '500', 'unknown', 'unknown', 'unknown', 'unknown', 'unknown', 'unknown', 'unknown', 'unknown', 'unknown', '330', '330', '500', '500', '500', '500', '330', '330', 'unknown', 'unknown', 'unknown', 'unknown', 'unknown', 'unknown', '330', '500', '330', '250', '500', '500', '250', '250', '330', '330', '250', '500', 'unknown', '1500', 'unknown', 'unknown', 'unknown', 'unknown', 'unknown', 'unknown', 'unknown', 'unknown', 'unknown', '330', '330', '330', 'unknown', 'unknown', 'unknown', 'unknown', '330', '330', '330', 'unknown', 'unknown', 'unknown', 'unknown', 'unknown', 'unknown', 'unknown', 'unknown', 'unknown', 'unknown', 'unknown', 'unknown', 'unknown', 'unknown', 'unknown', '440', 'unknown', '330', '330', '330', '330', '330', '330', '330', '330', 'unknown', 'unknown', 'unknown', 'unknown', 'unknown', 'unknown', 'unknown', 'unknown', '500', '500', 'unknown', '500', 'unknown', 'unknown', 'unknown', 'unknown', 'unknown', 'unknown', '1000', 'unknown', 'unknown', 'unknown', 'unknown', 'unknown', 'unknown', '1000', 'unknown', '1000', 'unknown', 'unknown', 'unknown', 'unknown', 'unknown', 'unknown', '1000', 'unknown', 'unknown', '1000', 'unknown', 'unknown', 'unknown', 'unknown', 'unknown']\n"
     ]
    },
    {
     "data": {
      "text/plain": [
       "['250', 'unknown', '440', '1000', '1500', '330', '1750', '500']"
      ]
     },
     "execution_count": 237,
     "metadata": {},
     "output_type": "execute_result"
    }
   ],
   "source": [
    "by_attr(ubereats_menu, 'volume')"
   ]
  },
  {
   "cell_type": "code",
   "execution_count": 239,
   "metadata": {},
   "outputs": [
    {
     "name": "stdout",
     "output_type": "stream",
     "text": [
      "['49902879992629236407831306704091856908', '49902879992629236407831306704091856908', '49902879992629236407831306704091856908', '49902879992629236407831306704091856908', '49902879992629236407831306704091856908', '49902879992629236407831306704091856908', '49902879992629236407831306704091856908', '49902879992629236407831306704091856908', '49902879992629236407831306704091856908', '49902879992629236407831306704091856908', '49902879992629236407831306704091856908', '49902879992629236407831306704091856908', '49902879992629236407831306704091856908', '49902879992629236407831306704091856908', '283294963221695236170763356367199286448', '283294963221695236170763356367199286448', '283294963221695236170763356367199286448', '283294963221695236170763356367199286448', '283294963221695236170763356367199286448', '283294963221695236170763356367199286448', '283294963221695236170763356367199286448', '283294963221695236170763356367199286448', '283294963221695236170763356367199286448', '283294963221695236170763356367199286448', '327257783106451358954447114691995086169', '327257783106451358954447114691995086169', '327257783106451358954447114691995086169', '327257783106451358954447114691995086169', '327257783106451358954447114691995086169', '327257783106451358954447114691995086169', '327257783106451358954447114691995086169', '327257783106451358954447114691995086169', '314032653973337478450144404494058558532', '314032653973337478450144404494058558532', '321365545283542343578744113965592435892', '321365545283542343578744113965592435892', '321365545283542343578744113965592435892', '127048456998651170056736953480857736328', '127048456998651170056736953480857736328', '127048456998651170056736953480857736328', '127048456998651170056736953480857736328', '127048456998651170056736953480857736328', '127048456998651170056736953480857736328', '165997420050571885484241233202539084755', '165997420050571885484241233202539084755', '165997420050571885484241233202539084755', '165997420050571885484241233202539084755', '165997420050571885484241233202539084755', '165997420050571885484241233202539084755', '165997420050571885484241233202539084755', '33417390446481492604604940052101658935', '33417390446481492604604940052101658935', '33417390446481492604604940052101658935', '33417390446481492604604940052101658935', '33417390446481492604604940052101658935', '33417390446481492604604940052101658935', '33417390446481492604604940052101658935', '33417390446481492604604940052101658935', '33417390446481492604604940052101658935', '33417390446481492604604940052101658935', '33417390446481492604604940052101658935', '47002041566522905200636609827711769647', '47002041566522905200636609827711769647', '47002041566522905200636609827711769647', '47002041566522905200636609827711769647', '47002041566522905200636609827711769647', '47002041566522905200636609827711769647', '47002041566522905200636609827711769647', '47002041566522905200636609827711769647', '91943224646241056385634118768695280437', '91943224646241056385634118768695280437', '91943224646241056385634118768695280437', '91943224646241056385634118768695280437', '91943224646241056385634118768695280437', '91943224646241056385634118768695280437', '91943224646241056385634118768695280437', '91943224646241056385634118768695280437', '91943224646241056385634118768695280437', '91943224646241056385634118768695280437', '91943224646241056385634118768695280437', '91943224646241056385634118768695280437', '91943224646241056385634118768695280437', '91943224646241056385634118768695280437', '91943224646241056385634118768695280437', '91943224646241056385634118768695280437', '91943224646241056385634118768695280437', '91943224646241056385634118768695280437', '91943224646241056385634118768695280437', '91943224646241056385634118768695280437', '91943224646241056385634118768695280437', '91943224646241056385634118768695280437', '91943224646241056385634118768695280437', '91943224646241056385634118768695280437', '91943224646241056385634118768695280437', '91943224646241056385634118768695280437', '91943224646241056385634118768695280437', '91943224646241056385634118768695280437', '91943224646241056385634118768695280437', '252651641282346579703164237318735593936', '252651641282346579703164237318735593936', '252651641282346579703164237318735593936', '252651641282346579703164237318735593936', '252651641282346579703164237318735593936', '252651641282346579703164237318735593936', '63562601146806588372772564799565949887', '63562601146806588372772564799565949887', '63562601146806588372772564799565949887', '63562601146806588372772564799565949887', '63562601146806588372772564799565949887', '63562601146806588372772564799565949887', '63562601146806588372772564799565949887', '63562601146806588372772564799565949887', '63562601146806588372772564799565949887', '63562601146806588372772564799565949887', '63562601146806588372772564799565949887', '63562601146806588372772564799565949887', '297652528638499107975531520877353140589', '297652528638499107975531520877353140589', '297652528638499107975531520877353140589', '297652528638499107975531520877353140589', '297652528638499107975531520877353140589', '297652528638499107975531520877353140589', '297652528638499107975531520877353140589', '297652528638499107975531520877353140589', '54510679703893206233253810796548733693', '190196191040961587160782732334856784888', '190196191040961587160782732334856784888', '190196191040961587160782732334856784888', '190196191040961587160782732334856784888', '190196191040961587160782732334856784888', '190196191040961587160782732334856784888', '190196191040961587160782732334856784888', '190196191040961587160782732334856784888', '147604685768551105643067051820075670330', '147604685768551105643067051820075670330', '147604685768551105643067051820075670330', '147604685768551105643067051820075670330', '35881379350896673743352998569627830528', '35881379350896673743352998569627830528', '35881379350896673743352998569627830528', '35881379350896673743352998569627830528', '67256766394334269099759147717171913478', '67256766394334269099759147717171913478', '67256766394334269099759147717171913478', '67256766394334269099759147717171913478', '67256766394334269099759147717171913478', '67256766394334269099759147717171913478', '67256766394334269099759147717171913478', '67256766394334269099759147717171913478', '67256766394334269099759147717171913478', '67256766394334269099759147717171913478', '67256766394334269099759147717171913478', '67256766394334269099759147717171913478', '67256766394334269099759147717171913478', '67256766394334269099759147717171913478', '174781837695277235773315022668535172434', '174781837695277235773315022668535172434', '174781837695277235773315022668535172434', '174781837695277235773315022668535172434', '174781837695277235773315022668535172434', '174781837695277235773315022668535172434', '174781837695277235773315022668535172434', '174781837695277235773315022668535172434', '174781837695277235773315022668535172434', '174781837695277235773315022668535172434', '174781837695277235773315022668535172434', '174781837695277235773315022668535172434', '174781837695277235773315022668535172434', '174781837695277235773315022668535172434', '174781837695277235773315022668535172434', '174781837695277235773315022668535172434', '174781837695277235773315022668535172434', '174781837695277235773315022668535172434', '174781837695277235773315022668535172434', '174781837695277235773315022668535172434', '174781837695277235773315022668535172434', '174781837695277235773315022668535172434', '174781837695277235773315022668535172434', '174781837695277235773315022668535172434', '174781837695277235773315022668535172434', '174781837695277235773315022668535172434', '174781837695277235773315022668535172434', '174781837695277235773315022668535172434', '174781837695277235773315022668535172434']\n",
      "['133789486375935476627406684831438871941', '49902879992629236407831306704091856908', '283294963221695236170763356367199286448', '327257783106451358954447114691995086169', '314032653973337478450144404494058558532', '321365545283542343578744113965592435892', '127048456998651170056736953480857736328', '165997420050571885484241233202539084755', '33417390446481492604604940052101658935', '47002041566522905200636609827711769647', '91943224646241056385634118768695280437', '252651641282346579703164237318735593936', '63562601146806588372772564799565949887', '297652528638499107975531520877353140589', '54510679703893206233253810796548733693', '190196191040961587160782732334856784888', '147604685768551105643067051820075670330', '35881379350896673743352998569627830528', '67256766394334269099759147717171913478', '174781837695277235773315022668535172434']\n"
     ]
    },
    {
     "data": {
      "text/plain": [
       "True"
      ]
     },
     "execution_count": 239,
     "metadata": {},
     "output_type": "execute_result"
    }
   ],
   "source": [
    "menu_outlet_id = by_attr(ubereats_menu, 'id_outlet')\n",
    "outlet_outlet_id = by_attr(ubereats_outlet, 'id_outlet')\n",
    "[] == [outlet_id for outlet_id in menu_outlet_id if outlet_id not in outlet_outlet_id] "
   ]
  }
 ],
 "metadata": {
  "kernelspec": {
   "display_name": "Python 3",
   "language": "python",
   "name": "python3"
  },
  "language_info": {
   "codemirror_mode": {
    "name": "ipython",
    "version": 3
   },
   "file_extension": ".py",
   "mimetype": "text/x-python",
   "name": "python",
   "nbconvert_exporter": "python",
   "pygments_lexer": "ipython3",
   "version": "3.8.5"
  }
 },
 "nbformat": 4,
 "nbformat_minor": 4
}
